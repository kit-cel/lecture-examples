{
 "cells": [
  {
   "cell_type": "markdown",
   "metadata": {},
   "source": [
    "# PyTorch Tutorial - Part 1\n",
    "\n",
    "This code is provided as supplementary material of the lecture Machine Learning and Optimization in Communications (MLOC).<br>\n",
    "\n",
    "This code illustrates\n",
    "* Get accustomed to the basics of pytorch \n",
    "* Do simple operations"
   ]
  },
  {
   "cell_type": "code",
   "execution_count": 2,
   "metadata": {},
   "outputs": [
    {
     "name": "stdout",
     "output_type": "stream",
     "text": [
      "We are using the following device for learning: cpu\n"
     ]
    }
   ],
   "source": [
    "import torch\n",
    "import numpy as np\n",
    "\n",
    "device = 'cuda' if torch.cuda.is_available() else 'cpu'\n",
    "print(\"We are using the following device for learning:\",device)"
   ]
  },
  {
   "cell_type": "markdown",
   "metadata": {},
   "source": [
    "Generate some tensors, convert to float, and copy them to the device (possibly the GPU). Then carry out an operation with the tensors and print the result. "
   ]
  },
  {
   "cell_type": "code",
   "execution_count": 3,
   "metadata": {},
   "outputs": [
    {
     "name": "stdout",
     "output_type": "stream",
     "text": [
      "tensor([1., 2., 3.])\n",
      "tensor([5., 6., 7.])\n",
      "tensor([ 5., 12., 21.])\n"
     ]
    }
   ],
   "source": [
    "a = torch.tensor([1,2,3]).float().to(device)\n",
    "b = torch.tensor([5,6,7]).float().to(device)\n",
    "result = a * b\n",
    "print(a)\n",
    "print(b)\n",
    "print(result)"
   ]
  },
  {
   "cell_type": "markdown",
   "metadata": {},
   "source": [
    "We can see that the objects `a`, `b`, and `c` are pyTorch tensors that also carry the result as such.  We have built a *computation graph* linking variables `a` and `b` to the `result` via the (element-wise) multiplication and have the result immediately ready. "
   ]
  },
  {
   "cell_type": "code",
   "execution_count": 6,
   "metadata": {},
   "outputs": [
    {
     "name": "stdout",
     "output_type": "stream",
     "text": [
      "tensor([[-0.2350, -0.0184, -0.1093,  0.8630],\n",
      "        [ 0.7927,  1.0190,  0.9225,  0.0544]])\n"
     ]
    }
   ],
   "source": [
    "# generate a random number vector\n",
    "d = np.random.randn(2,4)\n",
    "\n",
    "# construct a pytorch tensor from numpy array\n",
    "e = torch.from_numpy(d).float().to(device)\n",
    "print(e)"
   ]
  },
  {
   "cell_type": "code",
   "execution_count": null,
   "metadata": {},
   "outputs": [],
   "source": []
  }
 ],
 "metadata": {
  "kernelspec": {
   "display_name": "Python 3",
   "language": "python",
   "name": "python3"
  },
  "language_info": {
   "codemirror_mode": {
    "name": "ipython",
    "version": 3
   },
   "file_extension": ".py",
   "mimetype": "text/x-python",
   "name": "python",
   "nbconvert_exporter": "python",
   "pygments_lexer": "ipython3",
   "version": "3.7.6"
  }
 },
 "nbformat": 4,
 "nbformat_minor": 4
}
