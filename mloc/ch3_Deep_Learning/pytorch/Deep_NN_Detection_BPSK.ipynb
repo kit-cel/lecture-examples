{
 "cells": [
  {
   "cell_type": "markdown",
   "metadata": {
    "pycharm": {}
   },
   "source": [
    "#  BPSK Demodulation in Nonlinear Channels with Deep Neural Networks\n",
    "\n",
    "This code is provided as supplementary material of the lecture Machine Learning and Optimization in Communications (MLOC).<br>\n",
    "\n",
    "This code illustrates:\n",
    "* demodulation of BPSK symbols in highly nonlinear channels using an artificial neural network, implemented via PyTorch"
   ]
  },
  {
   "cell_type": "code",
   "execution_count": 1,
   "metadata": {
    "pycharm": {}
   },
   "outputs": [
    {
     "name": "stdout",
     "output_type": "stream",
     "text": [
      "We are using the following device for learning: cuda\n"
     ]
    }
   ],
   "source": [
    "import torch\n",
    "import torch.nn as nn\n",
    "import torch.optim as optim\n",
    "import numpy as np\n",
    "import matplotlib.pyplot as plt\n",
    "from ipywidgets import interactive\n",
    "import ipywidgets as widgets\n",
    "%matplotlib inline \n",
    "\n",
    "device = 'cuda' if torch.cuda.is_available() else 'cpu'\n",
    "print(\"We are using the following device for learning:\",device)"
   ]
  },
  {
   "cell_type": "markdown",
   "metadata": {},
   "source": [
    "Specify the parameters of the transmission as the fiber length $L$ (in km), the fiber nonlinearity coefficienty $\\gamma$ (given in 1/W/km) and the total noise power $P_n$ (given in dBM. The noise is due to amplified spontaneous emission in amplifiers along the link). We assume a model of a dispersion-less fiber affected by nonlinearity. The model, which is described for instance in [1] is given by an iterative application of the equation\n",
    "$$\n",
    "x_{k+1} = x_k\\exp\\left(\\jmath\\frac{L}{K}\\gamma|x_k|^2\\right) + n_{k+1},\\qquad 0 \\leq k < K\n",
    "$$\n",
    "where $x_0$ is the channel input (the modulated, complex symbols) and $x_K$ is the channel output. $K$ denotes the number of steps taken to simulate the channel Usually $K=50$ gives a good approximation.\n",
    "\n",
    "[1] S. Li, C. Häger, N. Garcia, and H. Wymeersch, \"Achievable Information Rates for Nonlinear Fiber Communication via End-to-end Autoencoder Learning,\" Proc. ECOC, Rome, Sep. 2018"
   ]
  },
  {
   "cell_type": "code",
   "execution_count": 25,
   "metadata": {},
   "outputs": [],
   "source": [
    "# Length of transmission (in km)\n",
    "L = 5000\n",
    "\n",
    "# fiber nonlinearity coefficient\n",
    "gamma = 1.27\n",
    "\n",
    "Pn = -21.3 # noise power (in dBm)\n",
    "\n",
    "Kstep = 50 # number of steps used in the channel model\n",
    "\n",
    "def simulate_channel(x, Pin):  \n",
    "    # modulate bpsk\n",
    "    input_power_linear = 10**((Pin-30)/10)\n",
    "    norm_factor = np.sqrt(input_power_linear);\n",
    "    bpsk = (1 - 2*x) * norm_factor\n",
    "\n",
    "    # noise variance per step    \n",
    "    sigma = np.sqrt((10**((Pn-30)/10)) / Kstep / 2)    \n",
    "\n",
    "    temp = np.array(bpsk, copy=True)\n",
    "    for i in range(Kstep):\n",
    "        power = np.absolute(temp)**2\n",
    "        rotcoff = (L / Kstep) * gamma * power\n",
    "        temp = temp * np.exp(1j*rotcoff) + sigma*(np.random.randn(len(x)) + 1j*np.random.randn(len(x)))\n",
    "    return temp"
   ]
  },
  {
   "cell_type": "markdown",
   "metadata": {},
   "source": [
    "We consider BPSK transmission over this channel.\n",
    "\n",
    "Show constellation as a function of the fiber input power. When the input power is small, the effect of the nonlinearity is small (as $\\jmath\\frac{L}{K}\\gamma|x_k|^2 \\approx 0$) and the transmission is dominated by the additive noise. If the input power becomes larger, the effect of the noise (the noise power is constant) becomes less pronounced, but the constellation rotates due to the larger input power and hence effect of the nonlinearity."
   ]
  },
  {
   "cell_type": "code",
   "execution_count": 26,
   "metadata": {},
   "outputs": [
    {
     "data": {
      "application/vnd.jupyter.widget-view+json": {
       "model_id": "bc18e9b68cf34f2299bf2072b063f7d1",
       "version_major": 2,
       "version_minor": 0
      },
      "text/plain": [
       "interactive(children=(FloatSlider(value=1.0, continuous_update=False, description='Input Power Pin (dBm)', lay…"
      ]
     },
     "metadata": {},
     "output_type": "display_data"
    }
   ],
   "source": [
    "length = 5000\n",
    "\n",
    "def plot_constellation(Pin):\n",
    "    t = np.random.randint(2,size=length)\n",
    "    r = simulate_channel(t, Pin)\n",
    "\n",
    "    plt.figure(figsize=(6,6))\n",
    "    font = {'size'   : 14}\n",
    "    plt.rc('font', **font)\n",
    "    plt.rc('text', usetex=True)\n",
    "    plt.scatter(np.real(r), np.imag(r), c=t, cmap='coolwarm')\n",
    "    plt.xlabel(r'$\\Re\\{r\\}$',fontsize=14)\n",
    "    plt.ylabel(r'$\\Im\\{r\\}$',fontsize=14)\n",
    "    plt.axis('equal')\n",
    "    plt.title('Received constellation (L = %d km, $P_{in} = %1.2f$\\,dBm)' % (L, Pin))    \n",
    "    #plt.savefig('bpsk_received_zd_%1.2f.pdf' % Pin,bbox_inches='tight')\n",
    "    \n",
    "interactive_update = interactive(plot_constellation, Pin = widgets.FloatSlider(min=-10.0,max=10.0,step=0.1,value=1, continuous_update=False, description='Input Power Pin (dBm)', style={'description_width': 'initial'}, layout=widgets.Layout(width='50%')))\n",
    "\n",
    "\n",
    "output = interactive_update.children[-1]\n",
    "output.layout.height = '500px'\n",
    "interactive_update"
   ]
  },
  {
   "cell_type": "markdown",
   "metadata": {},
   "source": [
    "Helper function to plot the constellation together with the decision region. Note that a bit is decided as \"1\" if $\\sigma(\\boldsymbol{\\theta}^\\mathrm{T}\\boldsymbol{r}) > \\frac12$, i.e., if $\\boldsymbol{\\theta}^\\mathrm{T}\\boldsymbol{r}$ > 0. The decision line is therefore given by $\\theta_1\\Re\\{r\\} + \\theta_2\\Im\\{r\\} = 0$, i.e., $\\Im\\{r\\} = -\\frac{\\theta_1}{\\theta_2}\\Re\\{r\\}$"
   ]
  },
  {
   "cell_type": "markdown",
   "metadata": {},
   "source": [
    "Generate training, validation and testing data sets"
   ]
  },
  {
   "cell_type": "code",
   "execution_count": 4,
   "metadata": {},
   "outputs": [],
   "source": [
    "# helper function to compute the bit error rate\n",
    "def BER(predictions, labels):\n",
    "    decision = predictions >= 0.5\n",
    "    temp = decision != (labels != 0)\n",
    "    return np.mean(temp)"
   ]
  },
  {
   "cell_type": "code",
   "execution_count": 5,
   "metadata": {
    "pycharm": {}
   },
   "outputs": [],
   "source": [
    "# set input power\n",
    "Pin = 3\n",
    "\n",
    "# validation set. Training examples are generated on the fly\n",
    "N_valid = 100000\n",
    "\n",
    "\n",
    "hidden_neurons_1 = 8\n",
    "hidden_neurons_2 = 14\n",
    "\n",
    "\n",
    "y_valid = np.random.randint(2,size=N_valid)\n",
    "r = simulate_channel(y_valid, Pin)\n",
    "\n",
    "# find extension of data (for normalization and plotting)\n",
    "ext_x = max(abs(np.real(r)))\n",
    "ext_y = max(abs(np.imag(r)))\n",
    "ext_max = max(ext_x,ext_y)*1.2\n",
    "\n",
    "# scale data to be between 0 and 1\n",
    "X_valid = torch.from_numpy(np.column_stack((np.real(r), np.imag(r))) / ext_max).float().to(device)\n",
    "\n",
    "\n",
    "# meshgrid for plotting\n",
    "mgx,mgy = np.meshgrid(np.linspace(-ext_max,ext_max,200), np.linspace(-ext_max,ext_max,200))\n",
    "meshgrid = torch.from_numpy(np.column_stack((np.reshape(mgx,(-1,1)),np.reshape(mgy,(-1,1)))) / ext_max).float().to(device)"
   ]
  },
  {
   "cell_type": "code",
   "execution_count": 7,
   "metadata": {},
   "outputs": [],
   "source": [
    "class Receiver_Network(nn.Module):\n",
    "    def __init__(self, hidden1_neurons, hidden2_neurons):\n",
    "        super(Receiver_Network, self).__init__()\n",
    "        # Linear function, 2 input neurons (real and imaginary part)        \n",
    "        self.fc1 = nn.Linear(2, hidden1_neurons) \n",
    "\n",
    "        # Non-linearity\n",
    "        self.activation_function = nn.ELU()\n",
    "       \n",
    "        # Linear function (hidden layer)\n",
    "        self.fc2 = nn.Linear(hidden1_neurons, hidden2_neurons)  \n",
    "        \n",
    "        # Output function \n",
    "        self.fc3 = nn.Linear(hidden2_neurons, 1)\n",
    "        \n",
    "\n",
    "    def forward(self, x):\n",
    "        # Linear function, first layer\n",
    "        out = self.fc1(x)\n",
    "\n",
    "        # Non-linearity, first layer\n",
    "        out = self.activation_function(out)\n",
    "        \n",
    "        # Linear function, second layer\n",
    "        out = self.fc2(out)\n",
    "        \n",
    "        # Non-linearity, second layer\n",
    "        out = self.activation_function(out)\n",
    "        \n",
    "        # Linear function, third layer\n",
    "        out = self.fc3(out)\n",
    "              \n",
    "        return out"
   ]
  },
  {
   "cell_type": "code",
   "execution_count": 29,
   "metadata": {
    "scrolled": false
   },
   "outputs": [
    {
     "name": "stdout",
     "output_type": "stream",
     "text": [
      "Validation BER after epoch 0: 0.011900 (loss 0.04081550)\n",
      "Validation BER after epoch 1: 0.011880 (loss 0.06237675)\n",
      "Validation BER after epoch 2: 0.011880 (loss 0.05860055)\n",
      "Validation BER after epoch 3: 0.011930 (loss 0.03137892)\n",
      "Validation BER after epoch 4: 0.011840 (loss 0.02328396)\n",
      "Validation BER after epoch 5: 0.011940 (loss 0.01498417)\n",
      "Validation BER after epoch 6: 0.011830 (loss 0.03882520)\n",
      "Validation BER after epoch 7: 0.011960 (loss 0.03213685)\n",
      "Validation BER after epoch 8: 0.011820 (loss 0.03174237)\n",
      "Validation BER after epoch 9: 0.011920 (loss 0.02231092)\n",
      "Validation BER after epoch 10: 0.011950 (loss 0.02508574)\n",
      "Validation BER after epoch 11: 0.011820 (loss 0.03134822)\n",
      "Validation BER after epoch 12: 0.011750 (loss 0.03832325)\n",
      "Validation BER after epoch 13: 0.011900 (loss 0.02572788)\n",
      "Validation BER after epoch 14: 0.011720 (loss 0.04637164)\n",
      "Validation BER after epoch 15: 0.011770 (loss 0.02873223)\n",
      "Validation BER after epoch 16: 0.011630 (loss 0.03887529)\n",
      "Validation BER after epoch 17: 0.011840 (loss 0.02333896)\n",
      "Validation BER after epoch 18: 0.011610 (loss 0.03756538)\n",
      "Validation BER after epoch 19: 0.011410 (loss 0.03302569)\n",
      "Validation BER after epoch 20: 0.011310 (loss 0.03760448)\n",
      "Validation BER after epoch 21: 0.010950 (loss 0.02140117)\n",
      "Validation BER after epoch 22: 0.010600 (loss 0.03338458)\n",
      "Validation BER after epoch 23: 0.009930 (loss 0.03605200)\n",
      "Validation BER after epoch 24: 0.009130 (loss 0.02889551)\n",
      "Validation BER after epoch 25: 0.008240 (loss 0.02857891)\n",
      "Validation BER after epoch 26: 0.007150 (loss 0.01911181)\n",
      "Validation BER after epoch 27: 0.006310 (loss 0.02833870)\n",
      "Validation BER after epoch 28: 0.005170 (loss 0.02069176)\n",
      "Validation BER after epoch 29: 0.004250 (loss 0.01209422)\n",
      "Validation BER after epoch 30: 0.003070 (loss 0.01115703)\n",
      "Validation BER after epoch 31: 0.002530 (loss 0.00821617)\n",
      "Validation BER after epoch 32: 0.002070 (loss 0.00696379)\n",
      "Validation BER after epoch 33: 0.001470 (loss 0.00896005)\n",
      "Validation BER after epoch 34: 0.001170 (loss 0.01304166)\n",
      "Validation BER after epoch 35: 0.000950 (loss 0.01505199)\n",
      "Validation BER after epoch 36: 0.000890 (loss 0.01122363)\n",
      "Validation BER after epoch 37: 0.000830 (loss 0.00267421)\n",
      "Validation BER after epoch 38: 0.000700 (loss 0.00351502)\n",
      "Validation BER after epoch 39: 0.000740 (loss 0.00236395)\n",
      "Validation BER after epoch 40: 0.000670 (loss 0.00355382)\n",
      "Validation BER after epoch 41: 0.000650 (loss 0.00271674)\n",
      "Validation BER after epoch 42: 0.000620 (loss 0.00226128)\n",
      "Validation BER after epoch 43: 0.000570 (loss 0.00334926)\n",
      "Validation BER after epoch 44: 0.000470 (loss 0.01259388)\n",
      "Validation BER after epoch 45: 0.000450 (loss 0.00130147)\n",
      "Validation BER after epoch 46: 0.000390 (loss 0.00182487)\n",
      "Validation BER after epoch 47: 0.000350 (loss 0.00414351)\n",
      "Validation BER after epoch 48: 0.000280 (loss 0.00183806)\n",
      "Validation BER after epoch 49: 0.000270 (loss 0.00908718)\n",
      "Validation BER after epoch 50: 0.000250 (loss 0.00579314)\n",
      "Validation BER after epoch 51: 0.000230 (loss 0.00231978)\n",
      "Validation BER after epoch 52: 0.000210 (loss 0.00087539)\n",
      "Validation BER after epoch 53: 0.000180 (loss 0.00404366)\n",
      "Validation BER after epoch 54: 0.000150 (loss 0.00058311)\n",
      "Validation BER after epoch 55: 0.000150 (loss 0.00061291)\n",
      "Validation BER after epoch 56: 0.000130 (loss 0.00044722)\n",
      "Validation BER after epoch 57: 0.000100 (loss 0.00585709)\n",
      "Validation BER after epoch 58: 0.000090 (loss 0.00067960)\n",
      "Validation BER after epoch 59: 0.000100 (loss 0.00044337)\n",
      "Validation BER after epoch 60: 0.000090 (loss 0.00035334)\n",
      "Validation BER after epoch 61: 0.000070 (loss 0.00148391)\n",
      "Validation BER after epoch 62: 0.000070 (loss 0.00037881)\n",
      "Validation BER after epoch 63: 0.000070 (loss 0.00035939)\n",
      "Validation BER after epoch 64: 0.000070 (loss 0.00143160)\n",
      "Validation BER after epoch 65: 0.000070 (loss 0.00417593)\n",
      "Validation BER after epoch 66: 0.000070 (loss 0.00020876)\n",
      "Validation BER after epoch 67: 0.000070 (loss 0.00017361)\n",
      "Validation BER after epoch 68: 0.000070 (loss 0.00029100)\n",
      "Validation BER after epoch 69: 0.000070 (loss 0.00015851)\n",
      "Validation BER after epoch 70: 0.000070 (loss 0.00011071)\n",
      "Validation BER after epoch 71: 0.000070 (loss 0.00153271)\n",
      "Validation BER after epoch 72: 0.000070 (loss 0.00010566)\n",
      "Validation BER after epoch 73: 0.000060 (loss 0.00013147)\n",
      "Validation BER after epoch 74: 0.000070 (loss 0.00009230)\n",
      "Validation BER after epoch 75: 0.000060 (loss 0.00009838)\n",
      "Validation BER after epoch 76: 0.000060 (loss 0.00010027)\n",
      "Validation BER after epoch 77: 0.000060 (loss 0.00009298)\n",
      "Validation BER after epoch 78: 0.000060 (loss 0.00006186)\n",
      "Validation BER after epoch 79: 0.000060 (loss 0.00017598)\n",
      "Validation BER after epoch 80: 0.000060 (loss 0.00005090)\n",
      "Validation BER after epoch 81: 0.000040 (loss 0.00011124)\n",
      "Validation BER after epoch 82: 0.000060 (loss 0.00006365)\n",
      "Validation BER after epoch 83: 0.000060 (loss 0.00005719)\n",
      "Validation BER after epoch 84: 0.000040 (loss 0.00007591)\n",
      "Validation BER after epoch 85: 0.000060 (loss 0.00005141)\n",
      "Validation BER after epoch 86: 0.000040 (loss 0.00005167)\n",
      "Validation BER after epoch 87: 0.000030 (loss 0.00007741)\n",
      "Validation BER after epoch 88: 0.000040 (loss 0.00010145)\n",
      "Validation BER after epoch 89: 0.000030 (loss 0.00039115)\n",
      "Validation BER after epoch 90: 0.000040 (loss 0.00004980)\n",
      "Validation BER after epoch 91: 0.000030 (loss 0.00006374)\n",
      "Validation BER after epoch 92: 0.000030 (loss 0.00019472)\n",
      "Validation BER after epoch 93: 0.000030 (loss 0.00005862)\n",
      "Validation BER after epoch 94: 0.000030 (loss 0.00005816)\n",
      "Validation BER after epoch 95: 0.000030 (loss 0.00006141)\n",
      "Validation BER after epoch 96: 0.000030 (loss 0.00006563)\n",
      "Validation BER after epoch 97: 0.000030 (loss 0.00003710)\n",
      "Validation BER after epoch 98: 0.000030 (loss 0.00003480)\n",
      "Validation BER after epoch 99: 0.000030 (loss 0.00003560)\n",
      "Validation BER after epoch 100: 0.000030 (loss 0.00002542)\n",
      "Validation BER after epoch 101: 0.000030 (loss 0.00002261)\n",
      "Validation BER after epoch 102: 0.000030 (loss 0.00220603)\n",
      "Validation BER after epoch 103: 0.000020 (loss 0.00003350)\n",
      "Validation BER after epoch 104: 0.000020 (loss 0.00002150)\n",
      "Validation BER after epoch 105: 0.000020 (loss 0.00004899)\n",
      "Validation BER after epoch 106: 0.000030 (loss 0.00003853)\n",
      "Validation BER after epoch 107: 0.000030 (loss 0.00022100)\n",
      "Validation BER after epoch 108: 0.000030 (loss 0.00001859)\n",
      "Validation BER after epoch 109: 0.000030 (loss 0.00001805)\n",
      "Validation BER after epoch 110: 0.000020 (loss 0.00001448)\n",
      "Validation BER after epoch 111: 0.000020 (loss 0.00002760)\n",
      "Validation BER after epoch 112: 0.000030 (loss 0.00109210)\n",
      "Validation BER after epoch 113: 0.000020 (loss 0.00001632)\n",
      "Validation BER after epoch 114: 0.000020 (loss 0.00001698)\n",
      "Validation BER after epoch 115: 0.000030 (loss 0.00001269)\n",
      "Validation BER after epoch 116: 0.000020 (loss 0.00002444)\n",
      "Validation BER after epoch 117: 0.000020 (loss 0.00004510)\n",
      "Validation BER after epoch 118: 0.000020 (loss 0.00002313)\n",
      "Validation BER after epoch 119: 0.000020 (loss 0.00002384)\n",
      "Validation BER after epoch 120: 0.000020 (loss 0.00007444)\n",
      "Validation BER after epoch 121: 0.000020 (loss 0.00001235)\n",
      "Validation BER after epoch 122: 0.000020 (loss 0.00001242)\n",
      "Validation BER after epoch 123: 0.000020 (loss 0.00003285)\n",
      "Validation BER after epoch 124: 0.000020 (loss 0.00001661)\n",
      "Validation BER after epoch 125: 0.000020 (loss 0.00002253)\n",
      "Validation BER after epoch 126: 0.000020 (loss 0.00002228)\n",
      "Validation BER after epoch 127: 0.000020 (loss 0.00001125)\n",
      "Validation BER after epoch 128: 0.000020 (loss 0.00003357)\n",
      "Validation BER after epoch 129: 0.000020 (loss 0.00001068)\n",
      "Validation BER after epoch 130: 0.000020 (loss 0.00003057)\n",
      "Validation BER after epoch 131: 0.000020 (loss 0.00005582)\n",
      "Validation BER after epoch 132: 0.000020 (loss 0.00001659)\n",
      "Validation BER after epoch 133: 0.000020 (loss 0.00001554)\n",
      "Validation BER after epoch 134: 0.000020 (loss 0.00002069)\n",
      "Validation BER after epoch 135: 0.000020 (loss 0.00002881)\n",
      "Validation BER after epoch 136: 0.000020 (loss 0.00000820)\n",
      "Validation BER after epoch 137: 0.000020 (loss 0.00001532)\n",
      "Validation BER after epoch 138: 0.000020 (loss 0.00000651)\n",
      "Validation BER after epoch 139: 0.000020 (loss 0.00003448)\n",
      "Validation BER after epoch 140: 0.000020 (loss 0.00139898)\n"
     ]
    },
    {
     "name": "stdout",
     "output_type": "stream",
     "text": [
      "Validation BER after epoch 141: 0.000020 (loss 0.00001830)\n",
      "Validation BER after epoch 142: 0.000020 (loss 0.00000928)\n",
      "Validation BER after epoch 143: 0.000020 (loss 0.00000588)\n",
      "Validation BER after epoch 144: 0.000020 (loss 0.00000676)\n",
      "Validation BER after epoch 145: 0.000020 (loss 0.00000701)\n",
      "Validation BER after epoch 146: 0.000020 (loss 0.00000655)\n",
      "Validation BER after epoch 147: 0.000020 (loss 0.00000904)\n",
      "Validation BER after epoch 148: 0.000020 (loss 0.00001027)\n",
      "Validation BER after epoch 149: 0.000020 (loss 0.00001276)\n",
      "Validation BER after epoch 150: 0.000020 (loss 0.00001847)\n",
      "Validation BER after epoch 151: 0.000020 (loss 0.00000718)\n",
      "Validation BER after epoch 152: 0.000020 (loss 0.00001634)\n",
      "Validation BER after epoch 153: 0.000020 (loss 0.00002710)\n",
      "Validation BER after epoch 154: 0.000020 (loss 0.00000506)\n",
      "Validation BER after epoch 155: 0.000020 (loss 0.00000749)\n",
      "Validation BER after epoch 156: 0.000010 (loss 0.00001412)\n",
      "Validation BER after epoch 157: 0.000020 (loss 0.00002366)\n",
      "Validation BER after epoch 158: 0.000020 (loss 0.00000768)\n",
      "Validation BER after epoch 159: 0.000020 (loss 0.00018771)\n"
     ]
    }
   ],
   "source": [
    "model = Receiver_Network(hidden_neurons_1, hidden_neurons_2)\n",
    "model.to(device)\n",
    "\n",
    "sigmoid = nn.Sigmoid()\n",
    "\n",
    "\n",
    "# channel parameters\n",
    "norm_factor = np.sqrt(10**((Pin-30)/10));\n",
    "sigma = np.sqrt((10**((Pn-30)/10)) / Kstep / 2)\n",
    "\n",
    "# Binary Cross Entropy loss\n",
    "loss_fn = nn.BCEWithLogitsLoss()\n",
    "\n",
    "# Adam Optimizer\n",
    "optimizer = optim.Adam(model.parameters())  \n",
    "\n",
    "\n",
    "# Training parameters\n",
    "num_epochs = 160\n",
    "batches_per_epoch = 300\n",
    "\n",
    "# Vary batch size during training\n",
    "batch_size_per_epoch = np.linspace(100,10000,num=num_epochs)\n",
    "\n",
    "\n",
    "validation_BERs = np.zeros(num_epochs)\n",
    "decision_region_evolution = []\n",
    "\n",
    "for epoch in range(num_epochs):\n",
    "    batch_labels = torch.empty(int(batch_size_per_epoch[epoch]), device=device)\n",
    "    noise = torch.empty((int(batch_size_per_epoch[epoch]),2), device=device, requires_grad=False)        \n",
    "\n",
    "    for step in range(batches_per_epoch):\n",
    "        # sample new mini-batch directory on the GPU (if available)        \n",
    "        batch_labels.random_(2)\n",
    "        # channel simulation directly on the GPU\n",
    "        bpsk = ((1 - 2*batch_labels) * norm_factor).unsqueeze(-1) * torch.tensor([1.0,0.0],device=device)\n",
    "\n",
    "        for i in range(Kstep):\n",
    "            power = torch.norm(bpsk, dim=1) ** 2\n",
    "            rotcoff = (L / Kstep) * gamma * power\n",
    "            noise.normal_(mean=0, std=sigma) # sample noise\n",
    "            \n",
    "            # phase rotation due to nonlinearity\n",
    "            temp1 = bpsk[:,0] * torch.cos(rotcoff) - bpsk[:,1] * torch.sin(rotcoff)            \n",
    "            temp2 = bpsk[:,0] * torch.sin(rotcoff) + bpsk[:,1] * torch.cos(rotcoff)            \n",
    "            bpsk = torch.stack([temp1, temp2], dim=1) + noise\n",
    "\n",
    "        bpsk = bpsk / ext_max\n",
    "        outputs = model(bpsk)\n",
    "\n",
    "        # compute loss\n",
    "        loss = loss_fn(outputs.squeeze(), batch_labels)\n",
    "        \n",
    "        # compute gradients\n",
    "        loss.backward()\n",
    "        \n",
    "        optimizer.step()\n",
    "        # reset gradients\n",
    "        optimizer.zero_grad()\n",
    "        \n",
    "    # compute validation BER\n",
    "    out_valid = sigmoid(model(X_valid))\n",
    "    validation_BERs[epoch] = BER(out_valid.detach().cpu().numpy().squeeze(), y_valid)\n",
    "    \n",
    "    print('Validation BER after epoch %d: %f (loss %1.8f)' % (epoch, validation_BERs[epoch], loss.detach().cpu().numpy()))                \n",
    "        \n",
    "    # store decision region for generating the animation\n",
    "    mesh_prediction = sigmoid(model(meshgrid))    \n",
    "    decision_region_evolution.append(0.195*mesh_prediction.detach().cpu().numpy() + 0.4)\n"
   ]
  },
  {
   "cell_type": "code",
   "execution_count": 30,
   "metadata": {},
   "outputs": [
    {
     "name": "stdout",
     "output_type": "stream",
     "text": [
      "3\n"
     ]
    },
    {
     "data": {
      "text/plain": [
       "Text(0, 0.5, '$\\\\Im\\\\{r\\\\}$')"
      ]
     },
     "execution_count": 30,
     "metadata": {},
     "output_type": "execute_result"
    },
    {
     "data": {
      "image/png": "[encoded data removed]",
      "text/plain": [
       "<Figure size 576x576 with 1 Axes>"
      ]
     },
     "metadata": {
      "needs_background": "light"
     },
     "output_type": "display_data"
    }
   ],
   "source": [
    "plt.figure(figsize=(8,8))\n",
    "plt.contourf(mgx,mgy,decision_region_evolution[-1].reshape(mgy.shape).T,cmap='coolwarm',vmin=0.3,vmax=0.695)\n",
    "plt.scatter(X_valid[:,0].cpu()*ext_max, X_valid[:,1].cpu() * ext_max, c=y_valid, cmap='coolwarm')\n",
    "print(Pin)\n",
    "plt.axis('scaled')\n",
    "plt.xlabel(r'$\\Re\\{r\\}$',fontsize=16)\n",
    "plt.ylabel(r'$\\Im\\{r\\}$',fontsize=16)\n",
    "#plt.title(title,fontsize=16)\n",
    "#plt.savefig('after_optimization.pdf',bbox_inches='tight')"
   ]
  }
 ],
 "metadata": {
  "kernelspec": {
   "display_name": "Python 3",
   "language": "python",
   "name": "python3"
  },
  "language_info": {
   "codemirror_mode": {
    "name": "ipython",
    "version": 3
   },
   "file_extension": ".py",
   "mimetype": "text/x-python",
   "name": "python",
   "nbconvert_exporter": "python",
   "pygments_lexer": "ipython3",
   "version": "3.7.6"
  }
 },
 "nbformat": 4,
 "nbformat_minor": 2
}
