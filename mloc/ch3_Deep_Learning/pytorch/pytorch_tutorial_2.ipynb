{
 "cells": [
  {
   "cell_type": "markdown",
   "metadata": {},
   "source": [
    "# PyTorch Tutorial - Part 2\n",
    "\n",
    "This code is provided as supplementary material of the lecture Machine Learning and Optimization in Communications (MLOC).<br>\n",
    "\n",
    "This code illustrates\n",
    "* Get accustomed to the basics of pytorch \n",
    "* Do simple operations"
   ]
  },
  {
   "cell_type": "code",
   "execution_count": 96,
   "metadata": {},
   "outputs": [
    {
     "name": "stdout",
     "output_type": "stream",
     "text": [
      "We are using the following device for learning: cpu\n"
     ]
    }
   ],
   "source": [
    "import torch\n",
    "import numpy as np\n",
    "%matplotlib inline\n",
    "import matplotlib\n",
    "matplotlib.use('TkAgg')\n",
    "import matplotlib.pyplot as plt\n",
    "\n",
    "from IPython import display\n",
    "\n",
    "device = 'cuda' if torch.cuda.is_available() else 'cpu'\n",
    "print(\"We are using the following device for learning:\",device)"
   ]
  },
  {
   "cell_type": "markdown",
   "metadata": {},
   "source": [
    "Generate data coming from a simple polynomial and corrupt with noise"
   ]
  },
  {
   "cell_type": "code",
   "execution_count": 103,
   "metadata": {},
   "outputs": [],
   "source": [
    "np.random.seed(0)\n",
    "\n",
    "x = np.arange(-2, 5, 0.1)\n",
    "y = x**3 - 4*x**2 - 2*x + 2\n",
    "y_noise = y + np.random.normal(0, 1.5, size=(len(x),))"
   ]
  },
  {
   "cell_type": "code",
   "execution_count": 104,
   "metadata": {},
   "outputs": [],
   "source": [
    "# simple function to get a random mini-batch\n",
    "def get_batch(x, y, batch_size=20):\n",
    "    idxs = np.random.randint(0, len(x), (batch_size))\n",
    "    return x[idxs], y[idxs]"
   ]
  },
  {
   "cell_type": "markdown",
   "metadata": {},
   "source": [
    "Define graph by model, use 2 hidden layers, one with ReLU and the other one with tanh activation (overkill for this example, but for illustration purposes)."
   ]
  },
  {
   "cell_type": "code",
   "execution_count": 105,
   "metadata": {},
   "outputs": [],
   "source": [
    "num_iter = 100*300\n",
    "image_cycle = 300\n",
    "\n",
    "mini_batch_size = 10\n",
    "\n",
    "neurons_H1 = 4\n",
    "neurons_H2 = 5\n",
    "\n",
    "      \n",
    "# contains all the x values. We need to expand the dimensions of the input tensor    \n",
    "x_eval_tensor = torch.from_numpy(np.expand_dims(x,1)).float().to(device)\n",
    "    \n",
    "# predefined linear layers, parameters are input and output neurons\n",
    "layer1 = torch.nn.Linear(1, neurons_H1).to(device)\n",
    "layer2 = torch.nn.Linear(neurons_H1, neurons_H2).to(device) \n",
    "layer3 = torch.nn.Linear(neurons_H2, 1, bias=False).to(device) # do not use bias on final layer\n",
    "\n",
    "# Activation function\n",
    "activation_function = torch.nn.Tanh()\n",
    "\n",
    "\n",
    "# gather parameters of both layers\n",
    "parameters = list(layer1.parameters()) + list(layer2.parameters()) + list(layer3.parameters())\n",
    "\n",
    "# Adam and MSE Loss\n",
    "optimizer = torch.optim.Adam(parameters)\n",
    "loss_fn = torch.nn.MSELoss(reduction='mean')"
   ]
  },
  {
   "cell_type": "markdown",
   "metadata": {},
   "source": [
    "Main loop of learning. Calculate output of a batch, compute loss and respective gradients, the do the optimization. Import is to reset the gradients after each step."
   ]
  },
  {
   "cell_type": "code",
   "execution_count": 106,
   "metadata": {},
   "outputs": [
    {
     "data": {
      "image/png": "[encoded data removed]",
      "text/plain": [
       "<Figure size 360x360 with 1 Axes>"
      ]
     },
     "metadata": {
      "needs_background": "light"
     },
     "output_type": "display_data"
    }
   ],
   "source": [
    "fig,ax = plt.subplots(1,1,figsize=(5,5))        \n",
    "plt.ion()\n",
    "plt.show()\n",
    "   \n",
    "fig.show()\n",
    "fig.canvas.draw()\n",
    "\n",
    "# main loop    \n",
    "for step in range(num_iter):    \n",
    "    batch_x, batch_y = get_batch(x,y_noise, mini_batch_size)\n",
    "    x_train_tensor = torch.from_numpy(np.expand_dims(batch_x,1)).float().to(device)\n",
    "    y_train_tensor = torch.from_numpy(np.expand_dims(batch_y,1)).float().to(device)\n",
    "    \n",
    "    \n",
    "    yhat = layer3(activation_function(layer2(activation_function(layer1(x_train_tensor)))))\n",
    "    \n",
    "    loss = loss_fn(yhat, y_train_tensor)\n",
    "        \n",
    "    # compute gradients\n",
    "    loss.backward() \n",
    "        \n",
    "    # carry out one optimization step with Adam\n",
    "    optimizer.step()\n",
    "        \n",
    "    # reset gradients to zero\n",
    "    optimizer.zero_grad()\n",
    "\n",
    "    # plot result of learning\n",
    "    if step % image_cycle == 0:\n",
    "        y_est = layer3(activation_function(layer2(activation_function(layer1(x_eval_tensor)))))\n",
    "\n",
    "        ax.clear()\n",
    "        ax.scatter(x, y_noise)\n",
    "        ax.plot(x, y)\n",
    "        ax.plot(x, y_est.detach().cpu().numpy())\n",
    "        fig.canvas.draw()\n"
   ]
  },
  {
   "cell_type": "code",
   "execution_count": null,
   "metadata": {},
   "outputs": [],
   "source": []
  }
 ],
 "metadata": {
  "kernelspec": {
   "display_name": "Python 3",
   "language": "python",
   "name": "python3"
  },
  "language_info": {
   "codemirror_mode": {
    "name": "ipython",
    "version": 3
   },
   "file_extension": ".py",
   "mimetype": "text/x-python",
   "name": "python",
   "nbconvert_exporter": "python",
   "pygments_lexer": "ipython3",
   "version": "3.7.6"
  }
 },
 "nbformat": 4,
 "nbformat_minor": 4
}
