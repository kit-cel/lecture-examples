{
 "cells": [
  {
   "cell_type": "markdown",
   "metadata": {},
   "source": [
    "# Import"
   ]
  },
  {
   "cell_type": "code",
   "execution_count": null,
   "metadata": {},
   "outputs": [],
   "source": [
    "# importing\n",
    "import numpy as np\n",
    "from scipy.special import binom\n",
    "\n",
    "import itertools\n",
    "\n",
    "import matplotlib.pyplot as plt\n",
    "import matplotlib\n",
    "\n",
    "# showing figures inline\n",
    "%matplotlib inline"
   ]
  },
  {
   "cell_type": "code",
   "execution_count": null,
   "metadata": {},
   "outputs": [],
   "source": [
    "# plotting options \n",
    "font = {'size'   : 20}\n",
    "plt.rc('font', **font)\n",
    "plt.rc('text', usetex=True)\n",
    "\n",
    "matplotlib.rc('figure', figsize=(18, 6) )"
   ]
  },
  {
   "cell_type": "markdown",
   "metadata": {},
   "source": [
    "# Here we go"
   ]
  },
  {
   "cell_type": "markdown",
   "metadata": {},
   "source": [
    "### define parameters"
   ]
  },
  {
   "cell_type": "code",
   "execution_count": null,
   "metadata": {},
   "outputs": [],
   "source": [
    "# parameteres\n",
    "\n",
    "# get all types of a die with N_dice sides\n",
    "N_dice = 3\n",
    "p_dice = np.array( [ .5, .25, .25 ] )\n",
    "\n",
    "# sequence length\n",
    "N_sequence = 7\n"
   ]
  },
  {
   "cell_type": "markdown",
   "metadata": {},
   "source": [
    "### get all sequences and their probability"
   ]
  },
  {
   "cell_type": "code",
   "execution_count": null,
   "metadata": {},
   "outputs": [],
   "source": [
    "# helper function for getting all sequences\n",
    "def cartesian_product_nfold(n, k):\n",
    "    \"\"\"\n",
    "    Compute the N-fold Cartesian product {1,...,k}}\n",
    "    \n",
    "    IN: n : The number of times to repeat \n",
    "        k: The range of values\n",
    "    \"\"\"\n",
    "\n",
    "    grids = np.meshgrid( *[np.arange( 1, k+1)] * n, indexing='ij')\n",
    "\n",
    "    return np.stack(grids, axis=-1).reshape(-1, n)"
   ]
  },
  {
   "cell_type": "code",
   "execution_count": null,
   "metadata": {},
   "outputs": [],
   "source": [
    "# find number of sequences, sequences themselves, and get their probability\n",
    "numb_sequences = N_dice ** N_sequence\n",
    "\n",
    "sequences = np.zeros( ( numb_sequences, N_sequence ))\n",
    "probability_of_sequences = np.zeros( numb_sequences ) \n",
    "\n",
    "for ind_seq, seq in enumerate( itertools.product( np.arange(1, N_dice+1,dtype=int), repeat = N_sequence ) ):\n",
    "    sequences[ ind_seq, : ] = seq\n",
    "    probability_of_sequences[ ind_seq ] = np.prod( p_dice[ np.array(seq) - 1 ] )\n"
   ]
  },
  {
   "cell_type": "code",
   "execution_count": null,
   "metadata": {},
   "outputs": [],
   "source": [
    "# find number of sequences, sequences themselves, and get their probability\n",
    "sequence_np = cartesian_product_nfold( N_sequence, N_dice )\n",
    "\n",
    "probability_of_sequences = np.zeros( numb_sequences ) \n",
    "for _n in range( np.shape( sequence_np )[0] ):\n",
    "    probability_of_sequences[ _n ] = np.prod( p_dice[ sequence_np[_n] - 1 ] )"
   ]
  },
  {
   "cell_type": "markdown",
   "metadata": {},
   "source": [
    "### reduce to types and find size of type classes"
   ]
  },
  {
   "cell_type": "code",
   "execution_count": null,
   "metadata": {},
   "outputs": [],
   "source": [
    "# now identify the different types \n",
    "\n",
    "# sort arrays (by lexographic order)\n",
    "sorted_numpy_array = np.sort( sequences )\n",
    "\n",
    "# use numpy's unique to remove duplicates and count them\n",
    "type_classes_sorted, size_of_type_class = np.unique( sorted_numpy_array, axis=0, return_counts=True )\n",
    "\n",
    "print( 'Total number of sequences: \\t', numb_sequences)\n",
    "print( 'Different types: \\t\\t', len( type_classes_sorted ) )\n"
   ]
  },
  {
   "cell_type": "markdown",
   "metadata": {},
   "source": [
    "### get bounds for size of type classes"
   ]
  },
  {
   "cell_type": "code",
   "execution_count": null,
   "metadata": {},
   "outputs": [],
   "source": [
    "size_of_type_class_lower_bound = np.zeros( len( type_classes_sorted ) )\n",
    "size_of_type_class_upper_bound = np.zeros( len( type_classes_sorted ) )\n",
    "\n",
    "# pass through type classes, get empirical prob., and get entropy\n",
    "for ind_type_class, val_type_class in enumerate( type_classes_sorted ):\n",
    "\n",
    "    empirical_distribution = np.zeros( N_dice )\n",
    "\n",
    "    for _n in range( N_dice ):\n",
    "        empirical_distribution[ _n ] = np.count_nonzero( val_type_class == _n + 1) / N_sequence\n",
    "\n",
    "    empirical_distribution_non_zero = empirical_distribution[ empirical_distribution != 0]\n",
    "    H_type_class = - np.sum(  empirical_distribution_non_zero * np.log2( empirical_distribution_non_zero ) )\n",
    "\n",
    "    size_of_type_class_lower_bound[ ind_type_class ] = 1 / ( N_sequence + 1 )**N_dice * 2**( N_sequence * H_type_class )\n",
    "    size_of_type_class_upper_bound[ ind_type_class ] = 2**( N_sequence * H_type_class )\n",
    "\n"
   ]
  },
  {
   "cell_type": "code",
   "execution_count": null,
   "metadata": {},
   "outputs": [],
   "source": [
    "plt.semilogy( size_of_type_class, label='elements in type class' )\n",
    "plt.semilogy( size_of_type_class_lower_bound, label='lower bound')\n",
    "plt.semilogy( size_of_type_class_upper_bound, label='upper bound')\n",
    "\n",
    "plt.xlabel('type classes in lexographic order')\n",
    "plt.legend()\n",
    "plt.grid(1)\n",
    "plt.show()"
   ]
  },
  {
   "cell_type": "code",
   "execution_count": null,
   "metadata": {},
   "outputs": [],
   "source": [
    "### probability of type classes and bounds\n",
    "prob_of_type_class = np.zeros( len( type_classes_sorted ) )\n",
    "prob_of_type_class_lower_bound = np.zeros( len( type_classes_sorted ) )\n",
    "prob_of_type_class_upper_bound = np.zeros( len( type_classes_sorted ) )\n",
    "\n",
    "\n",
    "# pass through type classes, get empirical prob., and get entropy\n",
    "for ind_type_class, val_type_class in enumerate( type_classes_sorted ):\n",
    "\n",
    "    # prob of a type class\n",
    "    prob_of_type_class_pointwise = p_dice[ np.array( val_type_class - 1 ).astype(int) ]\n",
    "    prob_of_type_class[ ind_type_class ] = np.prod( prob_of_type_class_pointwise ) * size_of_type_class[ ind_type_class ]\n",
    "\n",
    "\n",
    "    # get empirical distribution of a type class\n",
    "    empirical_distribution = np.zeros( N_dice )\n",
    "    for _n in range( N_dice ):\n",
    "        empirical_distribution[ _n ] = np.count_nonzero( val_type_class == _n + 1) / N_sequence\n",
    "\n",
    "    # find non-zero values and slice the according prob vactors\n",
    "    indices_empirical_distribution_non_zero = np.where( empirical_distribution != 0 )\n",
    "    empirical_distribution_non_zero = empirical_distribution[ indices_empirical_distribution_non_zero ]\n",
    "    p_dice_non_zero = p_dice[ indices_empirical_distribution_non_zero ]\n",
    "\n",
    "    # determine KL divergence\n",
    "    D_PQ = np.sum( empirical_distribution_non_zero * np.log2( empirical_distribution_non_zero / p_dice_non_zero ) )\n",
    "    D_PQ_non_zero = D_PQ[ D_PQ != 0 ]\n",
    "\n",
    "    # get bounds as described in the lecture\n",
    "    prob_of_type_class_lower_bound[ ind_type_class ] = 1 / ( N_sequence + 1 )**N_dice * 2**( - N_sequence * D_PQ )\n",
    "    prob_of_type_class_upper_bound[ ind_type_class ] = 2**( - N_sequence * D_PQ )\n",
    "\n"
   ]
  },
  {
   "cell_type": "code",
   "execution_count": null,
   "metadata": {},
   "outputs": [],
   "source": [
    "plt.semilogy( prob_of_type_class, label='prob. of type class' )\n",
    "plt.semilogy( prob_of_type_class_lower_bound, label='lower bound')\n",
    "plt.semilogy( prob_of_type_class_upper_bound, label='upper bound')\n",
    "\n",
    "plt.xlabel('type classes in lexographic order')\n",
    "plt.legend()\n",
    "plt.grid(1)\n",
    "plt.show()"
   ]
  },
  {
   "cell_type": "code",
   "execution_count": null,
   "metadata": {},
   "outputs": [],
   "source": [
    "\n",
    "# print(result)\n",
    "#print(result)"
   ]
  },
  {
   "cell_type": "code",
   "execution_count": null,
   "metadata": {},
   "outputs": [],
   "source": [
    "print(sequences)"
   ]
  },
  {
   "cell_type": "code",
   "execution_count": null,
   "metadata": {},
   "outputs": [],
   "source": []
  }
 ],
 "metadata": {
  "kernelspec": {
   "display_name": "Python 3 (ipykernel)",
   "language": "python",
   "name": "python3"
  },
  "language_info": {
   "codemirror_mode": {
    "name": "ipython",
    "version": 3
   },
   "file_extension": ".py",
   "mimetype": "text/x-python",
   "name": "python",
   "nbconvert_exporter": "python",
   "pygments_lexer": "ipython3",
   "version": "3.12.7"
  }
 },
 "nbformat": 4,
 "nbformat_minor": 4
}
