{
 "cells": [
  {
   "cell_type": "markdown",
   "metadata": {},
   "source": [
    "# Contents and Objective"
   ]
  },
  {
   "cell_type": "markdown",
   "metadata": {},
   "source": [
    "+ Describing several commands and methods that will be used throughout the simulations\n",
    "\n",
    "+ <b>Note:</b> Basic knowledge of programming languages and concepts is assumed. Only specific concepts that are different from, e.g., C++ or Matlab, are provided.\n",
    "\n",
    "+ <b>NOTE 2:</b> The following summary is by no means complete or exhaustive, but only provides a short and simplified overview of the commands used throughout the simulations in the lecture. For a detailed introduction please have a look at one of the numerous web-tutorials or books on Python, e.g., \n",
    "    + https://www.python-kurs.eu/\n",
    "    + https://link.springer.com/book/10.1007%2F978-1-4842-4246-9\n",
    "    + https://primo.bibliothek.kit.edu/primo_library/libweb/action/search.do?mode=Basic&vid=KIT&vl%28freeText0%29=python&vl%28freeText0%29=python&fn=search&tab=kit&srt=date"
   ]
  },
  {
   "cell_type": "markdown",
   "metadata": {},
   "source": [
    "# Cell Types\n",
    "\n",
    "There are two types of cells:\n",
    "\n",
    "+ Text cells (called 'Markdown'): containing text, allowing use of LaTeX\n",
    "+ Math/code cells: where code is being executed\n",
    "\n",
    "As long as you are just reading the simulations, there is no need to be concerned about this fact."
   ]
  },
  {
   "cell_type": "markdown",
   "metadata": {},
   "source": [
    "# Data Structures"
   ]
  },
  {
   "cell_type": "markdown",
   "metadata": {},
   "source": [
    "+ In the following sections the basic data structures used in upcoming simulations will be introduced.\n",
    "+ Basic types as int, float, string are supposed to be well-known."
   ]
  },
  {
   "cell_type": "markdown",
   "metadata": {},
   "source": [
    "### Lists\n",
    "\n",
    "+ Container-type structure for collecting entities (which may even be of different type)\n",
    "+ Defined by key word `list( )` or by square brackets with entities being separated by comma\n",
    "+ Referenced by index in square brackets; <b>Note</b>: indexing starting at 0\n",
    "+ Entries may be changed, appended, sliced,..."
   ]
  },
  {
   "cell_type": "code",
   "execution_count": 1,
   "metadata": {},
   "outputs": [
    {
     "name": "stdout",
     "output_type": "stream",
     "text": [
      "All sports: ['cycling', 'football', 'fitness']\n",
      "Sport to be done: fitness\n",
      "\n",
      "First primes: [2, 3, 5, 7, 11, 13, 17, 19]\n",
      "Third prime number: 5\n"
     ]
    }
   ],
   "source": [
    "# defining lists\n",
    "sport_list = [ 'cycling', 'football', 'fitness' ]\n",
    "first_prime_numbers = [ 2, 3, 5, 7, 11, 13, 17, 19 ]\n",
    "\n",
    "# getting contents\n",
    "sport = sport_list[ 2 ]\n",
    "third_prime = first_prime_numbers[ 2 ]\n",
    "\n",
    "# printing\n",
    "print( 'All sports:', sport_list )\n",
    "print( 'Sport to be done:', sport )\n",
    "\n",
    "print( '\\nFirst primes:', first_prime_numbers )\n",
    "print( 'Third prime number:', third_prime )\n"
   ]
  },
  {
   "cell_type": "code",
   "execution_count": 2,
   "metadata": {},
   "outputs": [
    {
     "name": "stdout",
     "output_type": "stream",
     "text": [
      "All sports: ['cycling', 'swimming', 'fitness', 'running']\n",
      "First primes: [2, 3, 5, 7, 11, 13, 17, 19, 23]\n"
     ]
    }
   ],
   "source": [
    "# adapt entries and append new entries\n",
    "sport_list[ 1 ] = 'swimming'\n",
    "sport_list.append( 'running' )\n",
    "first_prime_numbers.append( 23 ) \n",
    "\n",
    "# printing\n",
    "print( 'All sports:', sport_list )\n",
    "print( 'First primes:', first_prime_numbers )"
   ]
  },
  {
   "cell_type": "markdown",
   "metadata": {},
   "source": [
    "### Tuples\n",
    "\n",
    "+ Similar to lists but \"immutable\", i.e., entries can be appended, but not be changed\n",
    "+ Defined by `tuple( )` or by brackets with entities being separated by comma\n",
    "+ Referenced by index in square brackets; <b>Note</b>: indexing starting at 0"
   ]
  },
  {
   "cell_type": "code",
   "execution_count": 3,
   "metadata": {},
   "outputs": [
    {
     "name": "stdout",
     "output_type": "stream",
     "text": [
      "All sports: ('cycling', 'football', 'fitness')\n",
      "Sport to be done: fitness\n"
     ]
    }
   ],
   "source": [
    "# defining tuple\n",
    "sport_tuple = ( 'cycling', 'football', 'fitness' )\n",
    "\n",
    "# getting contents\n",
    "sport = sport_tuple[ 2 ]\n",
    "\n",
    "# printing\n",
    "print( 'All sports:', sport_tuple )\n",
    "print( 'Sport to be done:', sport )"
   ]
  },
  {
   "cell_type": "code",
   "execution_count": 4,
   "metadata": {},
   "outputs": [
    {
     "name": "stdout",
     "output_type": "stream",
     "text": [
      "All sports: ('cycling', 'football', 'fitness', 'running')\n",
      "\n",
      "ERROR: Entries within tuples cannot be adapted!\n"
     ]
    }
   ],
   "source": [
    "# append new entries\n",
    "sport_tuple += ( 'running', )\n",
    "\n",
    "# printing\n",
    "print( 'All sports:', sport_tuple )\n",
    "print()\n",
    "\n",
    "# changing entries will fail\n",
    "# --> ERROR is being generated on purpose\n",
    "# --> NOTE: Error is handled by 'try: ... except: ...' statement\n",
    "try:\n",
    "    sport_tuple[ 1 ] = 'swimming'\n",
    "except:\n",
    "    print('ERROR: Entries within tuples cannot be adapted!')"
   ]
  },
  {
   "cell_type": "markdown",
   "metadata": {},
   "source": [
    "### Dictionaries\n",
    "\n",
    "+ Container in which entries are of type: ( key : value )\n",
    "+ Defined by key word `dict` or by curly brackets with entities of shape \"`key : value`\" being separated by comma\n",
    "+ Referenced by key in square brackets --> <b>Note</b>: Indexing by keys instead of indices might be a major advantage (at least sometimes)"
   ]
  },
  {
   "cell_type": "code",
   "execution_count": 5,
   "metadata": {},
   "outputs": [
    {
     "name": "stdout",
     "output_type": "stream",
     "text": [
      "Sport by day: {'Monday': 'pause', 'Tuesday': 'fitness', 'Wednesday': 'running', 'Thursday': 'fitness', 'Friday': 'swimming', 'Saturday': 'cycling', 'Sunday': 'cycling'}\n",
      "\n",
      "On Tuesday: fitness\n"
     ]
    }
   ],
   "source": [
    "# defining dictionaries\n",
    "sports_days = { 'Monday': 'pause', 'Tuesday': 'fitness', 'Wednesday' : 'running', \n",
    "            'Thursday' : 'fitness', 'Friday' : 'swimming', 'Saturday' : 'cycling', \n",
    "            'Sunday' : 'cycling' }\n",
    "\n",
    "print( 'Sport by day:', sports_days )\n",
    "print( '\\nOn Tuesday:', sports_days[ 'Tuesday' ])"
   ]
  },
  {
   "cell_type": "code",
   "execution_count": 6,
   "metadata": {},
   "outputs": [
    {
     "name": "stdout",
     "output_type": "stream",
     "text": [
      "Sport by day: {'Monday': 'pause', 'Tuesday': 'running', 'Wednesday': 'running', 'Thursday': 'fitness', 'Friday': 'swimming', 'Saturday': 'cycling', 'Sunday': 'cycling'}\n"
     ]
    }
   ],
   "source": [
    "# Changes are made by using the key as identifier\n",
    "sports_days[ 'Tuesday' ] = 'running'\n",
    "print( 'Sport by day:', sports_days )"
   ]
  },
  {
   "cell_type": "markdown",
   "metadata": {},
   "source": [
    "### Sets\n",
    "+ As characterized by the naming, sets are representing mathematical sets; no double occurences of elements\n",
    "+ Defined by keyword `set` of by curly braces with entities being separated by comma\n",
    "+ <b>Note</b>: As in maths, sets don't possess ordering, so there is no indexing of sets!"
   ]
  },
  {
   "cell_type": "code",
   "execution_count": 7,
   "metadata": {},
   "outputs": [
    {
     "name": "stdout",
     "output_type": "stream",
     "text": [
      "{'running', 'fitness', 'swimming', 'cycling'}\n",
      "\n",
      "ERROR: No indexing of sets!\n"
     ]
    }
   ],
   "source": [
    "# defining sets\n",
    "sports_set = { 'fitness', 'running', 'swimming', 'cycling'}\n",
    "print( sports_set )\n",
    "print()\n",
    "\n",
    "# indexing will fail\n",
    "# --> ERROR is being generated on purpose\n",
    "try:\n",
    "    print( sports_set[0] )\n",
    "except:\n",
    "    print('ERROR: No indexing of sets!')"
   ]
  },
  {
   "cell_type": "code",
   "execution_count": 8,
   "metadata": {},
   "outputs": [
    {
     "name": "stdout",
     "output_type": "stream",
     "text": [
      "{'fitness', 'pause', 'running', 'cycling', 'swimming'}\n",
      "{'fitness', 'pause', 'running', 'cycling', 'swimming'}\n"
     ]
    }
   ],
   "source": [
    "# adding elements (or not)\n",
    "sports_set.add( 'pause' )\n",
    "print(sports_set)\n",
    "\n",
    "sports_set.add( 'fitness' )\n",
    "print(sports_set)"
   ]
  },
  {
   "cell_type": "code",
   "execution_count": 9,
   "metadata": {},
   "outputs": [
    {
     "name": "stdout",
     "output_type": "stream",
     "text": [
      "{2, 3, 5, 7, 11, 13, 'pause', 17, 19, 23, 'cycling', 'swimming', 'fitness', 'running'}\n"
     ]
    }
   ],
   "source": [
    "# union of sets (also: intersection, complement, ...)\n",
    "all_stuff_set = set( sports_set )\n",
    "union_of_sets = all_stuff_set.union( first_prime_numbers)\n",
    "\n",
    "print( union_of_sets )"
   ]
  },
  {
   "cell_type": "markdown",
   "metadata": {},
   "source": [
    "# Flow Control\n",
    "\n",
    "+ Standards commands as for, while, ...\n",
    "+ Functions for specific purposes\n",
    "+ <b>Note:</b> Since commands and their concept are quite self-explaining, only short description of syntax is provided"
   ]
  },
  {
   "cell_type": "markdown",
   "metadata": {},
   "source": [
    "### For Loops\n",
    "\n",
    "+ for loops in Python allow looping along every so-called iterable as, e.g., list, tuple, dicts.... <b>Note</b>: Not necessarily int\n",
    "+ Syntax: `for i in iterable:`\n",
    "+ <b>Note:</b> Blocks are structured by indentation; sub-command (as, e.g., in a loop) are indented "
   ]
  },
  {
   "cell_type": "code",
   "execution_count": 10,
   "metadata": {},
   "outputs": [
    {
     "name": "stdout",
     "output_type": "stream",
     "text": [
      "cycling\n",
      "swimming\n",
      "fitness\n",
      "running\n",
      "\n",
      "Monday: \tpause\n",
      "Tuesday: \trunning\n",
      "Wednesday: \trunning\n",
      "Thursday: \tfitness\n",
      "Friday: \tswimming\n",
      "Saturday: \tcycling\n",
      "Sunday: \tcycling\n"
     ]
    }
   ],
   "source": [
    "# looping in lists simply parsing along the list\n",
    "for s in sport_list:\n",
    "    print( s )\n",
    "\n",
    "print()\n",
    "\n",
    "# looping in dictionaries happens along keys\n",
    "for s in sports_days:\n",
    "    print( '{}: \\t{}'.format( s, sports_days[ s ] ) )"
   ]
  },
  {
   "cell_type": "markdown",
   "metadata": {},
   "source": [
    "### While Loops\n",
    "\n",
    "+ while loops in Python are (as usual) constructed by checking condition and exiting loop if condition becomes False\n",
    "+ <b>Note:</b> Blocks are structured by indentation; sub-command (as, e.g., in a loop) are indented "
   ]
  },
  {
   "cell_type": "code",
   "execution_count": 11,
   "metadata": {},
   "outputs": [
    {
     "name": "stdout",
     "output_type": "stream",
     "text": [
      "Sum of first 5 primes is 28.\n"
     ]
    }
   ],
   "source": [
    "# initialize variables\n",
    "sum_primes = 0\n",
    "_n = 0\n",
    "\n",
    "# sum primes up to sum-value of 20\n",
    "while sum_primes < 20:\n",
    "    \n",
    "    # add prime of according index\n",
    "    sum_primes += first_prime_numbers[ _n ]\n",
    "    \n",
    "    # increase index\n",
    "    _n += 1\n",
    "    \n",
    "print( 'Sum of first {} primes is {}.'.format( _n, sum_primes ) )"
   ]
  },
  {
   "cell_type": "markdown",
   "metadata": {},
   "source": [
    "# Functions\n",
    "\n",
    "+ Defined by key-word `def` followed by list of arguments in brackets\n",
    "+ Doc string defined directly after `def` by `''' TEXT '''`\n",
    "+ Values returned by key word `return`; <b>Note:</b> return \"value\" can be scalar, list, dict, vector, maxtrix,..."
   ]
  },
  {
   "cell_type": "code",
   "execution_count": 12,
   "metadata": {},
   "outputs": [
    {
     "name": "stdout",
     "output_type": "stream",
     "text": [
      "Help on function get_n_th_prime in module __main__:\n",
      "\n",
      "get_n_th_prime(n, first_prime_numbers)\n",
      "    DOC String\n",
      "    \n",
      "    IN: index of prime number, list of prime numbers\n",
      "    OUT: n-th prime number\n",
      "\n",
      "None\n",
      "3. prime number is 5.\n",
      "\n",
      "30. prime number is \"ERROR: Index not feasible!\".\n"
     ]
    }
   ],
   "source": [
    "def get_n_th_prime( n, first_prime_numbers ):\n",
    "    '''\n",
    "    DOC String\n",
    "    \n",
    "    IN: index of prime number, list of prime numbers\n",
    "    OUT: n-th prime number\n",
    "    '''\n",
    "    \n",
    "    # do something smart as, e.g., checking that according index really exists\n",
    "    # \"assert\" does the job by checking first arg and--if not being TRUE--providing text given as second arg\n",
    "    try: \n",
    "        val = first_prime_numbers[ n - 1 ]\n",
    "    except:\n",
    "        return '\"ERROR: Index not feasible!\"'\n",
    "    \n",
    "    # NOTE: since counting starts at 0, (n-1)st number is returned\n",
    "    # Furthermore, there is no need for a function here; a simple reference would have done the job!\n",
    "    \n",
    "    return first_prime_numbers[ n - 1 ]\n",
    "\n",
    "\n",
    "# show doc string\n",
    "print( help( get_n_th_prime ) )\n",
    "\n",
    "# apply functions\n",
    "N = 3\n",
    "print( '{}. prime number is {}.'.format( N, get_n_th_prime( N, first_prime_numbers ) ) )\n",
    "\n",
    "print()\n",
    "\n",
    "N = 30\n",
    "print( '{}. prime number is {}.'.format( N, get_n_th_prime( N, first_prime_numbers ) ) )"
   ]
  },
  {
   "cell_type": "markdown",
   "metadata": {},
   "source": [
    "# Several Useful Commands and Wording"
   ]
  },
  {
   "cell_type": "markdown",
   "metadata": {},
   "source": [
    "+ `import`: importing modules to be used as, e.g., modules for \n",
    "    + plotting (`matplotlib`), \n",
    "    + numerical calculations (`numpy`), \n",
    "        + `np.linalg`: linear algebra\n",
    "        + `np.random`: everything dealing with randomness, as, e.g., realization of different distributions\n",
    "    + scientific math (`scipy`),\n",
    "    + iterating along an iterable (`itertools`, ...)"
   ]
  },
  {
   "cell_type": "markdown",
   "metadata": {},
   "source": [
    "+ `break`: quitting current loop\n",
    "+ `continue`: processing to next iteration of current loop"
   ]
  },
  {
   "cell_type": "markdown",
   "metadata": {},
   "source": [
    "+ `enumerate( x )`: generates enumeration tuples of shape ( index, value ) parsing all entries of iterable x\n",
    "+ `len( x )`: length of list/tuple x\n",
    "+ `range( N )`: generates iterable with integers $0,\\ldots N-1$"
   ]
  },
  {
   "cell_type": "markdown",
   "metadata": {},
   "source": [
    "+ iterable: something  that can be iterated, i.e., \" walked through\"', as, e.g., lists, tuples, dicts"
   ]
  },
  {
   "cell_type": "markdown",
   "metadata": {},
   "source": [
    "# Module Numpy\n",
    "\n",
    "+ In simulations imported as `import numpy as np` such that all functions or submodules within the module are being used as `np.sub_func_mod`\n",
    "+ Optimized for vector operations"
   ]
  },
  {
   "cell_type": "markdown",
   "metadata": {},
   "source": [
    "+ `np.arange( a, b, step )`: generating a numpy array starting at a (included) up to b (not included) with step size 'step' (optional)\n",
    "+ `np.argmax( a )`: returns first index at which a attains its maximum value\n",
    "+ `np.array( )`: standard data type of numpy, essentially correponding to a vector as used in maths\n",
    "+ `np.average( x )`: determines average value of list/array x\n",
    "+ `np.concatenate( x, y )`: generates new vector/tuple ( x, y )\n",
    "+ `x.copy( )`: creates a copy of x\n",
    "+ `np.corrcoeff( x, y )`: determines correlation coefficient of x and y\n",
    "+ `np.correlate( x, y, 'full')`: determines correlation function (!) of vectors (signals) x and y\n",
    "+ `np.cumsum( x )`: cumulative sum of x\n",
    "+ `np.histogram( values, bins )`: generates histogram (relative frequency) of 'values' with respect to classes listed in 'bins'\n",
    "+ `np.isclose( a, b )`: returns Boolean describing if $a \\approx b$ 'within tolerance'\n",
    "+ `np.linspace( a, b, num_points )`: generates vector of 'num_points' equidistant points in $[a, b)$\n",
    "+ `np.ones( shape )`: generates array of ones of shape 'shape'\n",
    "+ `np.ones_like( x )`: generates array of ones of same shape and type as x\n",
    "+ `np.prod( x )`: multiplying all elements of x\n",
    "+ `np.random.choice( A, size = S )`: sampling S entities out of A; replacing elements and probability may be characterized as parameters\n",
    "+ `np.random.rand( size )`: generates 'size' random values being uniformly distributed in $[0,1)$\n",
    "+ `np.random.randint( a, b, size )`: generates 'size' random integers between a (included) and b (not included)\n",
    "+ `np.random.randn( size )`: generates a vector of standard gaussian ($E(X)=0, D^2(X)=1$) random variables of size 'size'\n",
    "+ `np.sum( x )`: summing up all elements of x\n",
    "+ `np.zeros( shape )`: generates array of zeros of shape 'shape'\n",
    "+ `np.zeros_like( x )`: generates array of zeros of same shape and type as x"
   ]
  },
  {
   "cell_type": "markdown",
   "metadata": {},
   "source": [
    "# Module Scipy\n",
    "\n",
    "+ Contains several usefull scientific modules\n",
    "+ contains elements for digital signal processing, e.g., filter design, filters, fast Fourier transforms,...\n",
    "+ special: several special functions, e.g., Bessel, binomial coefficients,..."
   ]
  }
 ],
 "metadata": {
  "kernelspec": {
   "display_name": "Python 3",
   "language": "python",
   "name": "python3"
  },
  "language_info": {
   "codemirror_mode": {
    "name": "ipython",
    "version": 3
   },
   "file_extension": ".py",
   "mimetype": "text/x-python",
   "name": "python",
   "nbconvert_exporter": "python",
   "pygments_lexer": "ipython3",
   "version": "3.7.6"
  }
 },
 "nbformat": 4,
 "nbformat_minor": 4
}
