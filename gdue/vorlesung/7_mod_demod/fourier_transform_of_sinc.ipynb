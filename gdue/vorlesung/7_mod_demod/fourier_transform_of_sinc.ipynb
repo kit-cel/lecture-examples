{
 "cells": [
  {
   "cell_type": "markdown",
   "metadata": {},
   "source": [
    "# Content and Objectives\n",
    "\n",
    "- Show effects of changing width and amplitude of a rectangular pulse in the frequency domain"
   ]
  },
  {
   "cell_type": "code",
   "execution_count": 2,
   "metadata": {},
   "outputs": [],
   "source": [
    "import numpy as np\n",
    "\n",
    "import matplotlib.pyplot as plt\n",
    "import matplotlib\n",
    "import shutil\n",
    "\n",
    "from ipywidgets import interactive\n",
    "import ipywidgets as widgets\n",
    "\n",
    "# showing figures inline\n",
    "%matplotlib inline"
   ]
  },
  {
   "cell_type": "code",
   "execution_count": 3,
   "metadata": {},
   "outputs": [],
   "source": [
    "# plotting options \n",
    "font = {'size'   : 26}\n",
    "plt.rc('font', **font)\n",
    "plt.rc('text', usetex=True if shutil.which('latex') else False)\n",
    "\n",
    "matplotlib.rc('figure', figsize=(18, 10) )"
   ]
  },
  {
   "cell_type": "code",
   "execution_count": 4,
   "metadata": {},
   "outputs": [],
   "source": [
    "def plot_sinc(B, t0):\n",
    "    x_range = np.arange(-20,20,0.05)\n",
    "    y = np.sinc(B*(x_range-t0))\n",
    "    \n",
    "    plt.figure(1,figsize=(15,6))\n",
    "    plt.rcParams.update({'font.size': 14})\n",
    "    plt.subplot(1,2,1)\n",
    "    plt.plot(x_range, y, linewidth=2, c=(0,0.59,0.51))\n",
    "    plt.xlim((-20,20))\n",
    "    plt.grid(True)\n",
    "    plt.xlabel(\"Zeit $t$ (s)\")\n",
    "    plt.ylabel(r\"$y = g(t)/B = \\mathrm{sinc}(Bt)$\")\n",
    "\n",
    "    plt.subplot(1,2,2)   \n",
    "    f_range = np.linspace(-3,3,len(x_range))\n",
    "    G = np.zeros(len(f_range))\n",
    "    start_rect = -B/2\n",
    "    stop_rect = +B/2\n",
    "    G[(f_range > start_rect) & (f_range < stop_rect)] = 1\n",
    "        \n",
    "    plt.plot(f_range, G, linewidth=2, c=(0,0.59,0.51))\n",
    "    plt.grid(True)\n",
    "    plt.xlim((-3,3))\n",
    "    plt.xlabel(\"Frequenz $f (Hz)$\")\n",
    "    plt.ylabel(r\"$y = |G(f)|$\")\n",
    "    plt.show()        "
   ]
  },
  {
   "cell_type": "code",
   "execution_count": 6,
   "metadata": {},
   "outputs": [
    {
     "data": {
      "application/vnd.jupyter.widget-view+json": {
       "model_id": "c4381f3b370142c8bd1a5aeb588148d8",
       "version_major": 2,
       "version_minor": 0
      },
      "text/plain": [
       "interactive(children=(FloatSlider(value=1.0, continuous_update=False, description='Bandwidth B', layout=Layout…"
      ]
     },
     "execution_count": 6,
     "metadata": {},
     "output_type": "execute_result"
    }
   ],
   "source": [
    "mystyle={'description_width': 'initial'}\n",
    "interactive_update = interactive(plot_sinc, \\\n",
    "                                 B = widgets.FloatSlider(min=0.3,max=5.0,step=0.1,value=1, continuous_update=False, style=mystyle, description='Bandwidth B',layout=widgets.Layout(width='50%')), \\\n",
    "                                 t0 = widgets.FloatSlider(min=-8, max=8, step=0.1, value=0, continuous_update=False, style=mystyle, description='Offset t0',layout=widgets.Layout(width='50%')))\n",
    "\n",
    "output = interactive_update.children[-1]\n",
    "output.layout.height = '600px'\n",
    "interactive_update"
   ]
  },
  {
   "cell_type": "code",
   "execution_count": null,
   "metadata": {},
   "outputs": [],
   "source": []
  }
 ],
 "metadata": {
  "kernelspec": {
   "display_name": "GDUE_lecture_examples",
   "language": "python",
   "name": "python3"
  },
  "language_info": {
   "codemirror_mode": {
    "name": "ipython",
    "version": 3
   },
   "file_extension": ".py",
   "mimetype": "text/x-python",
   "name": "python",
   "nbconvert_exporter": "python",
   "pygments_lexer": "ipython3",
   "version": "3.12.3"
  }
 },
 "nbformat": 4,
 "nbformat_minor": 2
}
