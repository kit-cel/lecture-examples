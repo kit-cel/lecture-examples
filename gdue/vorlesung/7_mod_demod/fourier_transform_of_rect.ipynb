{
 "cells": [
  {
   "cell_type": "markdown",
   "metadata": {},
   "source": [
    "# Content and Objectives\n",
    "\n",
    "- Show effects of changing width and amplitude of a rectangular pulse in the frequency domain"
   ]
  },
  {
   "cell_type": "code",
   "execution_count": 1,
   "metadata": {},
   "outputs": [],
   "source": [
    "import numpy as np\n",
    "\n",
    "import matplotlib.pyplot as plt\n",
    "import matplotlib\n",
    "import shutil\n",
    "\n",
    "from ipywidgets import interactive\n",
    "import ipywidgets as widgets\n",
    "\n",
    "# showing figures inline\n",
    "%matplotlib inline"
   ]
  },
  {
   "cell_type": "code",
   "execution_count": 2,
   "metadata": {},
   "outputs": [],
   "source": [
    "# plotting options \n",
    "font = {'size'   : 26}\n",
    "plt.rc('font', **font)\n",
    "plt.rc('text', usetex=True if shutil.which('latex') else False)\n",
    "\n",
    "matplotlib.rc('figure', figsize=(18, 10) )"
   ]
  },
  {
   "cell_type": "code",
   "execution_count": 3,
   "metadata": {},
   "outputs": [],
   "source": [
    "def plot_rect(A,T, t0):\n",
    "    x_range = np.arange(-20,20,0.05)\n",
    "    y = np.zeros(len(x_range))\n",
    "    start_rect = -T/2 + t0\n",
    "    stop_rect = +T/2 + t0\n",
    "    y[(x_range > start_rect) & (x_range < stop_rect)] = A\n",
    "    \n",
    "    plt.figure(1,figsize=(15,6))\n",
    "    plt.rcParams.update({'font.size': 14})\n",
    "    plt.subplot(1,2,1)\n",
    "    plt.plot(x_range, y, linewidth=2)\n",
    "    plt.xlim((-20,20))\n",
    "    plt.grid(True)\n",
    "    plt.xlabel(\"Zeit $t$ (s)\")\n",
    "    plt.ylabel(r\"$y = g(t)$\")\n",
    "\n",
    "    plt.subplot(1,2,2)\n",
    "    f_range = np.linspace(-3,3,len(x_range))\n",
    "    G = np.abs(A*np.sinc(T*f_range))\n",
    "    plt.plot(f_range, G, linewidth=2)\n",
    "    plt.grid(True)\n",
    "    plt.xlabel(\"Frequenz $f$ (Hz)\")\n",
    "    plt.ylabel(r\"$y = |G(f)|/T$\")\n",
    "    plt.show()    \n",
    "        "
   ]
  },
  {
   "cell_type": "code",
   "execution_count": null,
   "metadata": {},
   "outputs": [
    {
     "data": {
      "application/vnd.jupyter.widget-view+json": {
       "model_id": "9e7e3070df404c0e97415159acf1cae8",
       "version_major": 2,
       "version_minor": 0
      },
      "text/plain": [
       "interactive(children=(FloatSlider(value=1.0, continuous_update=False, description='Amplitude A', layout=Layout…"
      ]
     },
     "execution_count": 5,
     "metadata": {},
     "output_type": "execute_result"
    }
   ],
   "source": [
    "mystyle={'description_width': 'initial'}\n",
    "interactive_update = interactive(plot_rect, \\\n",
    "                                 A = widgets.FloatSlider(min=0.0,max=5.0,step=0.1,value=1, continuous_update=False, style=mystyle, description='Amplitude A',layout=widgets.Layout(width='50%')), \\\n",
    "                                 T = widgets.FloatSlider(min=1, max=20, value=10, continuous_update=False, style=mystyle, description='Pulse Width T',layout=widgets.Layout(width='50%')), \\\n",
    "                                 t0 = widgets.FloatSlider(min=-8, max=8, step=0.1, value=0, continuous_update=False, style=mystyle, description='Offset t0',layout=widgets.Layout(width='50%')))\n",
    "\n",
    "output = interactive_update.children[-1]\n",
    "output.layout.height = '600px'\n",
    "interactive_update"
   ]
  },
  {
   "cell_type": "code",
   "execution_count": null,
   "metadata": {},
   "outputs": [],
   "source": []
  }
 ],
 "metadata": {
  "kernelspec": {
   "display_name": "GDUE_lecture_examples",
   "language": "python",
   "name": "python3"
  },
  "language_info": {
   "codemirror_mode": {
    "name": "ipython",
    "version": 3
   },
   "file_extension": ".py",
   "mimetype": "text/x-python",
   "name": "python",
   "nbconvert_exporter": "python",
   "pygments_lexer": "ipython3",
   "version": "3.12.3"
  }
 },
 "nbformat": 4,
 "nbformat_minor": 2
}
