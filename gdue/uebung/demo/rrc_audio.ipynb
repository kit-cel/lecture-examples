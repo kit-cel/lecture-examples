{
 "cells": [
  {
   "cell_type": "markdown",
   "metadata": {},
   "source": [
    "In diesem Notebook soll das Auf- und Abschwingen eines Root-Raised-Cosine (rrc) Pulses  akustische hörbar gemacht werden.\n",
    "Zuerst wird der rrc-Puls als Funktion definiert, danach wird eine einzelner Puls erzeugt, mit einer Trägerfrequenz gemischt und anschließen als Audiodatei gespeichert."
   ]
  },
  {
   "cell_type": "code",
   "execution_count": null,
   "metadata": {},
   "outputs": [],
   "source": [
    "#Import all python dependencies we need!\n",
    "import numpy as np\n",
    "import matplotlib.pyplot as plt\n",
    "from scipy.io.wavfile import write, read\n",
    "\n",
    "#Define variables\n",
    "T = 0.2                         # symbol duration in s\n",
    "f_t =500                        # carrier frequency\n",
    "rate = np.int32(44100)          # rate at which audio signal is sampled\n",
    "n_up = np.int32(rate*T)         # oversampling factor -> samples per symbol\n",
    "beta= 0.8                       # 0 <= beta <= 1;  Roll-off factor of rrc, 0 -> sinc(t)\n",
    "K = 10                           # Length of rrc in symbols, must be even number\n"
   ]
  },
  {
   "cell_type": "markdown",
   "metadata": {},
   "source": [
    "Im Folgenden definieren wir den rrc als aufrufbare Funktion:"
   ]
  },
  {
   "cell_type": "code",
   "execution_count": null,
   "metadata": {},
   "outputs": [],
   "source": [
    "def get_rrc(K, n_up, T, beta):\n",
    "    \n",
    "    ''' \n",
    "    Determines coefficients of an RC filter \n",
    "    \n",
    "    Formula out of: John B. Anderson: Digital transmission engineering.\n",
    "    \n",
    "    NOTE: Length of the IR has to be an odd number\n",
    "    \n",
    "    IN: length of IR in symbols, upsampling factor per symbol, symbol time, roll-off factor\n",
    "    OUT: filter coefficients\n",
    "    '''\n",
    "    N = K*n_up+1                        #number of samples for filter\n",
    "    T_delta = T/n_up                    #time resolution of upsampled filter\n",
    "    sample_num = np.arange(N)    \n",
    "    h_rrc = np.zeros(N, dtype=float)\n",
    "\n",
    "    for x in sample_num:\n",
    "        t = np.array([(x-N/2)*T_delta])\n",
    "        if t == 0.0:\n",
    "            scaling = 1/np.sqrt(T)\n",
    "            equation = 1-beta+(4*beta/np.pi)\n",
    "            h_rrc[x] = scaling * equation\n",
    "        elif beta != 0 and t == (T/(4*beta) or -T/(4*beta)):\n",
    "            scaling = beta/np.sqrt(2*T)\n",
    "            equation = (1+(2/np.pi))*np.sin(np.pi/(4*beta)) + (1-2/np.pi)*np.cos(np.pi/(4*beta))\n",
    "            h_rrc[x] = scaling * equation\n",
    "        else:\n",
    "            scaling = 1/np.sqrt(T)\n",
    "            numerator = np.sin(np.pi*(1-beta)*t/T) + (4*beta*t/T)*np.cos(np.pi*(1+beta)*t/T)\n",
    "            denominator = (np.pi*t/T)*(1-np.square(4*beta*t/T))\n",
    "            equation = numerator / denominator\n",
    "            h_rrc[x] = scaling * equation\n",
    "            if denominator == 0:            #Dirty workarround for denom=0, negligible if n_up is sufficiently big\n",
    "                h_rrc[x] = h_rrc[x-1]           \n",
    "    return h_rrc "
   ]
  },
  {
   "cell_type": "markdown",
   "metadata": {},
   "source": [
    "Nun können wir uns über die Funktion die Koeffizienten des Pulses $g(t)$ eines rrc-Pulses mit den von uns oben spezifizierten Parametern ausgeben lassen.\n",
    "Um die Impulsantwort $g(t)$ des Pulses \"hörbar\" zu machen erzeugen wir durch $g_\\mathrm{BP}(t)=\\text{Re}\\left\\{g(t) \\mathrm{e}^{\\mathrm{j} 2 \\pi f_\\mathrm{T} t} \\right\\}$ ein Bandpasspuls $g_\\mathrm{BP}(t)$ mit Mittenfrequenz $f_\\mathrm{T}$, wobei die komplexe Einhüllende von $g_\\mathrm{BP}(t)$ der Impulsantwort $g(t)$ des rrc-Pulses entspricht."
   ]
  },
  {
   "cell_type": "code",
   "execution_count": null,
   "metadata": {},
   "outputs": [],
   "source": [
    "#get impulse response of filter\n",
    "g = get_rrc(K,n_up,T,beta)\n",
    "\n",
    "#Do passband conversion\n",
    "t = np.linspace(-K/2,K/2,np.size(g))*T\n",
    "g_bp = np.real(g*np.exp(1j*2*np.pi*f_t*t))\n",
    "\n",
    "#Plot g(t) and g_BP(t)\n",
    "plt.plot(t,g_bp,color='orange',label='$g_\\mathrm{BP}(t)$',linewidth=0.3)\n",
    "plt.plot(t,g,color='k',label='$g(t)$')\n",
    "plt.grid(True)\n",
    "plt.legend()\n",
    "plt.xlabel('$t$ [s]')\n",
    "plt.ylabel('$h(t)$, $h_\\mathrm{BP}(t)$')\n",
    "plt.show()\n",
    "\n"
   ]
  },
  {
   "cell_type": "markdown",
   "metadata": {},
   "source": [
    "Wir speichern $g_\\mathrm{BP}(t)$ als Audiodatei und spielen diese ab:"
   ]
  },
  {
   "cell_type": "code",
   "execution_count": null,
   "metadata": {},
   "outputs": [],
   "source": [
    "# Save audio signal and preamble\n",
    "path='audio/'\n",
    "scaled = np.int16(g_bp / np.max(np.abs(g_bp)) * 32767)\n",
    "write(path+'rrc.wav', np.int32(rate), scaled)\n",
    "\n",
    "# Now we can play our audio signal!\n",
    "import IPython \n",
    "IPython.display.Audio(path+'rrc.wav')"
   ]
  },
  {
   "cell_type": "code",
   "execution_count": null,
   "metadata": {},
   "outputs": [],
   "source": []
  }
 ],
 "metadata": {
  "kernelspec": {
   "display_name": "Python 3 (ipykernel)",
   "language": "python",
   "name": "python3"
  },
  "language_info": {
   "codemirror_mode": {
    "name": "ipython",
    "version": 3
   },
   "file_extension": ".py",
   "mimetype": "text/x-python",
   "name": "python",
   "nbconvert_exporter": "python",
   "pygments_lexer": "ipython3",
   "version": "3.8.10"
  }
 },
 "nbformat": 4,
 "nbformat_minor": 4
}
