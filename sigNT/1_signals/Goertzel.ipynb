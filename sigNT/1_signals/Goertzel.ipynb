{
 "cells": [
  {
   "attachments": {},
   "cell_type": "markdown",
   "metadata": {},
   "source": [
    "# Content and Objective\n",
    "\n",
    "+ Show validity of Goertzel's algorithm"
   ]
  },
  {
   "attachments": {},
   "cell_type": "markdown",
   "metadata": {},
   "source": [
    "# Importing and Plotting Options"
   ]
  },
  {
   "cell_type": "code",
   "execution_count": 1,
   "metadata": {},
   "outputs": [],
   "source": [
    "import numpy as np\n",
    "\n",
    "from scipy import signal\n",
    "from time import time \n",
    "\n",
    "import matplotlib\n",
    "import matplotlib.pyplot as plt\n",
    "\n",
    "%matplotlib inline"
   ]
  },
  {
   "cell_type": "code",
   "execution_count": 2,
   "metadata": {},
   "outputs": [],
   "source": [
    "# plotting options \n",
    "font = {'size'   : 20}\n",
    "plt.rc('font', **font)\n",
    "plt.rc('text', usetex=0)\n",
    "\n",
    "matplotlib.rc('figure', figsize=(18, 6) )"
   ]
  },
  {
   "attachments": {},
   "cell_type": "markdown",
   "metadata": {},
   "source": [
    "# Parameters"
   ]
  },
  {
   "cell_type": "code",
   "execution_count": 3,
   "metadata": {},
   "outputs": [],
   "source": [
    "# define parameters\n",
    "    \n",
    "# dft length\n",
    "N = 64\n",
    "\n",
    "n = np.arange( 0, N )\n",
    "k = np.arange( - N//2, N//2 )"
   ]
  },
  {
   "attachments": {},
   "cell_type": "markdown",
   "metadata": {},
   "source": [
    "# Define signal"
   ]
  },
  {
   "cell_type": "code",
   "execution_count": 4,
   "metadata": {},
   "outputs": [],
   "source": [
    "switch = 3\n",
    "\n",
    "if switch == 1:\n",
    "    x = np.random.rand( N )\n",
    "elif switch == 2:\n",
    "    x = np.random.randn( N )\n",
    "elif switch == 3:\n",
    "    x = np.exp( 1j * 2 * np.pi * n * (N//10) / N )\n"
   ]
  },
  {
   "attachments": {},
   "cell_type": "markdown",
   "metadata": {},
   "source": [
    "# Plotting signal and DFT"
   ]
  },
  {
   "cell_type": "code",
   "execution_count": 5,
   "metadata": {},
   "outputs": [
    {
     "data": {
      "text/plain": [
       "<matplotlib.legend.Legend at 0x1dacfd73e90>"
      ]
     },
     "execution_count": 5,
     "metadata": {},
     "output_type": "execute_result"
    }
   ],
   "source": [
    "plt.figure(1)\n",
    "\n",
    "plt.subplot(121)\n",
    "plt.stem(n, x.real,label='$Re\\{ x[n]\\}$')\n",
    "plt.grid(True);  plt.xlabel('$n$'); #plt.ylabel('$Re\\{ x[n]\\}$')\n",
    "plt.axis(xmin=0, xmax=N+1, ymin=-1.1, ymax=1.1)\n",
    "plt.legend(loc='upper right')\n",
    "\n",
    "X = np.fft.fft( x ) \n",
    "\n",
    "plt.subplot(122)\n",
    "plt.stem( k, np.abs( np.fft.fftshift(X) )**2,label='$|X[k]|^2$')\n",
    "plt.grid(True);  plt.xlabel('$k$'); #plt.ylabel('$|X[k]}|^2$')\n",
    "#plt.axis(xmin=0, xmax=N+1) #, ymin=-1.1, ymax=1.1)\n",
    "plt.legend(loc='upper right')"
   ]
  },
  {
   "cell_type": "markdown",
   "metadata": {},
   "source": [
    "# Show that Goertzel actually works and is way faster\n",
    "\n",
    "+ We will increase order of FFT significantly to show the effects\n",
    "+ *NOTE:* Since the numpy implementation of the FFT is so efficient, the speed-up, unfortunately, not be observed.\n",
    "+ Nevertheless, we will be able to verify that the Goertzel algorithm actually determines the according FFT value"
   ]
  },
  {
   "cell_type": "code",
   "execution_count": 6,
   "metadata": {},
   "outputs": [],
   "source": [
    "# define parameters\n",
    "    \n",
    "# dft length\n",
    "N = 2**3\n",
    "\n",
    "n = np.arange( 0, N )\n",
    "k = np.arange( - N//2, N//2 )\n",
    "\n",
    "# Index at which FFT should be determined\n",
    "k_0 = N//5"
   ]
  },
  {
   "cell_type": "code",
   "execution_count": 7,
   "metadata": {},
   "outputs": [],
   "source": [
    "switch = 2\n",
    "\n",
    "if switch == 1:\n",
    "    x = np.random.rand( N )\n",
    "elif switch == 2:\n",
    "    x = np.random.randn( N )\n",
    "elif switch == 3:\n",
    "    x = np.exp( 1j * 2 * np.pi * n * (N//10) / N )"
   ]
  },
  {
   "cell_type": "code",
   "execution_count": 8,
   "metadata": {},
   "outputs": [
    {
     "name": "stdout",
     "output_type": "stream",
     "text": [
      "Time for FFT: \t\t 0.0\n",
      "Value X[ k_0 ]: \t (-3.1220642814020887-1.5081113529271049j)\n"
     ]
    }
   ],
   "source": [
    "# Show duration required for FFT\n",
    "start = time()\n",
    "X = np.fft.fft( x )\n",
    "X_0_fft = X[ k_0 ]\n",
    "elapsed_fft = time() - start\n",
    "\n",
    "print('Time for FFT: \\t\\t', elapsed_fft )\n",
    "print('Value X[ k_0 ]: \\t', X_0_fft )"
   ]
  },
  {
   "cell_type": "code",
   "execution_count": 9,
   "metadata": {},
   "outputs": [],
   "source": [
    "# Goertzel algorithm\n",
    "\n",
    "def Goertzel_iterative( x, k_0 ):\n",
    "    '''\n",
    "    Performs Goertzel's algorithm on the input sequence using iterations\n",
    "\n",
    "    IN: signal x\n",
    "        index k_0 at which the FFT has to be found\n",
    "    '''\n",
    "\n",
    "    s = np.zeros( N+3 )\n",
    "    x_padded = np.concatenate( ( [ 0, 0], x , [ 0 ] ) )\n",
    "\n",
    "    omega = 2 * np.pi * k_0 / N\n",
    "\n",
    "    for i in range( 2, N+3  ):\n",
    "        s[ i ] = x_padded[ i ] + 2 * np.cos( omega ) * s[i-1] - s[i-2] \n",
    "\n",
    "    y =\ts[ -1 ] - np.exp( -1j* omega ) * s[ -2 ]\n",
    "\n",
    "    return y"
   ]
  },
  {
   "cell_type": "code",
   "execution_count": 10,
   "metadata": {},
   "outputs": [
    {
     "name": "stdout",
     "output_type": "stream",
     "text": [
      "Time for Goertzel: \t 0.0010151863098144531\n",
      "Value X[ k_0 ]: \t (-3.1220642814020882-1.5081113529271049j)\n"
     ]
    }
   ],
   "source": [
    "# Show duration required for Goertzel\n",
    "start = time()\n",
    "X_0_goertzel_iterative = Goertzel_iterative( x, k_0 )\n",
    "elapsed_goertzel_iterative = time() - start\n",
    "\n",
    "print('Time for Goertzel: \\t', elapsed_goertzel_iterative )\n",
    "print('Value X[ k_0 ]: \\t', X_0_goertzel_iterative )"
   ]
  },
  {
   "cell_type": "code",
   "execution_count": 11,
   "metadata": {},
   "outputs": [],
   "source": [
    "# Goertzel algorithm as filter\n",
    "\n",
    "def Goertzel_filter( x, k_0 ):\n",
    "    '''\n",
    "    Performs Goertzel's algorithm on the input sequence using filtering\n",
    "\n",
    "    IN: signal x\n",
    "        index k_0 at which the FFT has to be found\n",
    "    '''\n",
    "\n",
    "    omega = 2 * np.pi * k_0 / N\n",
    "    x_padded = np.concatenate( ( x , [0] ) ) \n",
    "\n",
    "    # Define the system filter: [1, -coeff, 1] (difference equation)\n",
    "    b = np.array( [ 1.0, - np.exp( -1j * omega) ] )  # Input gain (x[n])\n",
    "    a = np.array( [ 1.0, - 2 * np.cos( omega ), 1.0 ] )  # Denominator coefficients\n",
    "\n",
    "    # Apply the filter using lfilter (vectorized recurrence)\n",
    "    s = signal.lfilter(b, a, x_padded)\n",
    "\n",
    "    y =\ts[-1] #- np.exp( -1j* omega ) * s[-2]\n",
    "\n",
    "    return y"
   ]
  },
  {
   "cell_type": "code",
   "execution_count": 12,
   "metadata": {},
   "outputs": [
    {
     "name": "stdout",
     "output_type": "stream",
     "text": [
      "Time for Goertzel w. filter: \t 0.0\n",
      "Value X[ k_0 ]: \t\t (-3.1220642814020882-1.5081113529271044j)\n"
     ]
    }
   ],
   "source": [
    "# Show duration required for Goertzel\n",
    "start = time()\n",
    "X_0_goertzel_filter = Goertzel_filter( x, k_0 )\n",
    "elapsed_goertzel_filter = time() - start\n",
    "\n",
    "print('Time for Goertzel w. filter: \\t', elapsed_goertzel_filter )\n",
    "print('Value X[ k_0 ]: \\t\\t', X_0_goertzel_filter )"
   ]
  },
  {
   "cell_type": "markdown",
   "metadata": {},
   "source": [
    "# Compare Performance for different input length"
   ]
  },
  {
   "cell_type": "code",
   "execution_count": null,
   "metadata": {},
   "outputs": [],
   "source": [
    "if 0:\n",
    "    N_exp = np.arange( 5, 12 )\n",
    "    N_fft = 2**N_exp\n",
    "else:\n",
    "    N_fft = np.arange( 2**5, 2**16, 1000 )\n",
    "\n",
    "\n",
    "N_trials = 1000\n",
    "\n",
    "time_elapsed = np.zeros( (3, len(N_fft)) )\n",
    "\n",
    "for ind_t, val_t in enumerate( N_fft ):\n",
    "\n",
    "    start = time()\n",
    "    for _n in range(N_trials):\n",
    "        x = np.random.randn( val_t  )\n",
    "        X_fft = np.fft.fft( x )\n",
    "        X_0_fft = X_fft[ k_0 ]\n",
    "    time_elapsed[ 0, ind_t ] = time() - start\n",
    "\n",
    "    start = time()\n",
    "    for _n in range(N_trials):\n",
    "        x = np.random.randn( val_t  )\n",
    "        X_0_goertzel_iterative = Goertzel_iterative( x, k_0 )\n",
    "    time_elapsed[ 1, ind_t ] = time() - start\n",
    "\n",
    "\n",
    "    start = time()\n",
    "    for _n in range(N_trials):\n",
    "        x = np.random.randn( val_t  )\n",
    "        X_0_goertzel_filter = Goertzel_filter( x, k_0 )\n",
    "    time_elapsed[ 2, ind_t ] = time() - start\n"
   ]
  },
  {
   "cell_type": "code",
   "execution_count": null,
   "metadata": {},
   "outputs": [],
   "source": [
    "plt.figure()\n",
    "\n",
    "plt.plot( N_fft, time_elapsed[ 0, :], label='FFT' )\n",
    "plt.plot( N_fft, time_elapsed[ 1, :], label='Goertzel iterative' )\n",
    "plt.plot( N_fft, time_elapsed[ 2, :], label='Goertzel filter' )\n",
    "plt.yscale('log')\n",
    "plt.xlabel()\n",
    "plt.grid(1)\n",
    "plt.legend()\n",
    "plt.show()"
   ]
  },
  {
   "cell_type": "code",
   "execution_count": null,
   "metadata": {},
   "outputs": [],
   "source": []
  }
 ],
 "metadata": {
  "kernelspec": {
   "display_name": "base",
   "language": "python",
   "name": "python3"
  },
  "language_info": {
   "codemirror_mode": {
    "name": "ipython",
    "version": 3
   },
   "file_extension": ".py",
   "mimetype": "text/x-python",
   "name": "python",
   "nbconvert_exporter": "python",
   "pygments_lexer": "ipython3",
   "version": "3.11.7"
  }
 },
 "nbformat": 4,
 "nbformat_minor": 2
}
