{
 "cells": [
  {
   "cell_type": "markdown",
   "metadata": {},
   "source": [
    "# Content and Objective\n",
    "\n",
    "+ Show calculations of Levinson-Durbin\n",
    "+ Method: Get random ar signal and apply equations of LD and YW, respectively"
   ]
  },
  {
   "cell_type": "code",
   "execution_count": null,
   "metadata": {},
   "outputs": [],
   "source": [
    "# importing\n",
    "import numpy as np\n",
    "import scipy.signal\n",
    "from numpy.typing import ArrayLike\n",
    "\n",
    "import matplotlib.pyplot as plt\n",
    "from shutil import which\n",
    "\n",
    "# showing figures inline\n",
    "%matplotlib inline"
   ]
  },
  {
   "cell_type": "code",
   "execution_count": null,
   "metadata": {},
   "outputs": [],
   "source": [
    "# plotting options\n",
    "plt.rcParams.update({\n",
    "    \"font.size\": 36,\n",
    "    \"text.usetex\": bool(which(\"latex\")),\n",
    "    \"figure.figsize\": (30, 8)\n",
    "})"
   ]
  },
  {
   "cell_type": "markdown",
   "metadata": {},
   "source": [
    "# Get Parameter by Applying YW"
   ]
  },
  {
   "cell_type": "code",
   "execution_count": null,
   "metadata": {},
   "outputs": [],
   "source": [
    "def est_acf(y: ArrayLike, est_type: str) -> ArrayLike:\n",
    "    \"\"\"\n",
    "    estimates the discrete autocorrelation function (vector) given an array of observation\n",
    "\n",
    "    :param y observation\n",
    "    :param est_type \"biased\" or \"unbiased\"\n",
    "    :return estimated acf, centered around 0\n",
    "    \"\"\"\n",
    "\n",
    "    N = np.size(y)\n",
    "    r = np.zeros_like(y)\n",
    "\n",
    "    # loop lags of acf\n",
    "    for k in np.arange(0, N):\n",
    "\n",
    "        temp = np.sum(y[k:N] * np.conjugate(y[0:(N - k)]))\n",
    "\n",
    "        # type of estimator\n",
    "        if est_type == 'biased':\n",
    "            r[k] = temp / N\n",
    "        elif est_type == 'unbiased':\n",
    "            r[k] = temp / (N - k)\n",
    "\n",
    "    # find values for negative indices\n",
    "    r_reverse = np.conjugate(r[::-1])\n",
    "\n",
    "    return np.append(r_reverse[0:len(r) - 1], r)\n",
    "\n",
    "\n",
    "def find_yule_walker_parameters(y: ArrayLike, order: int,\n",
    "                                sigma2: float) -> ArrayLike:\n",
    "    \"\"\"\n",
    "    Estimates the a_v paramters using the Yule-Walker method\n",
    "\n",
    "    :param y samples\n",
    "    :param order Yule-Walker model order\n",
    "    :returns array of Yule-Walker parameters\n",
    "    \"\"\"\n",
    "\n",
    "    N = len(y)\n",
    "\n",
    "    #r = est_acf(y, 'biased')\n",
    "    r = np.correlate(y, y, 'full') / N\n",
    "\n",
    "    # get matrix R for Yule-Walker\n",
    "    # note that R is not the autocorrelation matrix, but R = (ACF matrix)^*\n",
    "    R = np.zeros([order + 1, order + 1], dtype=float)\n",
    "    for p in range(0, order + 1):\n",
    "        R[:, p] = r[N - 1 - p:N - 1 - p + order + 1]\n",
    "\n",
    "    # find and solve linear equation system for the coefficients\n",
    "    b = np.matrix(np.append(sigma2, np.zeros(order))).T\n",
    "    theta = np.linalg.solve(R, b)\n",
    "\n",
    "    theta /= theta[0]\n",
    "\n",
    "    return np.transpose(theta)"
   ]
  },
  {
   "cell_type": "markdown",
   "metadata": {},
   "source": [
    "# Construct Signal"
   ]
  },
  {
   "cell_type": "markdown",
   "metadata": {},
   "source": [
    "### Parameters"
   ]
  },
  {
   "cell_type": "code",
   "execution_count": null,
   "metadata": {},
   "outputs": [],
   "source": [
    "# parameters: noise variance\n",
    "sigma_x_2 = 1 + np.random.rand()\n",
    "print(f'Noise variance: \\t sigma2 = {sigma_x_2}')\n",
    "\n",
    "# parameters: ar parameters\n",
    "q = 2\n",
    "a_1_q = np.random.rand(q)\n",
    "a_1_q = np.array([.5, .25])\n",
    "print(f'Feedback parameters: \\t a = {a_1_q}')\n"
   ]
  },
  {
   "cell_type": "markdown",
   "metadata": {},
   "source": [
    "### Sample noise and apply to signal"
   ]
  },
  {
   "cell_type": "code",
   "execution_count": null,
   "metadata": {
    "jupyter": {
     "source_hidden": true
    }
   },
   "outputs": [],
   "source": [
    "def get_ar_signal(sigma_x_2: float, N_length: int,\n",
    "                  taps: ArrayLike) -> ArrayLike:\n",
    "    \"\"\"\n",
    "    Get a signal from an autoregressive (AR) signal model\n",
    "\n",
    "    :param sigma_x_2 input white noise variance\n",
    "    :param N_length length of the signal vector\n",
    "    :param order Order of the AR model\n",
    "    :param Taps of the AR model\n",
    "    :return Signal\n",
    "    \"\"\"\n",
    "\n",
    "    # init input noise and output as first input value\n",
    "    x = np.sqrt(sigma_x_2) * np.random.randn(N_length)\n",
    "    y = np.zeros_like(x)\n",
    "\n",
    "    # loop for times\n",
    "    for n, value in enumerate(x):\n",
    "        ar = sum(taps[_q] * y[n - _q - 1]\n",
    "                 for _q in range(min(n, len(taps))))\n",
    "        # apply\n",
    "        y[n] = value - ar\n",
    "\n",
    "    return y"
   ]
  },
  {
   "cell_type": "markdown",
   "metadata": {},
   "source": [
    "# Apply Levinson-Durbin\n",
    "\n",
    "+ Init: \n",
    "$$\\theta_1=-\\frac{\\rho_1}{\\rho_0}, \\quad k_1=\\theta_1, \\quad \\sigma_1^2=\\rho_0-\\frac{|\\rho_1|^2}{\\rho_0}$$\n",
    "\n",
    "+ Loop q = 1 : max:\n",
    "$$ k_{q+1}=-\\frac{ \\rho_{q+1}+\\mathbf{r}_{q,\\leftarrow}\\mathrm{\\theta}_q }{\\sigma_q^2}$$\n",
    "$$\\sigma_{q+1}^2 =\\sigma_q^2 ( 1-|k_{q+1}|^2)$$\n",
    "$$\\mathbf{\\theta}_{q+1} = \\begin{pmatrix} \\mathbf{\\theta}_q \\\\ 0 \\end{pmatrix} + k_{q+1}\\begin{pmatrix} \\mathbf{\\theta}_{q, \\leftarrow} \\\\ 1 \\end{pmatrix}$$"
   ]
  },
  {
   "cell_type": "code",
   "execution_count": null,
   "metadata": {},
   "outputs": [],
   "source": [
    "# max value of q\n",
    "q_max = 15\n",
    "\n",
    "# sequence length\n",
    "N_len = int(1e3)\n",
    "\n",
    "# get ar signal\n",
    "y = get_ar_signal(sigma_x_2, N_len, a_1_q)\n",
    "\n",
    "# estimate acf and get indices/shifts >= 0 only\n",
    "r = est_acf(y, 'biased')\n",
    "r_pos = r[(len(r) - 1) // 2:]\n",
    "\n",
    "# init LD\n",
    "theta = [-r_pos[1] / r_pos[0]]\n",
    "k = theta\n",
    "sigma2 = r_pos[0] - np.abs(r_pos[1])**2 / r_pos[0]\n",
    "\n",
    "show_intermediate_results = True\n",
    "show_final_results = True\n",
    "if show_intermediate_results:\n",
    "    print(f\" {'_' * 70} \")\n",
    "    print(f\"| q |    k   |   𝜎²   |\")\n",
    "    print(f\"|{' ' * 31}𝚯(YW){' ' * 31}|\")\n",
    "    print(f\"|{' ' * 31}𝚯    {' ' * 31}|\")\n",
    "    print(f\"|{'-' * 68}|\")\n",
    "# loop for orders\n",
    "for _q in range(1, q_max + 1):\n",
    "\n",
    "    # slice acf values and determine inverted values\n",
    "    r_q = r_pos[1:_q + 1]\n",
    "    r_q_left = r_q[::-1]\n",
    "\n",
    "    # determine new k, sigma2 and theta\n",
    "    k = -(r_pos[_q + 1] + np.inner(r_q_left, theta)) / sigma2\n",
    "\n",
    "    sigma2 = sigma2 * (1 - np.abs(k)**2)\n",
    "\n",
    "    theta = np.append(theta, 0) + k * np.append(theta[::-1], 1)\n",
    "\n",
    "    # like to see intermediate results?\n",
    "\n",
    "    if show_intermediate_results:\n",
    "        print(f\"|{_q:3}|{k: >8.4f}|{sigma2: >8.4g}|\")\n",
    "        print(f\"|{theta}|\")\n",
    "        print(f'|{find_yule_walker_parameters(y, _q+1, sigma2 )[0][1:]}|')\n",
    "        print(f\"|{'-'*68}|\")\n",
    "\n",
    "# like to see final results?\n",
    "if show_final_results:\n",
    "    print('Final results:')\n",
    "    print('--------------')\n",
    "    print(f'k: \\t\\t{k}')\n",
    "    print(f'sigma2: \\t {sigma2}\\n')\n",
    "    print(f'theta: \\t\\t {theta}\\n')\n",
    "    print(\n",
    "        f'YW: theta: \\t {find_yule_walker_parameters(y, q_max+1, sigma2 )[0][1:]} \\n'\n",
    "    )\n"
   ]
  },
  {
   "cell_type": "markdown",
   "metadata": {},
   "source": [
    "# Redefine LD as Function to Time it"
   ]
  },
  {
   "cell_type": "code",
   "execution_count": null,
   "metadata": {},
   "outputs": [],
   "source": [
    "def find_parameters_levinsondurbin(y: ArrayLike, q_max: int) -> ArrayLike:\n",
    "    \"\"\"\n",
    "    estimates a_v parameters of filter using the Levinson-Durbin method\n",
    "                \n",
    "    :param y signal\n",
    "    :param q_max model order\n",
    "    :return parameter vector (a_v)\n",
    "    \"\"\"\n",
    "\n",
    "    r = est_acf(y, 'biased')\n",
    "    r_pos = r[(len(r) - 1) // 2:]\n",
    "\n",
    "    # init\n",
    "    theta = [-r_pos[1] / r_pos[0]]\n",
    "    k = theta\n",
    "    sigma2 = r_pos[0] - np.abs(r_pos[1])**2 / r_pos[0]\n",
    "\n",
    "    for _q in range(1, q_max + 1):\n",
    "\n",
    "        r_q = r_pos[1:_q + 1]\n",
    "        r_q_left = r_q[::-1]\n",
    "\n",
    "        k = -(r_pos[_q + 1] + np.inner(r_q_left, theta)) / sigma2\n",
    "\n",
    "        sigma2 = sigma2 * (1 - np.abs(k)**2)\n",
    "\n",
    "        theta = np.append(theta, 0) + k * np.append(theta[::-1], 1)\n",
    "\n",
    "    return theta\n",
    "\n",
    "\n",
    "def find_parameters_yulewalker(acf: ArrayLike, order: int,\n",
    "                               sigma2: float) -> ArrayLike:\n",
    "    \"\"\"\n",
    "    estimates a_v parameters of filter using the Yule-Walkier method\n",
    "                \n",
    "    :param acf autocorrelation of signla\n",
    "    :param order model order\n",
    "    :param sigma2 noise variance\n",
    "    :return parameter vector (a_v)\n",
    "    \"\"\"\n",
    "\n",
    "    N = int((len(acf) + 1) / 2)\n",
    "\n",
    "    # get matrix R for Yule-Walker\n",
    "    # note that R is not the autocorrelation matrix, but R = (ACF matrix)^*\n",
    "    R = np.zeros([order + 1, order + 1], dtype=float)\n",
    "    for p in range(0, order + 1):\n",
    "        R[:, p] = acf[N - 1 - p:N - 1 - p + order + 1]\n",
    "\n",
    "    # find and solve linear equation system for the coefficients\n",
    "    b = np.matrix(np.append(sigma2, np.zeros(order))).T\n",
    "    theta = np.linalg.solve(R, b)\n",
    "    theta /= theta[0]\n",
    "\n",
    "    return np.transpose(theta)"
   ]
  },
  {
   "cell_type": "markdown",
   "metadata": {},
   "source": [
    "### time it"
   ]
  },
  {
   "cell_type": "code",
   "execution_count": null,
   "metadata": {},
   "outputs": [],
   "source": [
    "import time\n",
    "\n",
    "# max value of q\n",
    "q_max = 100\n",
    "\n",
    "# sequence length\n",
    "N_len = int(1e4)\n",
    "\n",
    "# get ar signal\n",
    "y = get_ar_signal(sigma_x_2, N_len, a_1_q)\n",
    "\n",
    "r = est_acf(y, 'biased')\n",
    "r_pos = r[(len(r) - 1) // 2:]\n",
    "\n",
    "# do LD\n",
    "start = time.time()\n",
    "t = find_parameters_levinsondurbin(r_pos, q_max)\n",
    "elapsed = time.time() - start\n",
    "\n",
    "print(f'LD required: {elapsed}')\n",
    "\n",
    "# do YW\n",
    "start = time.time()\n",
    "for _q in range(q_max + 1):\n",
    "    t = find_parameters_yulewalker(r, q_max, sigma2)\n",
    "elapsed = time.time() - start\n",
    "\n",
    "print(f'YW required: {elapsed}')\n"
   ]
  }
 ],
 "metadata": {
  "kernelspec": {
   "display_name": "Python 3.9.9 64-bit",
   "language": "python",
   "name": "python3"
  },
  "language_info": {
   "codemirror_mode": {
    "name": "ipython",
    "version": 3
   },
   "file_extension": ".py",
   "mimetype": "text/x-python",
   "name": "python",
   "nbconvert_exporter": "python",
   "pygments_lexer": "ipython3",
   "version": "3.9.9"
  },
  "vscode": {
   "interpreter": {
    "hash": "767d51c1340bd893661ea55ea3124f6de3c7a262a8b4abca0554b478b1e2ff90"
   }
  }
 },
 "nbformat": 4,
 "nbformat_minor": 4
}
