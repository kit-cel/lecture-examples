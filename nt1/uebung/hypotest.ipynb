{
 "cells": [
  {
   "cell_type": "code",
   "execution_count": null,
   "metadata": {},
   "outputs": [],
   "source": [
    "import numpy as np\n",
    "import matplotlib.pyplot as plt \n",
    "%matplotlib widget\n",
    "import ipywidgets as widgets\n"
   ]
  },
  {
   "cell_type": "markdown",
   "metadata": {},
   "source": [
    "Definiere beide Gaußverteilungen aus A39"
   ]
  },
  {
   "cell_type": "code",
   "execution_count": null,
   "metadata": {},
   "outputs": [],
   "source": [
    "def plot_gauss(var,decision,criterion,P0):\n",
    "    ''' \n",
    "    var: sigma_0 from A39, real valued greater zero\n",
    "    decision: Plot decision thresholds z1/z2 calculated in A39 b) --> boolean\n",
    "    criterion: Whether to use MAP or ML criterion --> {MAP,ML}\n",
    "    P_0: Probability of transmitting A=0\n",
    "    '''\n",
    "\n",
    "\n",
    "    plt.close()\n",
    "    z = np.linspace(-4,4,1000)\n",
    "\n",
    "    #Define both pdf for ML decision\n",
    "    f0 = 1/(np.sqrt(2*np.pi*var))*np.exp(-(z)**2/(2*var))\n",
    "    f1 = 1/(np.sqrt(2*np.pi*4*var))*np.exp(-(z-1)**2/(2*4*var))\n",
    "\n",
    "    if criterion == 'MAP':\n",
    "        P1 = 1-P0           #Calculate probability of transmitting A=1\n",
    "        \n",
    "        #MAP criterion scales pdfs with the probability of transmitting the respective bits\n",
    "        f0 = f0*P0\n",
    "        f1 = f1*P1\n",
    "\n",
    "    #Calculate thresholds\n",
    "    z1 = -1/3 - 2/3 *np.sqrt(1+6*np.log(2)*var)\n",
    "    z2 = -1/3 + 2/3 *np.sqrt(1+6*np.log(2)*var)\n",
    "\n",
    "    plt.plot(z,f0,label='f(z|A=0)')\n",
    "    plt.plot(z,f1,label='f(z|A=1)')\n",
    "    if decision == True:\n",
    "        plt.plot(np.linspace(z1,z1,2),np.linspace(0,0.5,2),label='z1')\n",
    "        plt.plot(np.linspace(z2,z2,2),np.linspace(0,0.5,2),label='z2')\n",
    "    plt.grid(True)\n",
    "    plt.xlabel('z')\n",
    "    plt.ylabel('f(z|A)')\n",
    "    plt.legend()\n",
    "    plt.show()\n",
    "\n"
   ]
  },
  {
   "cell_type": "code",
   "execution_count": null,
   "metadata": {},
   "outputs": [],
   "source": [
    "_ = widgets.interact(plot_gauss,var=(0.001,0.7,0.001),decision=[False,True],criterion=['ML','MAP'],P0=(0,1,0.01))"
   ]
  },
  {
   "cell_type": "code",
   "execution_count": null,
   "metadata": {},
   "outputs": [],
   "source": []
  }
 ],
 "metadata": {
  "kernelspec": {
   "display_name": "Python 3.8.10 64-bit",
   "language": "python",
   "name": "python3"
  },
  "language_info": {
   "codemirror_mode": {
    "name": "ipython",
    "version": 3
   },
   "file_extension": ".py",
   "mimetype": "text/x-python",
   "name": "python",
   "nbconvert_exporter": "python",
   "pygments_lexer": "ipython3",
   "version": "3.8.10"
  },
  "orig_nbformat": 4,
  "vscode": {
   "interpreter": {
    "hash": "31f2aee4e71d21fbe5cf8b01ff0e069b9275f58929596ceb00d14d90e3e16cd6"
   }
  }
 },
 "nbformat": 4,
 "nbformat_minor": 2
}
