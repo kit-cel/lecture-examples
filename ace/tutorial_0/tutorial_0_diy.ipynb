{
 "cells": [
  {
   "cell_type": "markdown",
   "id": "4ab5119a",
   "metadata": {},
   "source": [
    "# Tutorial of Advanced Communications Engineering - Session 0\n",
    "\n",
    "Welcome to the ACE Tutorial! Here you will find code examples that illustrate the concepts presented in the lectures. This collection of Jupyter Notebooks also serve as an introduction on how to simulate the physical layer of a communications system, an important tool for a communications engineer.\n",
    "\n",
    "We start in Session 0 with an example that applies the main concepts reviewed during the first lecture, which include modulation, noise, demodulation, etc. The following code implements an end-to-end transmission chain, where firstly the information symbols are generated as a random sequence, and then modulated, transmitted through a noisy channel, and finally demodulated and compared with the transmitted symbols at the receiver.\n",
    "\n",
    "### Part 1) QAM modulation and AWGNC Channel"
   ]
  },
  {
   "cell_type": "code",
   "execution_count": null,
   "id": "b1031319",
   "metadata": {},
   "outputs": [],
   "source": [
    "# We start with importing the necessary libraries\n",
    "import numpy as np\n",
    "import matplotlib.pyplot as plt\n",
    "from scipy.stats import norm, laplace, expon"
   ]
  },
  {
   "cell_type": "markdown",
   "id": "b6b4b103",
   "metadata": {},
   "source": [
    "Next we follow by defining the _constellation_ we want to use. Our examples will focus on QAM, but you can implement other modulation formats yourself (e.g. PSK, PAM, etc.). At this point, we won't consider _how_ the information bits are mapped to the IQ symbols."
   ]
  },
  {
   "cell_type": "code",
   "execution_count": null,
   "id": "a865cd03",
   "metadata": {},
   "outputs": [],
   "source": [
    "n_symbols = 16                          # Number of symbols in the constellation\n",
    "n_rows = int(np.sqrt(n_symbols))        # Number of rows in the constellation\n",
    "constellation = # COMPLETE: The constellation should be a python list where each point is a complex (real) number, and it doesn't have to be normalized\n",
    "\n",
    "# Helper function to visualize the constellation\n",
    "def visualize_constellation(constellation, title):\n",
    "    plt.scatter(constellation.real, constellation.imag)\n",
    "    plt.title(title)\n",
    "    plt.xlabel('In-Phase')\n",
    "    plt.ylabel('Quadrature')\n",
    "    plt.grid()\n",
    "    plt.axis('equal')\n",
    "    plt.show()\n",
    "    \n",
    "visualize_constellation(constellation, f'{n_symbols}-QAM Constellation')"
   ]
  },
  {
   "cell_type": "markdown",
   "id": "cec1f041",
   "metadata": {},
   "source": [
    "Notice however that the above constellation is not normalized to have _unitary symbol energy_. Normalization is required so that the comparison between the different modulation formats is fair."
   ]
  },
  {
   "cell_type": "code",
   "execution_count": null,
   "id": "4635a96f",
   "metadata": {},
   "outputs": [],
   "source": [
    "# Here we already observe one advantage of using numpy arrays: we can easily perform mathematical operations on all elements of the array at once\n",
    "constellation = # COMPLETE: Normalize the constellation so that the average power is 1\n",
    "visualize_constellation(constellation, f'{n_symbols}-QAM Constellation')"
   ]
  },
  {
   "cell_type": "markdown",
   "id": "e461a8a6",
   "metadata": {},
   "source": [
    "Now we can generate the symbols _indexes_ that will be transmitted. These are random integers sampled uniformly."
   ]
  },
  {
   "cell_type": "code",
   "execution_count": null,
   "id": "9d44b2d0",
   "metadata": {},
   "outputs": [],
   "source": [
    "symbols_idx = # COMPLETE: Generate random symbol indexes\n",
    "transmitted_symbols = # COMPLETE: Map indexes to constellation symbols"
   ]
  },
  {
   "cell_type": "markdown",
   "id": "9fcafe8f",
   "metadata": {},
   "source": [
    "During the lecture, _linear_ modulation was introduced: $$S(t) = \\sum_{n=0}^{\\infty} A_n g(t - nT).$$\n",
    "\n",
    "We then have to choose a _pulse shape_ $g(t)$ to use. Here we chose the root-raised-cosine filter, a choice that will become clearer in the next chapters. The expression can be found [in this Wikipedia page](https://en.wikipedia.org/wiki/Root-raised-cosine_filter). Can you implement it yourself?"
   ]
  },
  {
   "cell_type": "code",
   "execution_count": null,
   "id": "c8f9fb93",
   "metadata": {},
   "outputs": [],
   "source": [
    "def get_rrc_ir(beta, span, sps):\n",
    "    # COMPLETE: Implement the root-raised-cosine filter impulse response calculation, store the values in h\n",
    "    return h / np.sqrt(np.sum(h ** 2))  # Normalize filter energy\n",
    "\n",
    "# Filter parameters\n",
    "beta = 0.25     # Roll-off factor\n",
    "span = 10       # Filter span in symbols\n",
    "sps = 8         # Samples per symbol\n",
    "\n",
    "rrc_ir = get_rrc_ir(beta, span, sps)\n",
    "plt.plot(np.linspace(-span / 2, span / 2, len(rrc_ir)), rrc_ir)\n",
    "plt.xlabel('Time (symbols)')\n",
    "plt.ylabel('Amplitude')\n",
    "plt.title('Root-Raised-Cosine Filter Impulse Response')\n",
    "plt.xticks(np.arange(-span / 2, span / 2 + 1, 1))\n",
    "plt.grid()\n",
    "plt.show()"
   ]
  },
  {
   "cell_type": "markdown",
   "id": "34e5ff4c",
   "metadata": {},
   "source": [
    "How can we then shift and modulate this waveform? Easy: convolution!\n",
    "$$\n",
    "\\begin{align*}\n",
    "S(t) &= \\left(\\sum_{n=0}^{\\infty} A_n \\delta (t - nT)\\right) * g(t) \\\\\n",
    "&= \\sum_{n=0}^{\\infty} A_n \\delta (t - nT) * g(t) \\\\\n",
    "&= \\sum_{n=0}^{\\infty} A_n g(t - nT).\n",
    "\\end{align*}\n",
    "$$\n",
    "\n",
    "Therefore, we proceed with the simulated version of $$\\left(\\sum_{n=0}^{\\infty} A_n \\delta (t - nT)\\right).$$"
   ]
  },
  {
   "cell_type": "code",
   "execution_count": null,
   "id": "71eb24e3",
   "metadata": {},
   "outputs": [],
   "source": [
    "# COMPLETE: Generate an array that is all zeros, but every sps-th sample is a transmitted symbol\n",
    "upsampled_symbols = \n",
    "\n",
    "fig, ax = plt.subplots(1, 2, figsize=(12, 4))\n",
    "ax[0].stem(np.arange(200), upsampled_symbols.real[:200], label='In-Phase')\n",
    "ax[0].set_xlabel('Sample Index')\n",
    "ax[0].set_ylabel('In-Phase Component')\n",
    "ax[1].stem(np.arange(200), upsampled_symbols.imag[:200], label='Quadrature')\n",
    "ax[1].set_xlabel('Sample Index')\n",
    "ax[1].set_ylabel('Quadrature Component')\n",
    "fig.suptitle('Upsampled Transmitted Symbols (First 200 Samples)')\n",
    "fig.show()"
   ]
  },
  {
   "cell_type": "code",
   "execution_count": null,
   "id": "c9069387",
   "metadata": {},
   "outputs": [],
   "source": [
    " # Convolve upsampled symbols with RRC filter to get the modulated signal\n",
    "modulated_signal = np.convolve(upsampled_symbols, rrc_ir, mode='full')\n",
    "\n",
    "fig, ax = plt.subplots(1, 2, figsize=(12, 4))\n",
    "ax[0].plot(np.arange(200), modulated_signal.real[:200], label='In-Phase')\n",
    "ax[0].set_xlabel('Sample Index')\n",
    "ax[0].set_ylabel('In-Phase Component')\n",
    "ax[1].plot(np.arange(200), modulated_signal.imag[:200], label='Quadrature')\n",
    "ax[1].set_xlabel('Sample Index')\n",
    "ax[1].set_ylabel('Quadrature Component')\n",
    "fig.suptitle('Modulated Signal (First 200 Samples)')\n",
    "plt.show()"
   ]
  },
  {
   "cell_type": "markdown",
   "id": "afba9f2c",
   "metadata": {},
   "source": [
    "We add noise to the signal:"
   ]
  },
  {
   "cell_type": "code",
   "execution_count": null,
   "id": "9723600c",
   "metadata": {},
   "outputs": [],
   "source": [
    "# Choose a SNR value\n",
    "es_n0_dB = 20  # Signal-to-Noise Ratio in dB\n",
    "es_n0 = 10 ** (es_n0_dB / 10)"
   ]
  },
  {
   "cell_type": "markdown",
   "id": "8f62bf2f",
   "metadata": {},
   "source": [
    "We have already fixed the symbol energy to one, and also normalizing the energy of the pulse shape $g(t)$ guarantees that the received signal after matched filtering (correlation) will also have power equal to one."
   ]
  },
  {
   "cell_type": "code",
   "execution_count": null,
   "id": "272c0017",
   "metadata": {},
   "outputs": [],
   "source": [
    "# Therefore,\n",
    "n0 = 1 / es_n0  # Since symbol energy is normalized to 1\n",
    "\n",
    "# Add noise to the modulated signal\n",
    "# COMPLETE: Generate complex Gaussian noise with variance n0/2 per dimension\n",
    "noise = \n",
    "received_signal = modulated_signal + noise"
   ]
  },
  {
   "cell_type": "markdown",
   "id": "eadebb04",
   "metadata": {},
   "source": [
    "Important to notice: as discussed in the lecture, the noise is _circular_, meaning that real and imaginary parts are generated independently of each other. Furthermore, the noise is _white_, meaning that different time samples are _uncorrelated_."
   ]
  },
  {
   "cell_type": "code",
   "execution_count": null,
   "id": "753220c6",
   "metadata": {},
   "outputs": [],
   "source": [
    "fig, ax = plt.subplots(1, 2, figsize=(12, 4))\n",
    "ax[0].plot(np.arange(200), received_signal.real[:200], label='In-Phase with Noise')\n",
    "ax[0].set_xlabel('Sample Index')\n",
    "ax[0].set_ylabel('In-Phase Component')\n",
    "ax[1].plot(np.arange(200), received_signal.imag[:200], label='Quadrature with Noise')\n",
    "ax[1].set_xlabel('Sample Index')\n",
    "ax[1].set_ylabel('Quadrature Component')\n",
    "fig.suptitle('Noisy Received Signal (First 200 Samples)')\n",
    "plt.show()"
   ]
  },
  {
   "cell_type": "markdown",
   "id": "8876e063",
   "metadata": {},
   "source": [
    "All that is left now is to implement the matched filter (MF) and then detect the symbols!"
   ]
  },
  {
   "cell_type": "code",
   "execution_count": null,
   "id": "04b248bb",
   "metadata": {},
   "outputs": [],
   "source": [
    "demodulated_signal = np.convolve(received_signal, rrc_ir, mode='full')"
   ]
  },
  {
   "cell_type": "markdown",
   "id": "5221ad89",
   "metadata": {},
   "source": [
    "We also have to compensate for delays introduced during the filtering process. Observe the following plot:"
   ]
  },
  {
   "cell_type": "code",
   "execution_count": null,
   "id": "20d7c10a",
   "metadata": {},
   "outputs": [],
   "source": [
    "rc_ir = np.convolve(rrc_ir, rrc_ir, mode='full')\n",
    "plt.plot(np.arange(len(rc_ir)), rc_ir)\n",
    "plt.xlabel('Time (samples)')\n",
    "plt.ylabel('Amplitude')\n",
    "plt.title('Combined Raised-Cosine-Filter Impulse Response')\n",
    "plt.grid()\n",
    "plt.show()\n",
    "print(f'Combined filter length: {len(rc_ir)} samples')\n",
    "\n",
    "plt.plot(np.arange(75, 90), rc_ir[75:90])\n",
    "plt.xlabel('Time (samples)')\n",
    "plt.ylabel('Amplitude')\n",
    "plt.title('Combined Raised-Cosine-Filter Impulse Response (zoomed-in)')\n",
    "plt.grid()\n",
    "plt.show()"
   ]
  },
  {
   "cell_type": "markdown",
   "id": "9180177b",
   "metadata": {},
   "source": [
    "By computing $g(t) * g(t)$, we observe that the peak of the impulse response has a delay of 80 samples! By zooming-in we can perform the sanity check that the peak of $g(t) * g(t)$ is 1, and that at the sps-th sample after the peak the response is zero, and therefore no inter-symbol interference (ISI) is observed."
   ]
  },
  {
   "cell_type": "code",
   "execution_count": null,
   "id": "08f730f6",
   "metadata": {},
   "outputs": [],
   "source": [
    "# Here we introduce a parameter that will be used afterwards\n",
    "time_offset = 0\n",
    "\n",
    "# Correct for delay introduced by filtering\n",
    "filter_delay = (len(rrc_ir) - 1)  # Delay introduced by two RRC filters\n",
    "start_idx = filter_delay + time_offset\n",
    "end_idx = start_idx + len(transmitted_symbols) * sps\n",
    "received_symbols = demodulated_signal[start_idx:end_idx:sps]\n",
    "\n",
    "visualize_constellation(received_symbols, f'{n_symbols}-QAM Constellation')"
   ]
  },
  {
   "cell_type": "markdown",
   "id": "dd35cd9c",
   "metadata": {},
   "source": [
    "We can perform a sanity check on the signal power:"
   ]
  },
  {
   "cell_type": "code",
   "execution_count": null,
   "id": "d3e318a6",
   "metadata": {},
   "outputs": [],
   "source": [
    "received_power = np.mean(np.abs(received_symbols) ** 2)\n",
    "print(f'Received Signal Power: {received_power:.4f}')\n",
    "print(f'Expected Signal Power: {1.0 + n0:.4f}')"
   ]
  },
  {
   "cell_type": "markdown",
   "id": "b02d5765",
   "metadata": {},
   "source": [
    "Are we able to detect the symbols correctly using the MAP rule for AWGNC? Remember: $$\\hat{m}_{\\text{MAP}}[k] = \\underset{m}{\\text{argmax}} \\| r[k] - s_m \\|^2$$"
   ]
  },
  {
   "cell_type": "code",
   "execution_count": null,
   "id": "9f3ce809",
   "metadata": {},
   "outputs": [],
   "source": [
    "# Distance array:\n",
    "distance_array = # COMPLETE: create a 2D array where each entry (k, m) corresponds to the distance above\n",
    "estimated_symbols_idx = np.argmin(distance_array, axis=1)\n",
    "\n",
    "# Calculate Symbol Error Rate (SER)\n",
    "n_errors = np.sum(estimated_symbols_idx != symbols_idx)\n",
    "ser = n_errors / len(symbols_idx)\n",
    "print(f'Symbol Error Rate (SER): {ser:.4f}')"
   ]
  },
  {
   "cell_type": "markdown",
   "id": "296430fe",
   "metadata": {},
   "source": [
    "***\n",
    "#### <font color='green'>Exercise</font>\n",
    "As follow-up work for this section, try to explore the following:\n",
    "- Beginner:\n",
    "    - Implement other constellations;\n",
    "    - Change the value of the _roll-off_ factor `beta` in the simulation;\n",
    "    - Change the $E_s/N_0$ value in the simulation;\n",
    "    - The parameter _time offset_ defined earlier can be used to simulate a mismatch of the sampling time and the symbol time. How does the scatter plot look like if `time_offset` is set to something different than zero?\n",
    "\n",
    "- Advanced:\n",
    "    - Can you implement other pulse shapes?\n",
    "    - Can you experiment with different kinds of noise?\n",
    "    - How would you modify this simulation to determine the SER for a range of $E_s/N_0$ values? How can you decrease the variance of the SER estimation?\n",
    "***"
   ]
  },
  {
   "cell_type": "markdown",
   "id": "b9e8f174",
   "metadata": {},
   "source": [
    "### Part 2) Illustration of a Bandpass Signal\n",
    "\n",
    "Now, we simplify the system above to illustrate how a bandpass signal looks like."
   ]
  },
  {
   "cell_type": "code",
   "execution_count": null,
   "id": "34a3cf75",
   "metadata": {},
   "outputs": [],
   "source": [
    "# We redefine the constellation for visualization purposes, and also increase the sps\n",
    "n_symbols = 4\n",
    "sps = 128\n",
    "constellation = np.array([-0.5, 0.5, -1j, 1j])\n",
    "visualize_constellation(constellation, f\"Modified 4-QAM Constellation\")\n",
    "\n",
    "# We start just as before\n",
    "symbols_idx = # COMPLETE: Generate random symbol indexes\n",
    "transmitted_symbols = # COMPLETE: Map indexes to constellation symbols\n",
    "\n",
    "# Now we use a rectangular pulse shaping filter\n",
    "modulated_signal = np.repeat(transmitted_symbols, sps)  # Rectangular pulse shaping\n",
    "\n",
    "fig, ax = plt.subplots(1, 2, figsize=(12, 4))\n",
    "ax[0].plot(np.arange(400), modulated_signal.real[:400], label='In-Phase')\n",
    "ax[0].set_xlabel('Sample Index')\n",
    "ax[0].set_ylabel('In-Phase Component')\n",
    "ax[1].plot(np.arange(400), modulated_signal.imag[:400], label='Quadrature')\n",
    "ax[1].set_xlabel('Sample Index')\n",
    "ax[1].set_ylabel('Quadrature Component')\n",
    "fig.suptitle('Modulated Signal (First 200 Samples)')\n",
    "plt.show()"
   ]
  },
  {
   "cell_type": "markdown",
   "id": "8480d286",
   "metadata": {},
   "source": [
    "Time to get the bandpass signal! We choose a frequency that is not too high w.r.t. the symbol rate for illustration purposes."
   ]
  },
  {
   "cell_type": "code",
   "execution_count": null,
   "id": "9bdfe6e9",
   "metadata": {},
   "outputs": [],
   "source": [
    "# Here, time is normalized to the symbol period, so t = 1 => 1 symbol period\n",
    "t = np.arange(len(modulated_signal)) / sps\n",
    "freq = 4  # Frequency in 1 / T\n",
    "carrier = # COMPLETE complex exponential for carrier modulation\n",
    "\n",
    "# Modulate the signal to bandpass\n",
    "bandpass_signal = (modulated_signal * carrier).real\n",
    "\n",
    "plt.plot(t[:400], bandpass_signal[:400], label='Bandpass Signal')\n",
    "plt.xlabel('Sample Index')\n",
    "plt.ylabel('Amplitude')\n",
    "plt.title('Bandpass Signal (First 200 Samples)')\n",
    "plt.show()"
   ]
  },
  {
   "cell_type": "markdown",
   "id": "b845e39b",
   "metadata": {},
   "source": [
    "***\n",
    "#### <font color='green'>Exercise</font>\n",
    "Here you can try out the following:\n",
    "- Test other constellations;\n",
    "- Test other values for the normalized frequency `freq`. Try increasing it to 100. What is the maximum value we can set for this value, if we want to still be able to visualize correctly? **(Hint: think about the sps and the Nyquist rate)**.\n",
    "***"
   ]
  },
  {
   "cell_type": "markdown",
   "id": "de127fbf",
   "metadata": {},
   "source": [
    "### Part 3) MAP for non-Gaussian Noise\n",
    "\n",
    "As emphasized in the lecture, the minimum-distance rule for detection is only equivalent to the MAP rule for a few cases. Depending on the nature of the noise, the decision rule is different, and here we illustrate this."
   ]
  },
  {
   "cell_type": "code",
   "execution_count": null,
   "id": "f8d2746a",
   "metadata": {},
   "outputs": [],
   "source": [
    "# We start with defining a simple constellation and parameters\n",
    "n_symbols = 2\n",
    "constellation = np.array([-1., 1.])\n",
    "visualize_constellation(constellation, \"BPSK Constellation\")\n",
    "\n",
    "es_n0_dB = 2  # Signal-to-Noise Ratio in dB\n",
    "es_n0 = 10 ** (es_n0_dB / 10)\n",
    "n0 = 1 / es_n0  # Since symbol energy is normalized to 1"
   ]
  },
  {
   "cell_type": "markdown",
   "id": "f3a3790b",
   "metadata": {},
   "source": [
    "Assuming that the bits are equally likely (i.e. $P(b=0) = P(b=1) = 1/2$), the MAP rule is equivalent to the ML rule. We then plot the likelihoods $f(r \\mid s=-1)$ and $f(r \\mid s=1)$ for different noise distributions:"
   ]
  },
  {
   "cell_type": "code",
   "execution_count": null,
   "id": "59d8fba7",
   "metadata": {},
   "outputs": [],
   "source": [
    "x = np.linspace(-4, 4, 1000)\n",
    "# Gaussian noise\n",
    "sigma = np.sqrt(n0)\n",
    "likelihood_gaussian_s0 = norm.pdf(x, loc=-1, scale=sigma)\n",
    "likelihood_gaussian_s1 = norm.pdf(x, loc=1, scale=sigma)\n",
    "# Laplace noise\n",
    "sigma_l = sigma / np.sqrt(2)\n",
    "likelihood_laplace_s0 = laplace.pdf(x, loc=-1, scale=sigma_l)\n",
    "likelihood_laplace_s1 = laplace.pdf(x, loc=1, scale=sigma_l)\n",
    "# Exponential noise\n",
    "likelihood_expon_s0 = expon.pdf(x, loc=-1, scale=sigma)\n",
    "likelihood_expon_s1 = expon.pdf(x, loc=1, scale=sigma)\n",
    "\n",
    "plt.figure()\n",
    "plt.plot(x, likelihood_gaussian_s0, label='f(r|s=-1), Gaussian Noise', color='blue')\n",
    "plt.plot(x, likelihood_gaussian_s1, label='f(r|s=1), Gaussian Noise', color='orange')\n",
    "plt.xlabel('Received Signal r')\n",
    "plt.ylabel('Likelihood f(r|s)')\n",
    "plt.title('Likelihood Functions for Different Noise Distributions')\n",
    "plt.legend(loc='upper left')\n",
    "plt.grid()\n",
    "plt.figure()\n",
    "plt.plot(x, likelihood_laplace_s0, label='f(r|s=-1), Laplace Noise', color='blue')\n",
    "plt.plot(x, likelihood_laplace_s1, label='f(r|s=1), Laplace Noise', color='orange')\n",
    "plt.xlabel('Received Signal r')\n",
    "plt.ylabel('Likelihood f(r|s)')\n",
    "plt.title('Likelihood Functions for Different Noise Distributions')\n",
    "plt.legend(loc='upper left')\n",
    "plt.grid()\n",
    "plt.show()\n",
    "plt.figure()\n",
    "plt.plot(x, likelihood_expon_s0, label='f(r|s=-1), Exponential Noise', color='blue')\n",
    "plt.plot(x, likelihood_expon_s1, label='f(r|s=1), Exponential Noise', color='orange')\n",
    "plt.xlabel('Received Signal r')\n",
    "plt.ylabel('Likelihood f(r|s)')\n",
    "plt.title('Likelihood Functions for Different Noise Distributions')\n",
    "plt.legend(loc='upper left')\n",
    "plt.grid()"
   ]
  },
  {
   "cell_type": "markdown",
   "id": "9ad937dc",
   "metadata": {},
   "source": [
    "We see that for the distributions that are symmetric around the mean the decision regions remain the same, that is, $f(r \\mid s=-1) > f(r \\mid s=1)$ for $r < 0$. However, for the exponential distribution, the decision boundary is no longer at $r=0$.\n",
    "***\n",
    "#### <font color='green'>Exercise</font>\n",
    "- Where is the new decision threshold? Can you compute the theoretical average symbol error probability for this case?\n",
    "***\n",
    "\n",
    "Now, for skewed priors where $P(b=0) \\neq P(b=1)$, the ML rule is no longer equivalent to the MAP rule. In the following, we let $P(b=0)=0.3$ and $P(b=1)=0.7$ and we use AWGN. Furthermore, we use Bayes' theorem to obtain $P(s=\\pm 1 \\mid r)$:\n",
    "$$\n",
    "P(s = \\pm 1 \\mid r) = \\frac{P(s=\\pm 1) f(r \\mid s=\\pm 1)}{P(s=1) f(r \\mid s=1) + P(s=-1) f(r \\mid s=-1)}\n",
    "$$\n"
   ]
  },
  {
   "cell_type": "code",
   "execution_count": null,
   "id": "b32bf573-5274-4636-aaee-3b025b7f3c0a",
   "metadata": {},
   "outputs": [],
   "source": [
    "posterior_gaussian_s0 = # COMPLETE\n",
    "posterior_gaussian_s1 = # COMPLETE\n",
    "\n",
    "plt.figure()\n",
    "plt.plot(x, posterior_gaussian_s0, label='P(s=-1 | r), Gaussian Noise', color='blue')\n",
    "plt.plot(x, posterior_gaussian_s1, label='P(s=1 | r), Gaussian Noise', color='orange')\n",
    "plt.xlabel('Received Signal r')\n",
    "plt.ylabel('Posterior P(s|r)')\n",
    "plt.title('Posteriors for Skewed Priors')\n",
    "plt.legend(loc='upper left')\n",
    "plt.grid()"
   ]
  },
  {
   "cell_type": "code",
   "execution_count": null,
   "id": "171d0ca0",
   "metadata": {},
   "outputs": [],
   "source": [
    "symbols_idx = # COMPLETE: Generate the random symbol indexes with different probabilities\n",
    "transmitted_symbols = # COMPLETE: Map indexes to constellation symbols\n",
    "\n",
    "# Add AWGN noise to the transmitted symbols\n",
    "noise = # AWGN (real) noise with variance np.sqrt(n0)\n",
    "received_symbols = transmitted_symbols + noise\n",
    "\n",
    "# Decision rule without considering the shift in the distribution\n",
    "estimated_symbols_idx_non_opt = (received_symbols >= 0).astype(int)\n",
    "# Calculate Symbol Error Rate (SER) for non-optimal decision rule\n",
    "n_errors_non_opt = np.sum(estimated_symbols_idx_non_opt != symbols_idx)\n",
    "ser_non_opt = n_errors_non_opt / len(symbols_idx)\n",
    "print(f'Symbol Error Rate (SER) without optimal decision rule: {ser_non_opt:.4f}')\n",
    "\n",
    "# Optimal decision rule considering the shift in the distribution\n",
    "threshold = x[np.nonzero(posterior_gaussian_s1 - posterior_gaussian_s0 > 0)[0][0]]\n",
    "print(f'Optimal decision threshold: {threshold:.4f}')\n",
    "estimated_symbols_idx_opt = (received_symbols >= threshold).astype(int)\n",
    "# Calculate Symbol Error Rate (SER) for optimal decision rule\n",
    "n_errors_opt = np.sum(estimated_symbols_idx_opt != symbols_idx)\n",
    "ser_opt = n_errors_opt / len(symbols_idx)\n",
    "print(f'Symbol Error Rate (SER) with optimal decision rule: {ser_opt:.4f}')\n",
    "\n",
    "# Plotting the received symbols and decision boundaries\n",
    "plt.figure()\n",
    "plt.hist(received_symbols[symbols_idx == 0], bins=30, alpha=0.5, label='Transmitted Symbol -1', color='blue', density=True)\n",
    "plt.hist(received_symbols[symbols_idx == 1], bins=30, alpha=0.5, label='Transmitted Symbol 1', color='orange', density=True)\n",
    "plt.axvline(x=0, color='red', linestyle='--', label='Non-optimal Decision Boundary')\n",
    "plt.axvline(x=threshold, color='green', linestyle='--', label='Optimal Decision Boundary')\n",
    "plt.xlabel('Received Symbol Value')\n",
    "plt.ylabel('Density')\n",
    "plt.title('Received Symbols with Decision Boundaries')\n",
    "plt.legend()\n",
    "plt.grid()\n",
    "plt.show()"
   ]
  }
 ],
 "metadata": {
  "kernelspec": {
   "display_name": "env",
   "language": "python",
   "name": "python3"
  },
  "language_info": {
   "codemirror_mode": {
    "name": "ipython",
    "version": 3
   },
   "file_extension": ".py",
   "mimetype": "text/x-python",
   "name": "python",
   "nbconvert_exporter": "python",
   "pygments_lexer": "ipython3",
   "version": "3.11.8"
  }
 },
 "nbformat": 4,
 "nbformat_minor": 5
}
