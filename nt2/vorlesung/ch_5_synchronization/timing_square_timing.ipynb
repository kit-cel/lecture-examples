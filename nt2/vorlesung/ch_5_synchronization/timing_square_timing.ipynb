{
 "cells": [
  {
   "cell_type": "markdown",
   "metadata": {},
   "source": [
    "# Desription"
   ]
  },
  {
   "cell_type": "markdown",
   "metadata": {},
   "source": [
    "+ Simulation of data-aided frequency synchronization \n",
    "+ QPSK symbols are sampled, pulse shaped and transmitted\n",
    "+ Uniformly distributed timing distortion is added, before timing is estimated using algorithm as discussed in the lecture"
   ]
  },
  {
   "cell_type": "markdown",
   "metadata": {},
   "source": [
    "# Import"
   ]
  },
  {
   "cell_type": "code",
   "execution_count": 1,
   "metadata": {},
   "outputs": [],
   "source": [
    "# importing\n",
    "import numpy as np\n",
    "\n",
    "import matplotlib.pyplot as plt\n",
    "import matplotlib\n",
    "\n",
    "# showing figures inline\n",
    "%matplotlib inline"
   ]
  },
  {
   "cell_type": "code",
   "execution_count": 2,
   "metadata": {},
   "outputs": [],
   "source": [
    "# plotting options \n",
    "font = {'size'   : 20}\n",
    "plt.rc('font', **font)\n",
    "plt.rc('text', usetex=True)\n",
    "\n",
    "matplotlib.rc('figure', figsize=(28, 8) )"
   ]
  },
  {
   "cell_type": "markdown",
   "metadata": {},
   "source": [
    "# Initialization"
   ]
  },
  {
   "cell_type": "markdown",
   "metadata": {},
   "source": [
    "### Parameters"
   ]
  },
  {
   "cell_type": "code",
   "execution_count": 3,
   "metadata": {},
   "outputs": [],
   "source": [
    "# number of symbols per sequence/packet\n",
    "n_symb = 32\n",
    "\n",
    "\n",
    "# constellation points for modulation scheme\n",
    "constellation = np.array( [ 1+1j, -1+1j, -1-1j, +1-1j ] ) / np.sqrt(2)\n",
    "M = 4\n",
    "\n",
    "# snr range for simulation\n",
    "EsN0_dB_min = -15 \n",
    "EsN0_dB_max = 30\n",
    "EsN0_dB_step = 5\n",
    "EsN0_dB = np.arange( EsN0_dB_min, EsN0_dB_max + EsN0_dB_step, EsN0_dB_step)\n",
    "\n",
    "# parameters of the filter\n",
    "beta = 0.5\n",
    "n_sps = 8           # samples per symbol\n",
    "syms_per_filt = 4  # symbols per filter (plus minus in both directions)\n",
    "\n",
    "K_filt = 2 * syms_per_filt * n_sps + 1         # length of the fir filter\n",
    "\n",
    "\n",
    "\n",
    "# over-over-sampling (w.r.t. t_symb / n_sps) for simulating \"real-valued\" delays\n",
    "n_simul = 8\n",
    "\n",
    "# set symbol time and sample time\n",
    "t_symb = 1.0 \n",
    "t_sample = t_symb / n_sps"
   ]
  },
  {
   "cell_type": "markdown",
   "metadata": {},
   "source": [
    "### Function for Getting RRC Impulse Response"
   ]
  },
  {
   "cell_type": "code",
   "execution_count": 4,
   "metadata": {},
   "outputs": [],
   "source": [
    "########################\n",
    "# find impulse response of an RRC filter\n",
    "########################\n",
    "def get_rrc_ir(K, n_sps, t_symbol, beta):\n",
    "    \n",
    "    ''' \n",
    "    Determines coefficients of an RRC filter \n",
    "    \n",
    "    Formula out of: J. Huber, Trelliscodierung, Springer, 1992, S. 15\n",
    "    \n",
    "    NOTE: Length of the IR has to be an odd number\n",
    "    \n",
    "    IN: length of IR, upsampling factor, symbol time, roll-off factor\n",
    "    OUT: filter coefficients\n",
    "    '''\n",
    "    \n",
    "    K = int(K) \n",
    "    \n",
    "    if ( K%2 == 0):\n",
    "        print('Length of the impulse response should be an odd number')\n",
    "        sys.exit()\n",
    "\n",
    "    # initialize np.array    \n",
    "    rrc = np.zeros( K )\n",
    "    \n",
    "    # find sample time and initialize index vector\n",
    "    t_sample = t_symbol / n_sps\n",
    "    time_ind = np.linspace( -(K-1)/2, (K-1)/2, K)\n",
    "    \n",
    "    # assign values of rrc\n",
    "    # if roll-off factor equals 0 use rc\n",
    "    if beta != 0:\n",
    "        \n",
    "        # loop for times and assign according values\n",
    "        for t_i in time_ind:\n",
    "            t = (t_i)* t_sample    \n",
    "    \n",
    "            if t_i==0:\n",
    "                rrc[ int( t_i+(K-1)/2 ) ] = (1-beta+4*beta/np.pi)\n",
    "                \n",
    "            elif np.abs(t)==t_symbol/(4*beta):\n",
    "                # apply l'Hospital                \n",
    "                rrc[ int( t_i+(K-1)/2 ) ] = beta*np.sin(np.pi/(4*beta)*(1+beta)) - 2*beta/np.pi*np.cos(np.pi/(4*beta)*(1+beta)) \n",
    "            \n",
    "            else:\n",
    "                rrc[ int( t_i+(K-1)/2 ) ] = (4*beta*t/t_symbol * np.cos(np.pi*(1+beta)*t/t_symbol) + np.sin(np.pi*(1-beta)*t/t_symbol) ) / (np.pi*t/t_symbol*(1-(4*beta*t/t_symbol)**2) )\n",
    "        \n",
    "        rrc = rrc  / np.sqrt(t_symbol)\n",
    "            \n",
    "\n",
    "    else:\n",
    "        for t_i in time_ind:\n",
    "            t = t_i * t_sample\n",
    "  \n",
    "            if  np.abs(t)<t_sample/20:\n",
    "                rrc[ t_i + (K-1)/2 ] = 1\n",
    "                \n",
    "            else:\n",
    "                rrc[ t_i + (K-1)/2 ] =np.sin(np.pi*t/t_symbol)/(np.pi*t/t_symbol)\n",
    "   \n",
    "    return rrc  "
   ]
  },
  {
   "cell_type": "markdown",
   "metadata": {},
   "source": [
    "# Simulation"
   ]
  },
  {
   "cell_type": "markdown",
   "metadata": {},
   "source": [
    "### Get Tx signal"
   ]
  },
  {
   "cell_type": "code",
   "execution_count": 5,
   "metadata": {},
   "outputs": [],
   "source": [
    "# find rrc response and normalize to energy 1\n",
    "rrc = get_rrc_ir( K_filt, n_sps, t_symb, beta)\n",
    "rrc = rrc / np.linalg.norm( rrc )\n",
    "\n",
    "\n",
    "# generate random binary vector and modulate the specified modulation scheme\n",
    "data = np.random.randint( 4, size=n_symb )\n",
    "s = [ constellation[ d ] for d in data ]\n",
    "\n",
    "  \n",
    "# prepare sequence to be filtered by upsampling \n",
    "s_up = np.zeros( n_symb * n_sps * n_simul, dtype = complex )        \n",
    "s_up[ : : n_sps * n_simul ] = s\n",
    "\n",
    "# apply RRC filtering        \n",
    "s_Tx = np.convolve( rrc, s_up )\n",
    "\n",
    "# vector of time samples for Tx signal\n",
    "t_Tx = np.arange( len(s_Tx) ) * t_sample\n",
    "t_symbol = np.arange( n_symb ) * t_symb"
   ]
  },
  {
   "cell_type": "markdown",
   "metadata": {},
   "source": [
    "### Parameters of estimation"
   ]
  },
  {
   "cell_type": "code",
   "execution_count": 6,
   "metadata": {},
   "outputs": [],
   "source": [
    "# vector for storing variances of estimation\n",
    "var_delta_tau = np.zeros( len(EsN0_dB) )\n",
    "\n",
    "# number of trials per simulation point\n",
    "N_trials = int( 1e3 )"
   ]
  },
  {
   "cell_type": "markdown",
   "metadata": {},
   "source": [
    "### Loop for SNRs and perform simulation"
   ]
  },
  {
   "cell_type": "code",
   "execution_count": 7,
   "metadata": {},
   "outputs": [
    {
     "name": "stdout",
     "output_type": "stream",
     "text": [
      "SNR: -15\n",
      "SNR: -10\n",
      "SNR: -5\n",
      "SNR: 0\n",
      "SNR: 5\n",
      "SNR: 10\n",
      "SNR: 15\n",
      "SNR: 20\n",
      "SNR: 25\n",
      "SNR: 30\n"
     ]
    }
   ],
   "source": [
    "# loop for SNRs\n",
    "for ind_esn0, esn0 in enumerate(EsN0_dB):\n",
    "\n",
    "    # determine variance of the noise\n",
    "    sigma2 = 10**( -esn0/10 )\n",
    "    \n",
    "    # initialize error vector\n",
    "    delta_tau = np.zeros( N_trials )\n",
    "\n",
    "    # loop for trials with different tau_off\n",
    "    for _n in range( N_trials ):\n",
    "        \n",
    "       # sample random shift\n",
    "        tau_off = np.random.randint( n_sps * n_simul )\n",
    "\n",
    "        # generate shifted version\n",
    "        # NOTE: frequency is assumed to be ideal\n",
    "        s_Rx = np.roll( s_Tx, tau_off )    \n",
    "        \n",
    "        # add noise\n",
    "        noise = np.sqrt(sigma2/2) * ( np.random.randn(len(s_Rx)) + 1j * np.random.randn(len(s_Rx)) )\n",
    "        \n",
    "        # get received signal\n",
    "        r = s_Rx + noise\n",
    "        \n",
    "        # signal after MF\n",
    "        y_mf = np.convolve( rrc, r )[:: n_simul ]\n",
    "        \n",
    "        # apply squaring to get STR-signal    \n",
    "        x_str = np.abs( y_mf )**2\n",
    "\n",
    "        # get FFT\n",
    "        X_str = np.fft.fft( x_str )\n",
    "        tau_est = - np.angle( X_str[ int( len( X_str ) / n_sps ) ] ) / 2 / np.pi % t_symb\n",
    "\n",
    "\n",
    "        delta_tau[ _n ] = tau_off / n_sps / n_simul - tau_est\n",
    "        \n",
    "    # find mean and mse of estimation\n",
    "    var_delta_tau[ ind_esn0 ] = np.var( delta_tau )\n",
    "    \n",
    "    \n",
    "    # show progress\n",
    "    print('SNR: {}'.format( esn0 ) )"
   ]
  },
  {
   "cell_type": "markdown",
   "metadata": {},
   "source": [
    "### Show Results"
   ]
  },
  {
   "cell_type": "code",
   "execution_count": 8,
   "metadata": {},
   "outputs": [
    {
     "data": {
      "text/plain": [
       "Text(0, 0.5, '$E( (\\\\hat{\\\\tau}-\\\\tau_{off})^2)$')"
      ]
     },
     "execution_count": 8,
     "metadata": {},
     "output_type": "execute_result"
    },
    {
     "data": {
      "image/png": "[encoded data removed]",
      "text/plain": [
       "<Figure size 2016x576 with 1 Axes>"
      ]
     },
     "metadata": {
      "needs_background": "light"
     },
     "output_type": "display_data"
    }
   ],
   "source": [
    "# get values for MCRB out of Mengali\n",
    "# NOTE: Gives a lower bound on variance of estimation error\n",
    "RRC = np.fft.fft( rrc )\n",
    "G = np.fft.fftshift (RRC) \n",
    "f = np.linspace( -n_sps / t_symb, n_sps / t_symb, num = len(G) )\n",
    "\n",
    "xi = np.linalg.norm( f * np.abs(G) )**2 / np.linalg.norm( G )**2\n",
    "MRCB = 1 / ( 8 * np.pi**2 * xi * n_symb * 10**( EsN0_dB / 10 ) )\n",
    "\n",
    "\n",
    "# plot frequency error\n",
    "plt.figure()\n",
    "plt.plot( EsN0_dB, var_delta_tau, '-D', label='MSE', ms = 18, linewidth=2.0 )\n",
    "plt.plot( EsN0_dB, MRCB,  label='MCRB', linewidth=2.0 )\n",
    "plt.grid(True)\n",
    "plt.legend(loc='upper right')\n",
    "plt.xlabel('$E_s/N_0 \\; (dB)$')\n",
    "plt.ylabel('$E( (\\\\hat{\\\\tau}-\\\\tau_{off})^2)$')"
   ]
  },
  {
   "cell_type": "code",
   "execution_count": null,
   "metadata": {},
   "outputs": [],
   "source": []
  }
 ],
 "metadata": {
  "kernelspec": {
   "display_name": "Python 3",
   "language": "python",
   "name": "python3"
  },
  "language_info": {
   "codemirror_mode": {
    "name": "ipython",
    "version": 3
   },
   "file_extension": ".py",
   "mimetype": "text/x-python",
   "name": "python",
   "nbconvert_exporter": "python",
   "pygments_lexer": "ipython3",
   "version": "3.7.7"
  }
 },
 "nbformat": 4,
 "nbformat_minor": 1
}
