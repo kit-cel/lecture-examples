{
 "cells": [
  {
   "cell_type": "markdown",
   "metadata": {},
   "source": [
    "# Repeat Accumulate Codes on the BEC\n",
    "\n",
    "This code is provided as supplementary material of the lecture Channel Coding 2 - Advanced Methods.\n",
    "\n",
    "This code illustrates\n",
    "* Convergence analysis of repeat accumulate codes and regular LDPC codes on the binary erasure channel (BEC)"
   ]
  },
  {
   "cell_type": "code",
   "execution_count": 7,
   "metadata": {},
   "outputs": [],
   "source": [
    "import numpy as np\n",
    "import matplotlib.pyplot as plot\n",
    "from ipywidgets import interactive\n",
    "from scipy.optimize import fsolve\n",
    "import ipywidgets as widgets\n",
    "import math\n",
    "%matplotlib inline  "
   ]
  },
  {
   "cell_type": "markdown",
   "metadata": {},
   "source": [
    "In this notebook, we look at the performance evaluation of regular repeat-accumulate codes and compare them with regular $[d_{\\mathtt{v}},d_{\\mathtt{c}}]$ LDPC codes. We first consider the fixed-point equation before looking at the evolution of the message erasure probability as a function of the erasures. We look at both LDPC and RA codes.\n",
    "\n",
    "---\n",
    "\n",
    "This code evaluates the fixed point equation for regular $[d_{\\mathtt{v}},d_{\\mathtt{c}}]$ LDPC codes. The fixed point equation in this case reads\n",
    "$$f(\\epsilon,\\xi)-\\xi <= 0\\quad \\forall \\xi \\in (0,1]$$\n",
    "with\n",
    "$$f(\\epsilon,\\xi) = \\epsilon\\left(1-(1-\\xi)^{d_{\\mathtt{c}}-1}\\right)^{d_{\\mathtt{v}}-1}$$"
   ]
  },
  {
   "cell_type": "code",
   "execution_count": 64,
   "metadata": {},
   "outputs": [],
   "source": [
    "def threshold_LDPC(dv, dc):  \n",
    "    \n",
    "    # binary search to find fixed point\n",
    "    epsilon = 0.5\n",
    "    delta_epsilon = 0.5\n",
    "    \n",
    "    while delta_epsilon > 0.00001:            \n",
    "        fp = lambda x : epsilon * (1 - (1-x)**(dc-1))**(dv-1) - x\n",
    "        x_0,_,ier,mesg = fsolve(fp, epsilon, full_output=True)        \n",
    "    \n",
    "        if x_0 > 1e-6 and ier == 1 and np.abs(fp(x_0)) < 1e-6:\n",
    "            epsilon = epsilon - delta_epsilon/2\n",
    "        else:\n",
    "            epsilon = epsilon + delta_epsilon/2\n",
    "    \n",
    "        delta_epsilon = delta_epsilon/2\n",
    "           \n",
    "    return epsilon"
   ]
  },
  {
   "cell_type": "markdown",
   "metadata": {},
   "source": [
    "This code evaluates the fixed point equation for regular $[d_{\\mathtt{v}},d_{\\mathtt{c}}]$ repeat-accumulate codes. The fixed point equation in this case reads\n",
    "$$f(\\epsilon,\\xi)-\\xi <= 0\\quad \\forall \\xi \\in (0,1]$$\n",
    "with\n",
    "$$f(\\epsilon,\\xi) = \\epsilon\\left(1-\\left(\\frac{1-\\epsilon}{1-\\epsilon(1-\\xi)^{d_{\\mathtt{c}}}}\\right)^2(1-\\xi)^{d_{\\mathtt{c}}-1}\\right)^{d_{\\mathtt{v}}-1}$$\n"
   ]
  },
  {
   "cell_type": "code",
   "execution_count": 60,
   "metadata": {},
   "outputs": [],
   "source": [
    "def threshold_RA(dv, dc):  \n",
    "    \n",
    "    # binary search to find fixed point\n",
    "    epsilon = 0.5\n",
    "    delta_epsilon = 0.5\n",
    "    \n",
    "    while delta_epsilon > 0.000001:            \n",
    "        fp = lambda x : epsilon * (1 - ((1-epsilon)/(1-epsilon*(1-x)**dc))**2 * (1-x)**(dc-1))**(dv-1) - x\n",
    "        x_0,_,ier,mesg = fsolve(fp, epsilon, full_output=True)            \n",
    "        \n",
    "        if x_0 > 1e-6 and ier == 1 and np.abs(fp(x_0)) < 1e-6:\n",
    "            epsilon = epsilon - delta_epsilon/2\n",
    "        else:\n",
    "            epsilon = epsilon + delta_epsilon/2\n",
    "    \n",
    "        delta_epsilon = delta_epsilon/2\n",
    "           \n",
    "    return epsilon"
   ]
  },
  {
   "cell_type": "markdown",
   "metadata": {},
   "source": [
    "The plot below the thresholds of several rate $1/2$ LDPC and repeat accumulate codes. For LDPC codes, check and variable node degrees are related as $d_{\\mathtt{c}} = 2d_{\\mathtt{v}}$, while for repeat-accumulate codes, we have $d_{\\mathtt{c}}=d_{\\mathtt{v}}$."
   ]
  },
  {
   "cell_type": "code",
   "execution_count": 70,
   "metadata": {},
   "outputs": [
    {
     "data": {
      "image/png": "[encoded data removed]",
      "text/plain": [
       "<Figure size 720x360 with 1 Axes>"
      ]
     },
     "metadata": {
      "needs_background": "light"
     },
     "output_type": "display_data"
    }
   ],
   "source": [
    "dv_range = np.arange(2,12)\n",
    "\n",
    "thresholds_LDPC = [threshold_LDPC(dv,2*dv) for dv in dv_range]\n",
    "thresholds_RA = [threshold_RA(dv,dv) for dv in dv_range]\n",
    "\n",
    "plot.figure(figsize=(10,5))\n",
    "plot.plot(dv_range, thresholds_LDPC, '-s')\n",
    "plot.plot(dv_range, thresholds_RA, '-o')\n",
    "plot.xlabel(r'Variable node degree $d_v$')\n",
    "plot.ylabel(r'Threshold $\\epsilon^\\star$')\n",
    "plot.ylim(0.2,0.5)\n",
    "plot.xlim(2,11)\n",
    "plot.grid()\n",
    "plot.show()"
   ]
  },
  {
   "cell_type": "code",
   "execution_count": null,
   "metadata": {},
   "outputs": [],
   "source": []
  }
 ],
 "metadata": {
  "kernelspec": {
   "display_name": "Python 3",
   "language": "python",
   "name": "python3"
  },
  "language_info": {
   "codemirror_mode": {
    "name": "ipython",
    "version": 3
   },
   "file_extension": ".py",
   "mimetype": "text/x-python",
   "name": "python",
   "nbconvert_exporter": "python",
   "pygments_lexer": "ipython3",
   "version": "3.6.9"
  }
 },
 "nbformat": 4,
 "nbformat_minor": 2
}
