{
 "cells": [
  {
   "cell_type": "markdown",
   "id": "96c37092-b016-4b73-a61b-ad462ab6c962",
   "metadata": {},
   "source": [
    "# Calculating the Bhattacharryya bound on compare it with ML decoding\n",
    "\n",
    "This code (MATLAB) is provided as supplementary material of the lecture Channel Coding - Graph-based Codes.\n",
    "\n",
    "This code illustrates\n",
    "* Calculating the Bhattacharryya bound on compare it with ML decoding for a specific code"
   ]
  },
  {
   "cell_type": "code",
   "execution_count": 1,
   "id": "5defe554-b8c0-4c66-9832-8276fb4005b8",
   "metadata": {},
   "outputs": [],
   "source": [
    "% specify code by its generator matrix\n",
    "G = [1 0 0 0 1 1 0;\n",
    "     0 1 0 0 1 0 1;\n",
    "     0 0 1 0 0 1 1];"
   ]
  },
  {
   "cell_type": "code",
   "execution_count": 2,
   "id": "72192770-6903-4569-8966-0cc9645dbe81",
   "metadata": {},
   "outputs": [],
   "source": [
    "% get parameters k and n of the code\n",
    "k = size(G,1);\n",
    "n = size(G,2);\n",
    "\n",
    "% generate table of all codewords\n",
    "% GF(2) operations are obtained by calculating modulo-2\n",
    "u = de2bi(0:(2^k-1),k,'left-msb');  % all possible input patterns\n",
    "code = mod(u * G, 2);  % generate codewords"
   ]
  },
  {
   "cell_type": "code",
   "execution_count": 3,
   "id": "fb18298c-083a-427d-ba00-868091dd6734",
   "metadata": {},
   "outputs": [],
   "source": [
    "% compute weights\n",
    "w = sum(code,2);\n",
    "dmin = min(w(2:end));  % exclude all-zero codeword\n",
    "\n",
    "% weight enumerator polynomial\n",
    "A = [fliplr(histc(w, 1:n)'), 0];"
   ]
  },
  {
   "cell_type": "code",
   "execution_count": 7,
   "id": "54bccdda-9e6e-4c15-9a93-b6a11e1cc5c3",
   "metadata": {},
   "outputs": [
    {
     "name": "stderr",
     "output_type": "stream",
     "text": [
      "poly2sym requires Symbolic Math Toolbox."
     ]
    }
   ],
   "source": [
    "poly2sym(A)"
   ]
  },
  {
   "cell_type": "code",
   "execution_count": null,
   "id": "eac8f3f7-d627-429a-9827-b55d4f59af3a",
   "metadata": {},
   "outputs": [],
   "source": []
  }
 ],
 "metadata": {
  "kernelspec": {
   "display_name": "MATLAB Kernel",
   "language": "matlab",
   "name": "jupyter_matlab_kernel"
  },
  "language_info": {
   "file_extension": ".m",
   "mimetype": "text/x-matlab",
   "name": "matlab"
  }
 },
 "nbformat": 4,
 "nbformat_minor": 5
}
