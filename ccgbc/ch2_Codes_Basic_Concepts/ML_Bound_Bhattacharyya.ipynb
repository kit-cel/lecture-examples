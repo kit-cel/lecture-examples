{
 "cells": [
  {
   "cell_type": "markdown",
   "id": "96c37092-b016-4b73-a61b-ad462ab6c962",
   "metadata": {},
   "source": [
    "# Calculating the Bhattacharryya bound on compare it with ML decoding\n",
    "\n",
    "This code (MATLAB) is provided as supplementary material of the lecture Channel Coding - Graph-based Codes.\n",
    "\n",
    "This code illustrates\n",
    "* Calculating the Bhattacharryya bound on compare it with ML decoding for a specific code\n",
    "* ATTENTION: This code requires a MATLAB-Kernel to run!"
   ]
  },
  {
   "cell_type": "code",
   "execution_count": 12,
   "id": "5defe554-b8c0-4c66-9832-8276fb4005b8",
   "metadata": {},
   "outputs": [],
   "source": [
    "% specify code by its generator matrix\n",
    "G = [1 0 0 0 1 1 0;\n",
    "     0 1 0 0 1 0 1;\n",
    "     0 0 1 0 0 1 1];"
   ]
  },
  {
   "cell_type": "code",
   "execution_count": 13,
   "id": "72192770-6903-4569-8966-0cc9645dbe81",
   "metadata": {},
   "outputs": [],
   "source": [
    "% get parameters k and n of the code\n",
    "k = size(G,1);\n",
    "n = size(G,2);\n",
    "\n",
    "% generate table of all codewords\n",
    "% GF(2) operations are obtained by calculating modulo-2\n",
    "u = de2bi(0:(2^k-1),k,'left-msb');  % all possible input patterns\n",
    "code = mod(u * G, 2);  % generate codewords"
   ]
  },
  {
   "cell_type": "code",
   "execution_count": 14,
   "id": "fb18298c-083a-427d-ba00-868091dd6734",
   "metadata": {},
   "outputs": [],
   "source": [
    "% compute weights\n",
    "w = sum(code,2);\n",
    "dmin = min(w(2:end));  % exclude all-zero codeword\n",
    "\n",
    "% weight enumerator polynomial\n",
    "A = [fliplr(histc(w, 1:n)'), 0];"
   ]
  },
  {
   "cell_type": "code",
   "execution_count": 17,
   "id": "54bccdda-9e6e-4c15-9a93-b6a11e1cc5c3",
   "metadata": {},
   "outputs": [
    {
     "name": "stdout",
     "output_type": "stream",
     "text": [
      "Weight enumerator polynomial\n"
     ]
    },
    {
     "data": {
      "text/latex": [
       "$ans =3\\,W^4 +4\\,W^3$"
      ]
     },
     "execution_count": 17,
     "metadata": {},
     "output_type": "execute_result"
    }
   ],
   "source": [
    "disp('Weight enumerator polynomial');\n",
    "syms W; poly2sym(A, W)"
   ]
  },
  {
   "cell_type": "code",
   "execution_count": 19,
   "id": "eac8f3f7-d627-429a-9827-b55d4f59af3a",
   "metadata": {},
   "outputs": [],
   "source": [
    "% channel\n",
    "esno_dB = 5; % specify Es/N0 in dB\n",
    "\n",
    "esno_lin = 10^(esno_dB/10);\n",
    "% Bhattacharyya parameter\n",
    "B = exp(-esno_lin);"
   ]
  },
  {
   "cell_type": "code",
   "execution_count": 21,
   "id": "1dc0b828-07a7-42e2-8f1d-e3796fa106e7",
   "metadata": {},
   "outputs": [
    {
     "name": "stdout",
     "output_type": "stream",
     "text": [
      "According to the Bhattacharyya parameter, the ML error probability is upper bounded by 0.000313\n"
     ]
    }
   ],
   "source": [
    "% compute bound on ML performance\n",
    "P_ML_Bound = polyval(A, B);\n",
    "\n",
    "fprintf('According to the Bhattacharyya parameter, the ML error probability is upper bounded by %1.4g\\n',P_ML_Bound);"
   ]
  },
  {
   "cell_type": "code",
   "execution_count": 22,
   "id": "e4e325e8-a764-4907-be75-faf8ce86a61a",
   "metadata": {},
   "outputs": [
    {
     "name": "stdout",
     "output_type": "stream",
     "text": [
      "After ML decoding, the error rate is approximately 2.3e-05\n"
     ]
    }
   ],
   "source": [
    "% calculate Monte-Carlo-Estimate of ML performance\n",
    "% transmit N codewords\n",
    "N = 1000000;\n",
    "\n",
    "% standard deviation of noise distribution\n",
    "sigma_n = sqrt(1/2/esno_lin);\n",
    "\n",
    "errors = 0;\n",
    "for j = 1:N\n",
    "    % select random codeword\n",
    "    idx = randi(size(code,1));\n",
    "    c = code(idx, :);\n",
    "    \n",
    "    % after channel\n",
    "    y = (1-2*c) + sigma_n*randn(size(c));\n",
    "    \n",
    "    % calculate correlation with all codewords\n",
    "    correlation = sum((1-2*code).*repmat(y, size(code,1), 1), 2);\n",
    "    \n",
    "    [~,ML_decision_idx] = max(correlation);\n",
    "    \n",
    "    errors = errors + (ML_decision_idx ~= idx);\n",
    "end\n",
    "P_ML = errors/N;\n",
    "fprintf('After ML decoding, the error rate is approximately %1.4g\\n', P_ML);"
   ]
  }
 ],
 "metadata": {
  "kernelspec": {
   "display_name": "MATLAB Kernel",
   "language": "matlab",
   "name": "jupyter_matlab_kernel"
  },
  "language_info": {
   "file_extension": ".m",
   "mimetype": "text/x-matlab",
   "name": "matlab"
  }
 },
 "nbformat": 4,
 "nbformat_minor": 5
}
