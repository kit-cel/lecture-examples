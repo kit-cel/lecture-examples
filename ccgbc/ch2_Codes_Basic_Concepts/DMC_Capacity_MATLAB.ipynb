{
 "cells": [
  {
   "cell_type": "markdown",
   "id": "98d7be4a-3e31-4e99-82d6-6080c2ebbe76",
   "metadata": {},
   "source": [
    "# Calculating the Channel Capacity Using Convex Optimization\n",
    "\n",
    "This code (MATLAB) is provided as supplementary material of the lecture Channel Coding - Graph-based Codes.\n",
    "\n",
    "This code illustrates\n",
    "* Calculating the channel capacity using convex optimization\n",
    "* ATTENTION: This code requires a MATLAB-Kernel to run!"
   ]
  },
  {
   "cell_type": "markdown",
   "id": "defeae0d-e307-49de-a59f-6fbfbe58cb1b",
   "metadata": {},
   "source": [
    "Helper function that checks if a channel is weakly symmetric. Input is the channel transition matrix $\\boldsymbol{P}$"
   ]
  },
  {
   "cell_type": "code",
   "execution_count": 1,
   "id": "e03c0fa8-2c32-443c-bb22-cbb7c043b324",
   "metadata": {},
   "outputs": [
    {
     "data": {
      "text/html": [
       "<html><body><pre>File temp_files/is_weakly_symmetric.m created successfully.</pre></body></html>"
      ],
      "text/plain": [
       "File temp_files/is_weakly_symmetric.m created successfully."
      ]
     },
     "execution_count": 1,
     "metadata": {},
     "output_type": "execute_result"
    }
   ],
   "source": [
    "%%file temp_files/is_weakly_symmetric.m\n",
    "% check if channel is weakly symmetric\n",
    "function retval = is_weakly_symmetric(P)\n",
    "    V = size(P,2);\n",
    "    W = size(P,1);\n",
    "\n",
    "    retval = true;\n",
    "    % first check if all columns are permutations of each other\n",
    "    col1 = sort(P(:,1));\n",
    "    for k=2:size(P,2)\n",
    "        if any(col1 ~= sort(P(:,k)))\n",
    "            retval = false;\n",
    "        end\n",
    "    end\n",
    "    \n",
    "    % now check if row sums are equal\n",
    "    row_sums = sum(P,2);\n",
    "    if ~all(row_sums == row_sums(1))\n",
    "        retval = false;\n",
    "    end    \n",
    "    \n",
    "end"
   ]
  },
  {
   "cell_type": "markdown",
   "id": "21b1a213-8c45-4a7d-b5c3-37a080bdce8b",
   "metadata": {},
   "source": [
    "Helper function that calculates the channel capacity. First check if the channel is weakly symmetric. If this is not the case, use convex optimization to compute the channel capacity. We use the `fmincon` function. The syntax of this function is:\n",
    "\n",
    "`x = fmincon(f, x0, A, b, Aeq, beq, l, u)`\n",
    "\n",
    "and it solves the following optimization problem\n",
    "$$\n",
    "\\begin{aligned}\n",
    "\\min_{\\boldsymbol{x} \\in \\mathbb{R}^n} \\quad & f(\\boldsymbol{x}) \\\\\n",
    "\\text{subject to} \\quad \n",
    "& \\boldsymbol{A}\\boldsymbol{x} \\leq \\boldsymbol{b} \\\\\n",
    "& \\boldsymbol{A}_{\\mathrm{eq}}\\boldsymbol{x} = \\boldsymbol{b}_{\\mathrm{eq}} \\\\\n",
    "& \\boldsymbol{l}_i \\leq x_i \\leq \\boldsymbol{u}_i,\\ i = 1,\\ldots, n\n",
    "\\end{aligned}\n",
    "$$\n",
    "and $\\boldsymbol{x}_0$ is the initial starting point for the optimization.\n",
    "\n",
    "With our optimization problem\n",
    "\\begin{align*}\n",
    "\\text{maximize}\\ \\  & (\\boldsymbol{1}_{1\\times W}\\cdot\\tilde{\\boldsymbol{P}})\\boldsymbol{p}_x +\\frac{1}{\\ln(2)}\\boldsymbol{1}_{1\\times W}\\cdot f_{\\textrm{entr.}}(\\boldsymbol{P}\\boldsymbol{p}_x)\\\\\n",
    "\\text{subject to}\\ &\\sum_ip_{x,i} = 1\\  \\text{and}\\  p_{x,i} \\geq 0\n",
    "\\end{align*}\n",
    "we have\n",
    "\\begin{align*}\n",
    "\\boldsymbol{A}_{\\mathrm{eq}} &= \\begin{pmatrix}1 & 1 & \\cdots & 1\\end{pmatrix} \\\\\n",
    "\\boldsymbol{b}_{\\mathrm{eq}} &= \\begin{pmatrix}1\\end{pmatrix} \\\\\n",
    "\\boldsymbol{l} &= \\begin{pmatrix}0 & 0 & \\cdots & 0\\end{pmatrix} \\\\\n",
    "\\boldsymbol{u} &= \\begin{pmatrix}1 & 1 & \\cdots & 1\\end{pmatrix} \\\\\n",
    "f(\\boldsymbol{x}) &= -(\\boldsymbol{1}_{1\\times W}\\cdot\\tilde{\\boldsymbol{P}})\\boldsymbol{p}_x -\\frac{1}{\\ln(2)}\\boldsymbol{1}_{1\\times W}\\cdot f_{\\textrm{entr.}}\n",
    "\\end{align*}\n",
    "and $\\boldsymbol{A}$ and $\\boldsymbol{b}$ are not needed/used."
   ]
  },
  {
   "cell_type": "code",
   "execution_count": 2,
   "id": "baef4dae-6df6-473d-a2a0-89b0bb44f403",
   "metadata": {},
   "outputs": [
    {
     "data": {
      "text/html": [
       "<html><body><pre>File temp_files/channel_capacity.m created successfully.</pre></body></html>"
      ],
      "text/plain": [
       "File temp_files/channel_capacity.m created successfully."
      ]
     },
     "execution_count": 2,
     "metadata": {},
     "output_type": "execute_result"
    }
   ],
   "source": [
    "%%file temp_files/channel_capacity.m\n",
    "% calculate the capacity and the capacity-achieving input distribution for\n",
    "% a DMC specified by a transition matrix P\n",
    "function [C, px] = channel_capacity(P)    \n",
    "    V = size(P,2);\n",
    "    W = size(P,1);\n",
    "    \n",
    "    if is_weakly_symmetric(P)\n",
    "    % use the formula for weakly symmetric channels\n",
    "        px = ones(1,V)/V;\n",
    "        col1 = P(:,1);\n",
    "        Hc = -sum(col1 .* log2(col1));\n",
    "        C = log2(W) - Hc;\n",
    "    else\n",
    "        P_tilde = P .* log2(P);\n",
    "        P_tilde(isnan(P_tilde)) = 0;  % 0 * log2(0) = 0\n",
    "                \n",
    "        \n",
    "         % cvx is not available, use built in fmincon function from MATLAB. The interface is a little bit less beautiful than the cvx interface\n",
    "         myentr = @(x)(max([-x.*log(x)],0));\n",
    "         [px,C] = fmincon(@(px)(-sum(P_tilde, 1)*px  - sum(myentr(P*px))/log(2)), ...\n",
    "                          ones(V,1)/V, [], [], ones(1,V), 1, zeros(V,1), ones(V,1), [], ...\n",
    "                          optimoptions(@fmincon, 'Display', 'off'));\n",
    "         C = -C;        \n",
    "    end    \n",
    "end\n"
   ]
  },
  {
   "cell_type": "code",
   "execution_count": null,
   "id": "2e3ea073-41ae-449a-98b6-1587eee1a35d",
   "metadata": {},
   "outputs": [
    {
     "name": "stdout",
     "output_type": "stream",
     "text": [
      "Starting MATLAB ...\n"
     ]
    }
   ],
   "source": [
    "addpath('./temp_files');"
   ]
  },
  {
   "cell_type": "code",
   "execution_count": 4,
   "id": "630051dc-e146-420b-895f-c2ec1aad2559",
   "metadata": {},
   "outputs": [
    {
     "name": "stdout",
     "output_type": "stream",
     "text": [
      "Weakly symmetric channel:\n"
     ]
    }
   ],
   "source": [
    "% first example, weakly symmetric channel\n",
    "fprintf('Weakly symmetric channel:\\n');\n",
    "P = [1/3, 1/3;\n",
    "     1/2, 1/6;\n",
    "     1/6, 1/2];"
   ]
  },
  {
   "cell_type": "code",
   "execution_count": 5,
   "id": "5491c400-0f9c-489e-a838-461c57c197f9",
   "metadata": {},
   "outputs": [
    {
     "name": "stderr",
     "output_type": "stream",
     "text": [
      "Unrecognized function or variable 'channel_capacity'."
     ]
    }
   ],
   "source": [
    "[C, px] = channel_capacity(P);\n",
    "fprintf('Capacity achieving input distribution:\\n');\n",
    "px\n",
    "fprintf('Capacity:\\n');\n",
    "C"
   ]
  },
  {
   "cell_type": "code",
   "execution_count": 6,
   "id": "7d337e24-72f7-40b2-8efb-73eb9089e135",
   "metadata": {},
   "outputs": [
    {
     "name": "stdout",
     "output_type": "stream",
     "text": [
      "Arbitrary channel:\n"
     ]
    },
    {
     "name": "stderr",
     "output_type": "stream",
     "text": [
      "Unrecognized function or variable 'channel_capacity'."
     ]
    }
   ],
   "source": [
    "% second example, non-symmetric channel from lecture\n",
    "fprintf('Arbitrary channel:\\n');\n",
    "P = [1/2, 1/8;\n",
    "     1/3, 5/8;\n",
    "     1/6, 1/4];\n",
    " \n",
    "[C, px] = channel_capacity(P);\n",
    "fprintf('Capacity achieving input distribution:\\n');\n",
    "px\n",
    "fprintf('Capacity:\\n');\n",
    "C"
   ]
  },
  {
   "cell_type": "code",
   "execution_count": 20,
   "id": "1b7ef837-4ba0-4d9c-8a64-79b317776ceb",
   "metadata": {},
   "outputs": [
    {
     "name": "stderr",
     "output_type": "stream",
     "text": [
      "Unrecognized function or variable 'channel_capacity'."
     ]
    }
   ],
   "source": [
    "% Example: Z-channel\n",
    "q = 0.1;\n",
    "P = [1, q;\n",
    "     0, 1-q];\n",
    "[C, px] = channel_capacity(P);\n",
    "fprintf('Capacity achieving input distribution:\\n');\n",
    "px\n",
    "h = @(x)(-x.*log2(x) - (1-x).*log2(1-x));\n",
    "u = ((1-q)+(1-q)*2^(h(q)/(1-q)))^(-1);\n",
    "fprintf('From analytical formula: [%1.4f %1.4f]\\n', 1-u, u);\n",
    "fprintf('Capacity:\\n');\n",
    "C\n",
    "fprintf('From analytical formula: %1.4f\\n',h(u*(1-q))-u*h(q));"
   ]
  },
  {
   "cell_type": "code",
   "execution_count": 21,
   "id": "78df246f-ea02-4590-80e9-000dd36fe32d",
   "metadata": {},
   "outputs": [
    {
     "name": "stderr",
     "output_type": "stream",
     "text": [
      "Error using validateHandleToPrint\n",
      "No figure to print.\n",
      "\n",
      "Error in validate (line 17)\n",
      "pj = validateHandleToPrint(pj); \n",
      "\n",
      "Error in print (line 67)\n",
      "pj = validate( pj );"
     ]
    }
   ],
   "source": [
    "print(pwd)"
   ]
  },
  {
   "cell_type": "code",
   "execution_count": 9,
   "id": "f71e6ca3-0ebd-4371-bfc2-b23e19607a96",
   "metadata": {},
   "outputs": [
    {
     "data": {
      "text/html": [
       "<html><body><pre>ans = '/home/jovyan/work'</pre></body></html>"
      ],
      "text/plain": [
       "ans = '/home/jovyan/work'"
      ]
     },
     "execution_count": 9,
     "metadata": {},
     "output_type": "execute_result"
    }
   ],
   "source": [
    "pwd"
   ]
  },
  {
   "cell_type": "code",
   "execution_count": null,
   "id": "61183557-b955-4f86-9838-ca5e9bfcabf5",
   "metadata": {},
   "outputs": [],
   "source": []
  }
 ],
 "metadata": {
  "kernelspec": {
   "display_name": "MATLAB Kernel",
   "language": "matlab",
   "name": "jupyter_matlab_kernel"
  },
  "language_info": {
   "file_extension": ".m",
   "mimetype": "text/x-matlab",
   "name": "matlab"
  }
 },
 "nbformat": 4,
 "nbformat_minor": 5
}
