{
 "cells": [
  {
   "cell_type": "markdown",
   "metadata": {},
   "source": [
    "# Content and Objective\n",
    "\n",
    "+ Show result of \"temperature estimation\""
   ]
  },
  {
   "cell_type": "markdown",
   "metadata": {},
   "source": [
    "In this example we take a look at the estimation of an unknown parameter, in this case the temperature. Then we try to get a better understanding of the boxplot used in descriptive statistics.\n",
    "\n",
    "We consider the following modell: We want to estimate an unknown but deterministic temperature $\\theta$. We get our iid (identical and indedependently distributed) observations from a measurement, where the temperature is superimposed with some AWGN:\n",
    "\n",
    "$$x_i=\\theta + n_i\\quad \\text{ with } n_i\\sim \\mathcal{N}(0,\\sigma^2) , \\quad i\\in[1:N]$$"
   ]
  },
  {
   "cell_type": "code",
   "execution_count": 1,
   "metadata": {},
   "outputs": [],
   "source": [
    "import numpy as np\n",
    "import matplotlib.pyplot as plt\n",
    "import ipywidgets as widgets\n",
    "\n",
    "rng=np.random.default_rng()"
   ]
  },
  {
   "cell_type": "code",
   "execution_count": 2,
   "metadata": {},
   "outputs": [],
   "source": [
    "def generate_iid_observation(temperature,observation_length,std_deviation):\n",
    "\n",
    "    observation_array = np.repeat( temperature, observation_length)+std_deviation*rng.normal(size=observation_length)\n",
    "    return observation_array\n"
   ]
  },
  {
   "cell_type": "code",
   "execution_count": 3,
   "metadata": {},
   "outputs": [],
   "source": [
    "def plot_boxplot_of_measurement( temperature, observation_length, std_deviation):\n",
    "    data = generate_iid_observation( temperature, observation_length, std_deviation)\n",
    "    fig = plt.figure(figsize=(10, 7.5))\n",
    "    plt.title('Boxplot of temperature measurement')\n",
    "    plt.boxplot(data)"
   ]
  },
  {
   "cell_type": "code",
   "execution_count": 4,
   "metadata": {},
   "outputs": [
    {
     "data": {
      "application/vnd.jupyter.widget-view+json": {
       "model_id": "685925a4081f4873a6d766c9558b5fa9",
       "version_major": 2,
       "version_minor": 0
      },
      "text/plain": [
       "interactive(children=(IntSlider(value=0, description='temperature'), IntSlider(value=10, description='observat…"
      ]
     },
     "metadata": {},
     "output_type": "display_data"
    }
   ],
   "source": [
    "w = widgets.interact(plot_boxplot_of_measurement, temperature=widgets.IntSlider(min=0, max=100),\n",
    "                     observation_length=widgets.IntSlider(min=1, max=int(1e3),value=10),\n",
    "                     std_deviation=widgets.FloatSlider(min=0, max=50,value=2))\n"
   ]
  },
  {
   "cell_type": "markdown",
   "metadata": {},
   "source": [
    "### Now we can go through some of the used parameters within the boxplot to get a better understanding of the statistics.\n",
    "\n"
   ]
  },
  {
   "cell_type": "code",
   "execution_count": 5,
   "metadata": {},
   "outputs": [],
   "source": [
    "observation = generate_iid_observation( temperature= 100,observation_length=40, std_deviation=2)"
   ]
  },
  {
   "cell_type": "markdown",
   "metadata": {},
   "source": [
    "Let's calculate the arithmetic mean:\n",
    "$$\\bar{x}=\\frac{1}{n}\\sum_{i=1}^{N}x_i$$\n",
    "\n",
    "and the median. The median of a set of observations is the value, such that half of the oberservation take on higher values and the other half take on lower values. For the calculation we first order the observations in ascending order of their values: $\\mathbf{x}=(x_1,\\dots ,x_N)$. \n",
    "Now, depending whether the obersation length $N$ is even or not even, the median can be determined as follows:\n",
    "$$x_{1/2}=\\begin{cases} x_{(\\frac{N+1}{2})}, & N \\text{ is odd}\\\\\n",
    " \\frac{1}{2}\\left( x_{(\\frac{N}{2})}+x_{(\\frac{N}{2}+1)}\\right),& N \\text{ is even}\\end{cases}.$$\n",
    "\n",
    "\n",
    "The generalization of the median are quantiles with $p\\in(0,1)$:\n",
    "$$x_{p}=\\begin{cases} x_{(\\lfloor Np+1\\rfloor)}, & Np \\notin \\mathbb{ N}\\\\\n",
    " \\frac{1}{2}\\left( x_{(Np)}+x_{(Np+1)}\\right),&Np \\in \\mathbb{ N}\\end{cases}.$$\n",
    "\n",
    "\n",
    "\n",
    "\n",
    "\n",
    " We compare the methods provided by numpy with own implementations:"
   ]
  },
  {
   "cell_type": "code",
   "execution_count": 6,
   "metadata": {},
   "outputs": [],
   "source": [
    "def arithmetic_mean(data):\n",
    "    return np.sum(data) / len(data)\n",
    "\n",
    "def calc_median(data): # CARE:  In python we start indexing with 0! Therefore we get slightly different results\n",
    "    N = len(data)\n",
    "    data = np.sort(data) #sorts array in ascending order\n",
    "    if( N%2 == 0):\n",
    "        return 1/2*(data[int(N/2 -1 )]+data[int(N/2)])\n",
    "    else:\n",
    "        return data[int((N+1)/2 -1)]\n",
    "\n",
    "def p_quantil(data, p):\n",
    "    N = len(data)\n",
    "    data = np.sort(data) #sorts array in ascending order\n",
    "    if(N*p != int(N*p)):\n",
    "        return data[int(N*p)]\n",
    "    else:\n",
    "        return 1/2*(data[int(N*p)-1]+data[int(N*p)]) ##HIER NOCH EIN FEHLER?!"
   ]
  },
  {
   "cell_type": "code",
   "execution_count": 7,
   "metadata": {},
   "outputs": [
    {
     "name": "stdout",
     "output_type": "stream",
     "text": [
      "Arithmetic Mean: Numpy:  99.37136215386961 Own:  99.37136215386961\n",
      "Median: Numpy:  99.22240016500297 Own:  99.22240016500297\n",
      "p=0.75 Quantile: : Numpy:  100.48854490607638 Own:  100.48854490607638\n"
     ]
    }
   ],
   "source": [
    "x_bar_np=np.average(observation)\n",
    "x_bar=arithmetic_mean(observation)\n",
    "print(\"Arithmetic Mean: Numpy: \",x_bar_np, \"Own: \", x_bar)\n",
    "\n",
    "x_12_np=np.median(observation)\n",
    "x_12=calc_median(observation)\n",
    "\n",
    "print(\"Median: Numpy: \",x_12_np, \"Own: \", x_12)\n",
    "\n",
    "\n",
    "#p=3/4 Quantil\n",
    "p=0.75\n",
    "\n",
    "x_34_np=np.quantile(observation,p,interpolation='midpoint')\n",
    "x_34=p_quantil(observation,p)\n",
    "\n",
    "print(\"p=\"+str(p) +\" Quantile: : Numpy: \",x_34_np, \"Own: \", x_34)\n"
   ]
  },
  {
   "cell_type": "code",
   "execution_count": 8,
   "metadata": {},
   "outputs": [],
   "source": [
    "quartilsabstand=p_quantil(observation,0.75)-p_quantil(observation,0.25)"
   ]
  },
  {
   "cell_type": "markdown",
   "metadata": {},
   "source": [
    " Empirical variance: The factor $\\frac{1}{n-1}$ is to be used, such that the estimator is unbiased in many cases (e.g deterministic paramter with AWGN), if the mean itself was estimated using the arithmetic mean: \n",
    "$$s^2=\\frac{1}{n-1}\\sum_{i=1}^n(x_i-\\bar{x})^2$$\n",
    "\n",
    "In case that the true expected value $\\mathbb{E}(X)=\\mu_x$ is known, then the following estimator is unbiased:\n",
    "$$s^2=\\frac{1}{n}\\sum_{i=1}^n(x_i-\\mu_x)^2$$\n",
    "\n",
    "This can be explained as follows: By calculating the arithmetic mean one degree of freedom is alread used. This means that, if $\\bar{x}$ is known, and all but the last observation $(x_1,\\dots,x_{n-1})$ are known, then the last observation $x_n=n\\cdot \\bar{x}-\\sum_i^{n-1}x_i$ can be calculated.\n",
    "\n"
   ]
  },
  {
   "cell_type": "code",
   "execution_count": 9,
   "metadata": {},
   "outputs": [],
   "source": [
    "def empirical_variance(data):\n",
    "    n=len(data)\n",
    "    x_bar=np.average(data)\n",
    "    data-=np.ones(n)*x_bar\n",
    "    data=np.power(data,2)\n",
    "\n",
    "    return data.sum()/(n-1)\n"
   ]
  },
  {
   "cell_type": "code",
   "execution_count": 10,
   "metadata": {},
   "outputs": [
    {
     "name": "stdout",
     "output_type": "stream",
     "text": [
      "Empirical Variance: : Numpy:  3.6200177325361156 Own:  3.6200177325361156\n"
     ]
    }
   ],
   "source": [
    "var_np=np.var(observation,ddof=1) #ddof=1 --> unbiased estimator\n",
    "\n",
    "var=empirical_variance(observation)\n",
    "\n",
    "\n",
    "print(\"Empirical Variance: : Numpy: \",var_np, \"Own: \", var)"
   ]
  },
  {
   "cell_type": "markdown",
   "metadata": {},
   "source": [
    "## Now an example that illustrates the importance of the correct scaling. This is especially true, if the number of observations is small!"
   ]
  },
  {
   "cell_type": "code",
   "execution_count": 11,
   "metadata": {},
   "outputs": [
    {
     "name": "stdout",
     "output_type": "stream",
     "text": [
      "Estimated var: biased: 6.270316195225861  unbiased:  9.40547429283879\n"
     ]
    }
   ],
   "source": [
    "\n",
    "temperature=100\n",
    "unknown_variance=16\n",
    "std_deviation=np.sqrt(unknown_variance)\n",
    "number_observations=3 # Small number to show the effect as for large n 1/n approx 1/n-1\n",
    "\n",
    "#We know calculate the estimate of the estimator\n",
    "size_ensemble=int(1e1)\n",
    "estimated_var_unb=np.zeros(size_ensemble)\n",
    "estimated_var_bia=np.zeros(size_ensemble)\n",
    "\n",
    "for i in range(size_ensemble):\n",
    "    observation_realization=generate_iid_observation(temperature,number_observations,std_deviation)\n",
    "    estimated_var_unb[i]=np.var(observation_realization,ddof=1)\n",
    "    estimated_var_bia[i]=np.var(observation_realization,ddof=0)\n",
    "    \n",
    "\n",
    "print(\"Estimated var: biased:\",np.average(estimated_var_bia),\" unbiased: \", np.average(estimated_var_unb))"
   ]
  },
  {
   "cell_type": "markdown",
   "metadata": {},
   "source": [
    "# Now we want to gather all results and compare it to the box plot.\n",
    "\n",
    "Be carefull with documentations. E.g it is not immediately apparent, that plt.boxplot uses interpolation to determine the 3/4 and 1/4 percentile!\n",
    "\n"
   ]
  },
  {
   "cell_type": "code",
   "execution_count": 12,
   "metadata": {},
   "outputs": [],
   "source": [
    "observation=generate_iid_observation(temperature= 100,observation_length=20, std_deviation=15)"
   ]
  },
  {
   "cell_type": "code",
   "execution_count": 13,
   "metadata": {},
   "outputs": [
    {
     "name": "stdout",
     "output_type": "stream",
     "text": [
      "[ 77.29477893  82.25859713  85.22611929  89.04127644  90.70710192\n",
      "  94.17425244  96.8272008   97.59391101  98.28122273  98.62654621\n",
      "  99.36241932 101.04720718 101.77049801 112.27728703 112.6800597\n",
      " 114.83367517 115.68637924 117.41273495 122.0653639  136.19108645]\n"
     ]
    },
    {
     "data": {
      "text/plain": [
       "<matplotlib.legend.Legend at 0x10a576a00>"
      ]
     },
     "execution_count": 13,
     "metadata": {},
     "output_type": "execute_result"
    },
    {
     "data": {
      "image/png": "[encoded data removed]",
      "text/plain": [
       "<Figure size 1000x750 with 1 Axes>"
      ]
     },
     "metadata": {},
     "output_type": "display_data"
    }
   ],
   "source": [
    "\n",
    "\n",
    "# sort simplifies the search for the smallest and largest 'normal' observation\n",
    "observation = np.sort(observation)\n",
    "\n",
    "print(observation)\n",
    "x_12 = calc_median(observation)  # own implementation\n",
    "\n",
    "# Percentiles from np! according to the documentation they use some interpolation, this lead to different within the boxplot\n",
    "upper_quantil = np.quantile(observation, 0.75)\n",
    "lower_quantil = np.quantile(observation, 0.25)\n",
    "\n",
    "# Own percentile implementation that doesn't use interpolation. Same results as numpys implementation if method='midpoint' is included in np.quantile\n",
    "upper_quantil_own = p_quantil(observation, 0.75)\n",
    "lower_quantil_own = p_quantil(observation, 0.25)\n",
    "\n",
    "\n",
    "# The largest 'normal' observation is the largest OBSERVATION (thus it is itself an element in the observation array) below 3/4Q+ 3/2 (3/4Q-1/4Q)\n",
    "largest_normal_observation = upper_quantil+1.5*(upper_quantil-lower_quantil)\n",
    "# Take the largest observation that is below the defined threshold\n",
    "largest_normal_observation = observation[observation <\n",
    "                                         largest_normal_observation][-1]\n",
    "\n",
    "# Here vice versa: Smallest observation above 3/4Q - 3/2 (3/4Q-1/4Q)\n",
    "lowest_normal_observation = lower_quantil-1.5*(upper_quantil-lower_quantil)\n",
    "# Take smallest observation that is above the threshold\n",
    "lowest_normal_observation = observation[observation >\n",
    "                                        lowest_normal_observation][0]\n",
    "\n",
    "\n",
    "# Outliers are higher or lower than the boundary 'normal observations'\n",
    "outliers = observation[np.logical_or(\n",
    "    observation > largest_normal_observation, observation < lowest_normal_observation)]\n",
    "\n",
    "fig = plt.figure(figsize=(10, 7.5))\n",
    "plt.title('Boxplot of temperature measurement')\n",
    "plt.boxplot(observation)\n",
    "\n",
    "plt.scatter(1, x_12, label=\"Median\", s=100, c='r')\n",
    "plt.scatter(1, upper_quantil,\n",
    "            label=\" $\\\\frac{3}{4}$ Quantil\", s=100, c='b', marker='x')\n",
    "plt.scatter(1, lower_quantil,\n",
    "            label=\" $\\\\frac{1}{4}$ Quantil\", s=100, c='b', marker='x')\n",
    "\n",
    "\n",
    "plt.scatter(1, upper_quantil_own,\n",
    "            label=\"Own $ \\\\frac{3}{4}$ Quantil (no interpolation)\", c='c')\n",
    "plt.scatter(1, lower_quantil_own,\n",
    "            label=\" Own $ \\\\frac{1}{4}$ Quantil (no interpolation)\", c='c')\n",
    "\n",
    "plt.scatter(1, largest_normal_observation,\n",
    "            label=\"largest normal observation\", c='k')\n",
    "plt.scatter(1, lowest_normal_observation,\n",
    "            label=\"smallest normal observation\", c='k')\n",
    "\n",
    "\n",
    "plt.scatter(np.ones(len(outliers)), outliers,\n",
    "            label=\"Outliers\", c='g', marker='^')\n",
    "\n",
    "plt.legend()\n"
   ]
  },
  {
   "cell_type": "markdown",
   "metadata": {},
   "source": [
    "# Last we take a look at the robustness of a the variance and the percentiles against strong outliers"
   ]
  },
  {
   "cell_type": "code",
   "execution_count": 14,
   "metadata": {},
   "outputs": [
    {
     "name": "stdout",
     "output_type": "stream",
     "text": [
      "Variance:  8.928163244555456\n",
      "Quartilsabstand 4.7069748575690085\n"
     ]
    }
   ],
   "source": [
    "observation_outlier=generate_iid_observation(temperature=100,std_deviation=3,observation_length=40)\n",
    "\n",
    "print(\"Variance: \", np.var(observation_outlier))\n",
    "print(\"Quartilsabstand\", np.quantile(observation_outlier,0.75,interpolation='midpoint')-np.quantile(observation_outlier,0.25,interpolation='midpoint') )"
   ]
  },
  {
   "cell_type": "markdown",
   "metadata": {},
   "source": [
    "Now we add a strong outlier, e.g. a measuremnt of 200 degrees"
   ]
  },
  {
   "cell_type": "code",
   "execution_count": 15,
   "metadata": {},
   "outputs": [
    {
     "name": "stdout",
     "output_type": "stream",
     "text": [
      "Variance:  248.4836915365066\n",
      "Quartilsabstand 4.60446720084569\n"
     ]
    }
   ],
   "source": [
    "observation_outlier=np.hstack((observation_outlier,200))\n",
    "print(\"Variance: \", np.var(observation_outlier))\n",
    "print(\"Quartilsabstand\", np.quantile(observation_outlier,0.75,interpolation='midpoint')-np.quantile(observation_outlier,0.25,interpolation='midpoint') )\n"
   ]
  },
  {
   "cell_type": "markdown",
   "metadata": {},
   "source": [
    "As can be seen, the variance is much more influenced by the wrong measurement. The percentile is much more robust against strong outliers."
   ]
  }
 ],
 "metadata": {
  "kernelspec": {
   "display_name": "base",
   "language": "python",
   "name": "python3"
  },
  "language_info": {
   "codemirror_mode": {
    "name": "ipython",
    "version": 3
   },
   "file_extension": ".py",
   "mimetype": "text/x-python",
   "name": "python",
   "nbconvert_exporter": "python",
   "pygments_lexer": "ipython3",
   "version": "3.9.13"
  },
  "vscode": {
   "interpreter": {
    "hash": "1bf9b466e818f114aa88684763663e3f92502a9e77792b1f61dabc3003ef1245"
   }
  }
 },
 "nbformat": 4,
 "nbformat_minor": 2
}
