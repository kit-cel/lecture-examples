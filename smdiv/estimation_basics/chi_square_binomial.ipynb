{
 "cells": [
  {
   "attachments": {},
   "cell_type": "markdown",
   "metadata": {},
   "source": [
    "# Content and Objective\n",
    "\n",
    "+ Show result of chi-square test for uniform distribution:\n",
    "    + Sample uniformly distributed values in [0 : N_random ]\n",
    "    + Get chi-square test statistics and compare to value of chi-square quantile\n",
    "    + You may use actually random samples or example of the lecture"
   ]
  },
  {
   "cell_type": "markdown",
   "metadata": {},
   "source": [
    "# Import"
   ]
  },
  {
   "cell_type": "code",
   "execution_count": 1,
   "metadata": {},
   "outputs": [],
   "source": [
    "# importing\n",
    "import numpy as np\n",
    "import scipy.signal as signal\n",
    "import scipy.stats as stats\n",
    "import scipy as sp\n",
    "\n",
    "import matplotlib.pyplot as plt\n",
    "import matplotlib\n",
    "\n",
    "# showing figures inline\n",
    "%matplotlib inline"
   ]
  },
  {
   "cell_type": "code",
   "execution_count": 2,
   "metadata": {},
   "outputs": [],
   "source": [
    "# plotting options \n",
    "font = {'size'   : 30}\n",
    "plt.rc('font', **font)\n",
    "plt.rc('text', usetex=True)\n",
    "\n",
    "matplotlib.rc('figure', figsize=(24, 12) )"
   ]
  },
  {
   "cell_type": "markdown",
   "metadata": {},
   "source": [
    "# Here we go"
   ]
  },
  {
   "cell_type": "code",
   "execution_count": 3,
   "metadata": {},
   "outputs": [],
   "source": [
    "# number of elements for random sampling\n",
    "# 6 equalling die, 2 equalling coin, etc.\n",
    "N_random = 6\n",
    "\n",
    "# vector of prob. to be test das H_0\n",
    "# You may also define different pmf if you like to\n",
    "p = np.ones( N_random ) / N_random"
   ]
  },
  {
   "cell_type": "code",
   "execution_count": 4,
   "metadata": {},
   "outputs": [
    {
     "name": "stdout",
     "output_type": "stream",
     "text": [
      "[30 25 18 10 22 15]\n"
     ]
    }
   ],
   "source": [
    "# define number of observations\n",
    "N = 100\n",
    "\n",
    "# get no. of \"hits\" when using simulated dice\n",
    "sample = np.random.choice( range( 1, N_random + 1 ), size = N, p = p )\n",
    "\n",
    "# get no. of values by checking how often sample == _n + 1 is TRUE\n",
    "# NOTE: indexing in Python starts at 0, so _n + 1 has to be used\n",
    "h = np.zeros( N_random )\n",
    "\n",
    "for _n in range( N_random ):\n",
    "    h[ _n ] = np.sum( sample == _n + 1 )\n",
    "\n",
    "###\n",
    "# select this one if you want to have the (determinstic) example of [K. Bosch: Elementare Einführung in die angewandte Statistik, Vieweg]\n",
    "###\n",
    "if 1:\n",
    "    N = 120\n",
    "    h = np.array( [ 30, 25, 18, 10, 22, 15 ] )\n",
    "\n",
    "\n",
    "print( h )"
   ]
  },
  {
   "cell_type": "code",
   "execution_count": 5,
   "metadata": {},
   "outputs": [
    {
     "name": "stdout",
     "output_type": "stream",
     "text": [
      "Test statistic for 120 trials: \t12.899999999999999\n"
     ]
    }
   ],
   "source": [
    "# determine chi-square test value\n",
    "t = np.sum( ( h - N * p )**2 / ( N * p  ) )\n",
    "\n",
    "print( 'Test statistic for {} trials: \\t{}'.format( N, t ) )"
   ]
  },
  {
   "cell_type": "code",
   "execution_count": 6,
   "metadata": {},
   "outputs": [
    {
     "name": "stdout",
     "output_type": "stream",
     "text": [
      "Value of chi square quantile: 9.236356899781123\n"
     ]
    }
   ],
   "source": [
    "# define niveau alpha\n",
    "alpha = 0.1\n",
    "\n",
    "\n",
    "# get quantiles of chi2\n",
    "chi2 = stats.chi2.ppf( 1 - alpha, N_random - 1 )\n",
    "\n",
    "\n",
    "print( 'Value of chi square quantile: {}'.format( chi2 ) )"
   ]
  },
  {
   "cell_type": "code",
   "execution_count": 7,
   "metadata": {},
   "outputs": [
    {
     "name": "stdout",
     "output_type": "stream",
     "text": [
      "Results of test:\n",
      "----------------\n",
      "\n",
      "Hypothesis: \t\t[0.16666667 0.16666667 0.16666667 0.16666667 0.16666667 0.16666667]\n",
      "Observations: \t\t[30 25 18 10 22 15]\n",
      "\n",
      "Empirical value: \t12.899999999999999\n",
      "Chi square quantile: \t9.236356899781123\n",
      "\n",
      "Niveau: \t\t0.1\n",
      "Test result: \t\tH_0 declined with respect to error probability 0.1\n"
     ]
    }
   ],
   "source": [
    "print( 'Results of test:' )\n",
    "print( '----------------\\n' )\n",
    "\n",
    "\n",
    "print( 'Hypothesis: \\t\\t{}'.format( p ) )\n",
    "print( 'Observations: \\t\\t{}'.format( h ) ) \n",
    "\n",
    "print()\n",
    "print( 'Empirical value: \\t{}'.format( t ) )\n",
    "print( 'Chi square quantile: \\t{}'.format( chi2 ) )\n",
    "\n",
    "print()\n",
    "test_result = 'H_0 declined' if t > chi2 else 'H_0 not declined'\n",
    "\n",
    "print( 'Niveau: \\t\\t{}'.format( alpha) ) \n",
    "print( 'Test result: \\t\\t' + test_result + ' with respect to error probability {}'.format( alpha) )\n",
    "\n"
   ]
  },
  {
   "cell_type": "markdown",
   "metadata": {},
   "source": [
    "# Now there should be a sequence of multiple samplings showing that the error rate of the test is actually equal to alpha"
   ]
  },
  {
   "cell_type": "markdown",
   "metadata": {},
   "source": []
  }
 ],
 "metadata": {
  "kernelspec": {
   "display_name": "base",
   "language": "python",
   "name": "python3"
  },
  "language_info": {
   "codemirror_mode": {
    "name": "ipython",
    "version": 3
   },
   "file_extension": ".py",
   "mimetype": "text/x-python",
   "name": "python",
   "nbconvert_exporter": "python",
   "pygments_lexer": "ipython3",
   "version": "3.9.13"
  },
  "vscode": {
   "interpreter": {
    "hash": "1bf9b466e818f114aa88684763663e3f92502a9e77792b1f61dabc3003ef1245"
   }
  }
 },
 "nbformat": 4,
 "nbformat_minor": 4
}
