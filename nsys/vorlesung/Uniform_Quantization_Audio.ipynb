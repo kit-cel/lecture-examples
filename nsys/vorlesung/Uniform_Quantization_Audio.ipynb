{
 "cells": [
  {
   "cell_type": "markdown",
   "metadata": {},
   "source": [
    "# Uniform Quantization of an Audio Signal\n",
    "\n",
    "This code is provided as supplementary material of the lecture Quellencodierung.\n",
    "\n",
    "This code illustrates\n",
    "* Uniform scalar quantization of an audio file"
   ]
  },
  {
   "cell_type": "code",
   "execution_count": 1,
   "metadata": {},
   "outputs": [],
   "source": [
    "%matplotlib inline\n",
    "import matplotlib\n",
    "import matplotlib.pyplot as plt\n",
    "import numpy as np\n",
    "import shutil\n",
    "from scipy.io import wavfile\n",
    "import IPython.display as ipd\n",
    "\n",
    "from ipywidgets import interactive\n",
    "import ipywidgets as widgets"
   ]
  },
  {
   "cell_type": "code",
   "execution_count": 2,
   "metadata": {},
   "outputs": [],
   "source": [
    "# plotting options \n",
    "font = {'size'   : 20}\n",
    "plt.rc('font', **font)\n",
    "plt.rc('text', usetex=True if shutil.which('latex') else False)\n",
    "\n",
    "matplotlib.rc('figure', figsize=(18, 6) )"
   ]
  },
  {
   "cell_type": "markdown",
   "metadata": {},
   "source": [
    "Load wave file and convert to mono if stereo"
   ]
  },
  {
   "cell_type": "code",
   "execution_count": 3,
   "metadata": {},
   "outputs": [],
   "source": [
    "fs, data = wavfile.read('./audio/33711__acclivity__excessiveexposure.wav')\n",
    "#fs, data = wavfile.read('./audio/E-Core - Pingouin-Banquise_45s.wav')\n",
    "#fs, data = wavfile.read('./audio/KIMIKO ISHIZAKA - Goldberg Variations BWV 988 - 01 - Aria_45s.wav')\n",
    "\n",
    "\n",
    "audiodata = np.array(data.astype(float))\n",
    "# Convert audio to mono if is stereo\n",
    "if audiodata.ndim > 1:\n",
    "    audiodata = np.array((audiodata[:,0] + audiodata[:,1]) / 2)\n",
    "\n",
    "time = np.arange(len(audiodata)) / fs"
   ]
  },
  {
   "cell_type": "markdown",
   "metadata": {},
   "source": [
    "Uniform Quantization. The quantizer is given by\n",
    "$$\n",
    "\\bar{b}[k] = \\mathrm{sign}(b[k])\\cdot \\Delta \\cdot \\left(\\left\\lfloor\\frac{|b[k]|}{\\Delta}\\right\\rfloor+\\frac{1}{2}\\right)\n",
    "$$\n",
    "where $\\lfloor x \\rfloor$ denotes the larges integer smaller or equal than $x$."
   ]
  },
  {
   "cell_type": "code",
   "execution_count": 4,
   "metadata": {},
   "outputs": [],
   "source": [
    "def quantize(b, w):\n",
    "    # b_max from signal\n",
    "    b_max = np.max(np.abs(b))\n",
    "       \n",
    "    # saturation and clipping (slightly less than maximum value to avoid numerical issues)\n",
    "    b_scaled = np.clip(b, -b_max*0.999, b_max*0.999)\n",
    "    \n",
    "    K = 2**w\n",
    "    \n",
    "    Delta = 2*b_max / K\n",
    "    \n",
    "    b_bar = np.sign(b_scaled)*Delta*(np.floor(np.abs(b_scaled)/Delta)+0.5) \n",
    "    return b_bar"
   ]
  },
  {
   "cell_type": "code",
   "execution_count": 8,
   "metadata": {},
   "outputs": [
    {
     "data": {
      "application/vnd.jupyter.widget-view+json": {
       "model_id": "fd2ec681aae74c5e911e06af5bc80a6e",
       "version_major": 2,
       "version_minor": 0
      },
      "text/plain": [
       "interactive(children=(IntSlider(value=4, continuous_update=False, description='w', max=12, min=1), Output(layo…"
      ]
     },
     "execution_count": 8,
     "metadata": {},
     "output_type": "execute_result"
    }
   ],
   "source": [
    "def show_and_play(w):\n",
    "    x = quantize(audiodata, w)\n",
    "    \n",
    "    b_max = np.max(np.abs(audiodata))\n",
    "    Delta = 2*b_max / 2**w\n",
    "    \n",
    "    q_levels = np.linspace(-(2**w - 1)*Delta/2, (2**w - 1)*Delta/2, 2**w)\n",
    "    \n",
    "    \n",
    "    ipd.display(ipd.Audio(x, rate=fs)) \n",
    "    \n",
    "    plt.figure(figsize=(12,8))\n",
    "    plt.subplot(2,1,1)\n",
    "    plt.plot(time, audiodata)   \n",
    "    if w < 7:\n",
    "        plt.hlines(q_levels, time[0], time[-1], colors='k', linestyles='dotted', linewidth=1)\n",
    "    plt.xlim((time[0], time[-1]))\n",
    "    plt.ylim((-np.max(np.abs(audiodata)),np.max(np.abs(audiodata))))\n",
    "    plt.xlabel('Time $t$ (s)', fontsize=20)\n",
    "    plt.ylabel('$b[k]$', fontsize=20)\n",
    "    plt.title('Signal and quantization levels', fontsize=20)\n",
    "    \n",
    "    plt.subplot(2,1,2)\n",
    "    plt.plot(time, x)    \n",
    "    if w < 7:\n",
    "        plt.hlines(q_levels, time[0], time[-1], colors='k', linestyles='dotted', linewidth=1)\n",
    "    plt.xlim((time[0], time[-1]))\n",
    "    plt.ylim((-np.max(np.abs(audiodata)),np.max(np.abs(audiodata))))\n",
    "    plt.xlabel('Time $t$ (s)', fontsize=20)\n",
    "    plt.ylabel(r'$\\bar{b}[k]$', fontsize=20)\n",
    "    plt.title('Quantized signal', fontsize=20)\n",
    "    plt.tight_layout()\n",
    "    plt.show()\n",
    "    #plt.savefig('audio_quantized_w%d.pdf' % w, bbox_inches='tight')\n",
    "    \n",
    "interactive_update = interactive(lambda w: show_and_play(w), \\\n",
    "                                w = widgets.IntSlider(min=1, max=12, step=1, value=4, continuous_update=False, description='w'))\n",
    "\n",
    "output = interactive_update.children[-1]\n",
    "output.layout.height = '850px'\n",
    "interactive_update\n"
   ]
  },
  {
   "cell_type": "code",
   "execution_count": 7,
   "metadata": {},
   "outputs": [],
   "source": [
    "# Schreibe Daten in eine Textdatei für w = 8\n",
    "\n",
    "w = 8\n",
    "b = audiodata\n",
    "    \n",
    "# b_max from signal\n",
    "b_max = np.max(np.abs(b))\n",
    "       \n",
    "# saturation and clipping (slightly less than maximum value to avoid numerical issues)\n",
    "b_scaled = np.clip(b, -b_max*0.999, b_max*0.999)\n",
    "    \n",
    "K = 2**w   \n",
    "Delta = 2*b_max / K\n",
    "    \n",
    "# generate Binary file with 8bit integers\n",
    "indices = (np.sign(b_scaled)*(np.floor(np.abs(b_scaled)/Delta) + 0.5) + K/2 + 0.5)\n",
    "indices.astype('int8').tofile('indices.bin')"
   ]
  },
  {
   "cell_type": "code",
   "execution_count": null,
   "metadata": {},
   "outputs": [],
   "source": []
  }
 ],
 "metadata": {
  "kernelspec": {
   "display_name": "Python 3 (ipykernel)",
   "language": "python",
   "name": "python3"
  },
  "language_info": {
   "codemirror_mode": {
    "name": "ipython",
    "version": 3
   },
   "file_extension": ".py",
   "mimetype": "text/x-python",
   "name": "python",
   "nbconvert_exporter": "python",
   "pygments_lexer": "ipython3",
   "version": "3.12.7"
  }
 },
 "nbformat": 4,
 "nbformat_minor": 4
}
