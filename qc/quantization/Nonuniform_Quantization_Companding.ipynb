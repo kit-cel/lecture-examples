{
 "cells": [
  {
   "cell_type": "markdown",
   "metadata": {},
   "source": [
    "# Non-Uniform Quantization with $\\mu$-law Companders\n",
    "\n",
    "This code is provided as supplementary material of the lecture Quellencodierung.\n",
    "\n",
    "This code illustrates\n",
    "* Non-uniform quantization using the $\\mu$-law characteristic"
   ]
  },
  {
   "cell_type": "code",
   "execution_count": 1,
   "metadata": {},
   "outputs": [],
   "source": [
    "import numpy as np\n",
    "import matplotlib.pyplot as plt"
   ]
  },
  {
   "cell_type": "markdown",
   "metadata": {},
   "source": [
    "These functions implement the $\\mu$-law and inverse $\\mu$-law characteristic\n",
    "$$\n",
    "g_{\\mu}(x) = \\mathrm{sign}(x)\\frac{\\ln(1+\\mu|x|)}{\\ln(1+\\mu)}\n",
    "$$\n",
    "and the inverse\n",
    "$$\n",
    "g^{-1}_{\\mu}(y) = \\mathrm{sign}(y)\\frac{1}{\\mu}\\left((1+\\mu)^{|y|}-1\\right)\n",
    "$$"
   ]
  },
  {
   "cell_type": "code",
   "execution_count": 2,
   "metadata": {},
   "outputs": [],
   "source": [
    "def uLaw(x):\n",
    "    mu = 255\n",
    "    y = np.array([np.sign(t)*np.log(1+mu*np.abs(t))/np.log(1+mu) for t in x])\n",
    "    return y\n",
    "\n",
    "def uLaw_inv(y):\n",
    "    mu = 255\n",
    "    x = np.array([np.sign(t)/mu*((1+mu)**(np.abs(t))-1) for t in y])\n",
    "    return x"
   ]
  },
  {
   "cell_type": "code",
   "execution_count": 12,
   "metadata": {},
   "outputs": [],
   "source": [
    "x = np.linspace(-1,1,1000)\n",
    "y = uLaw(x)\n",
    "\n",
    "w = 5\n",
    "Delta = 1 / (2**(w-1))\n",
    "yh = np.sign(y)*Delta*(np.floor(np.abs(y)/Delta)+0.5) \n",
    "xh = uLaw_inv(yh)"
   ]
  },
  {
   "cell_type": "code",
   "execution_count": 13,
   "metadata": {},
   "outputs": [
    {
     "data": {
      "image/png": "[encoded data removed]",
      "text/plain": [
       "<Figure size 1080x360 with 3 Axes>"
      ]
     },
     "metadata": {
      "needs_background": "light"
     },
     "output_type": "display_data"
    }
   ],
   "source": [
    "# plotting options \n",
    "font = {'size'   : 18}\n",
    "plt.rc('font', **font)\n",
    "plt.rc('text', usetex=True)\n",
    "\n",
    "plt.figure(figsize=(15, 5))\n",
    "plt.subplot(1,3,1)\n",
    "plt.plot(x,yh, linewidth=2,c=(0,0.59,0.51))\n",
    "plt.xlim((-1,1))\n",
    "plt.ylim((-1,1))\n",
    "plt.gca().set_aspect('equal', 'box')\n",
    "plt.gca().set_xticks([-1,-0.5,0,0.5,1])\n",
    "plt.gca().set_yticks([-1,-0.5,0,0.5,1])\n",
    "plt.grid(True)\n",
    "plt.xlabel('$x$',fontsize=26)\n",
    "plt.ylabel('$\\hat{y}$',fontsize=26)\n",
    "\n",
    "plt.subplot(1,3,2)\n",
    "plt.step(yh,xh, linewidth=2,c=(0,0.59,0.51))\n",
    "plt.xlim((-1,1))\n",
    "plt.ylim((-1,1))\n",
    "plt.gca().set_aspect('equal', 'box')\n",
    "plt.gca().set_xticks([-1,-0.5,0,0.5,1])\n",
    "plt.gca().set_yticks([-1,-0.5,0,0.5,1])\n",
    "plt.grid(True)\n",
    "plt.xlabel('$\\hat{y}$',fontsize=26)\n",
    "plt.ylabel('$\\hat{x}$',fontsize=26)\n",
    "\n",
    "plt.subplot(1,3,3)\n",
    "plt.plot(x,xh, linewidth=2,c=(0,0.59,0.51))\n",
    "plt.xlim((-1,1))\n",
    "plt.ylim((-1,1))\n",
    "plt.gca().set_aspect('equal', 'box')\n",
    "plt.gca().set_xticks([-1,-0.5,0,0.5,1])\n",
    "plt.gca().set_yticks([-1,-0.5,0,0.5,1])\n",
    "plt.grid(True)\n",
    "plt.xlabel('$x$',fontsize=26)\n",
    "plt.ylabel('$\\hat{x}$',fontsize=26)\n",
    "\n",
    "plt.tight_layout()\n",
    "plt.savefig('figure_DST_7.6_w%d.pdf' % w,bbox_inches='tight')"
   ]
  },
  {
   "cell_type": "code",
   "execution_count": null,
   "metadata": {},
   "outputs": [],
   "source": []
  }
 ],
 "metadata": {
  "kernelspec": {
   "display_name": "Python 3 (ipykernel)",
   "language": "python",
   "name": "python3"
  },
  "language_info": {
   "codemirror_mode": {
    "name": "ipython",
    "version": 3
   },
   "file_extension": ".py",
   "mimetype": "text/x-python",
   "name": "python",
   "nbconvert_exporter": "python",
   "pygments_lexer": "ipython3",
   "version": "3.10.11"
  }
 },
 "nbformat": 4,
 "nbformat_minor": 4
}
