{
 "cells": [
  {
   "cell_type": "markdown",
   "metadata": {},
   "source": [
    "# Prediction Gain of Linear Prediction\n",
    "\n",
    "This code is provided as supplementary material of the lecture Quellencodierung.\n",
    "\n",
    "This code illustrates\n",
    "* Calculation of the prediction gain\n",
    "* Playback of the prediction error signal\n",
    "* Difference between blockwise adaptation and constant predictor coefficients"
   ]
  },
  {
   "cell_type": "code",
   "execution_count": null,
   "metadata": {},
   "outputs": [],
   "source": [
    "%matplotlib inline\n",
    "import matplotlib.pyplot as plt\n",
    "import numpy as np\n",
    "import shutil\n",
    "from scipy.signal import lfilter\n",
    "from scipy.io import wavfile\n",
    "import scipy.signal as sp\n",
    "\n",
    "import IPython.display as ipd\n",
    "from pylab import rcParams\n",
    "rcParams['axes.xmargin'] = 0"
   ]
  },
  {
   "cell_type": "markdown",
   "metadata": {},
   "source": [
    "Consider two different wave files"
   ]
  },
  {
   "cell_type": "code",
   "execution_count": null,
   "metadata": {},
   "outputs": [],
   "source": [
    "wave_filename = '../audio/33711__acclivity__excessiveexposure.wav'"
   ]
  },
  {
   "cell_type": "markdown",
   "metadata": {},
   "source": [
    "## First case: Fixed prediction coefficients\n",
    "Calculate the prediction gain as\n",
    "$$\n",
    "G_{\\mathsf{p}} = \\frac{\\sigma_x^2}{\\sigma_x^2-\\boldsymbol{\\varphi}_{XX}^{\\mathsf{T}}\\boldsymbol{R}_{XX}^{-1}\\boldsymbol{\\varphi}_{XX}}\n",
    "$$\n",
    "where\n",
    "$$\n",
    "\\boldsymbol{\\varphi}_{XX} := \\begin{pmatrix}\n",
    "\t\t\t\\varphi_{XX}[1] \\\\\n",
    "\t\t\t\\varphi_{XX}[2] \\\\\t\t\t\n",
    "\t\t\t\\vdots\\\\\n",
    "\t\t\t\\varphi_{XX}[n]\n",
    "\t\t\t\\end{pmatrix}\n",
    "$$ \n",
    "and\n",
    "$$\n",
    "\\boldsymbol{R}_{XX} := \\begin{pmatrix}\n",
    "\t\t\t\\varphi_{XX}[0] & \\varphi_{XX}[-1] & \\cdots & \\varphi_{XX}[1-n] \\\\\n",
    "\t\t\t\\varphi_{XX}[1] & \\varphi_{XX}[0] & \\cdots & \\varphi_{XX}[2-n] \\\\\n",
    "\t\t\t\\vdots & \\vdots & \\ddots & \\vdots\\\\\n",
    "\t\t\t\\varphi_{XX}[n-1] & \\varphi_{XX}[n-2] & \\cdots & \\varphi_{XX}[0] \\end{pmatrix}\n",
    "$$\n",
    "with \n",
    "$$\n",
    "\\varphi_{XX}[\\lambda] = \\mathbb{E}\\left\\{X[k]X[k-\\lambda]\\right\\}\n",
    "$$\n",
    "being the auto-correlation of $X$."
   ]
  },
  {
   "cell_type": "code",
   "execution_count": null,
   "metadata": {},
   "outputs": [],
   "source": [
    "# helper function calculating the correlation coefficient as defined in the lecture\n",
    "def auto_correlation(x, k):\n",
    "    if k >= 0:\n",
    "        x_shift = np.roll(x,k)\n",
    "        x_shift[:k] = 0\n",
    "    else:\n",
    "        x_shift = np.roll(x,k)\n",
    "        x_shift[k:] = 0\n",
    "        \n",
    "    return np.correlate(x,x_shift)[0] / len(x)\n",
    "    \n",
    "# calculate prediction gain\n",
    "def get_prediction_gain(x, n):\n",
    "    if n == 0:\n",
    "        return 1\n",
    "    \n",
    "    phi_XX = np.array([auto_correlation(x,k) for k in np.arange(1,n+1)])\n",
    "    \n",
    "    # inefficient way to calculate R_XX as many terms can be reused due to symmetric of the auto-correlation function\n",
    "    R_XX = np.array([[auto_correlation(x,i-j) for j in range(n)] for i in range(n)])\n",
    "    \n",
    "    sigmaq_x = np.mean(np.square(x))    \n",
    "    \n",
    "    sigmaq_d = sigmaq_x - phi_XX.T @ np.linalg.inv(R_XX) @ phi_XX\n",
    "    \n",
    "    Gp = sigmaq_x / sigmaq_d\n",
    "    return Gp"
   ]
  },
  {
   "cell_type": "code",
   "execution_count": null,
   "metadata": {},
   "outputs": [],
   "source": [
    "# compute prediction gains for two different audio files\n",
    "old_sampling_rate,x = wavfile.read(wave_filename)\n",
    "if len(x.shape) == 2:\n",
    "    x = np.mean(x, axis = 1, dtype = x.dtype)\n",
    "sampling_rate = 8000\n",
    "number_of_samples = round(len(x) * sampling_rate / old_sampling_rate)\n",
    "x = sp.resample(x, number_of_samples)\n",
    "    \n",
    "n_range = range(31)\n",
    "Gp = [get_prediction_gain(x,n) for n in n_range]"
   ]
  },
  {
   "cell_type": "markdown",
   "metadata": {},
   "source": [
    "### Playback of prediction error signal"
   ]
  },
  {
   "cell_type": "code",
   "execution_count": null,
   "metadata": {},
   "outputs": [],
   "source": [
    "# select a prediction filter of 10 coefficients\n",
    "n = 10\n",
    "\n",
    "phi_XX = np.array([auto_correlation(x,k) for k in np.arange(1,n+1)])\n",
    "    \n",
    "# inefficient way to calculate R_XX as many terms can be reused due to symmetric of the auto-correlation function\n",
    "R_XX = np.array([[auto_correlation(x,i-j) for j in range(n)] for i in range(n)])\n",
    "\n",
    "# optimal prediction coefficients\n",
    "aopt = np.linalg.inv(R_XX) @ phi_XX\n",
    "\n",
    "# generate prediction signal\n",
    "xh = lfilter(np.concatenate(([0], aopt)), 1, x)\n",
    "\n",
    "# prediction error\n",
    "d = x - xh"
   ]
  },
  {
   "cell_type": "markdown",
   "metadata": {},
   "source": [
    "Playback original signal"
   ]
  },
  {
   "cell_type": "code",
   "execution_count": null,
   "metadata": {},
   "outputs": [],
   "source": [
    "# playback original audio\n",
    "ipd.Audio(x, rate=sampling_rate)"
   ]
  },
  {
   "cell_type": "markdown",
   "metadata": {},
   "source": [
    "Playback predicted signal"
   ]
  },
  {
   "cell_type": "code",
   "execution_count": null,
   "metadata": {},
   "outputs": [],
   "source": [
    "# playback original audio\n",
    "ipd.Audio(xh, rate=sampling_rate)"
   ]
  },
  {
   "cell_type": "markdown",
   "metadata": {},
   "source": [
    "Playback prediction error"
   ]
  },
  {
   "cell_type": "code",
   "execution_count": null,
   "metadata": {},
   "outputs": [],
   "source": [
    "# playback original audio\n",
    "ipd.Audio(d, rate=sampling_rate)"
   ]
  },
  {
   "cell_type": "markdown",
   "metadata": {},
   "source": [
    "Plot waveforms"
   ]
  },
  {
   "cell_type": "code",
   "execution_count": null,
   "metadata": {},
   "outputs": [],
   "source": [
    "x_max = np.max([np.max(x), -np.min(x)])\n",
    "\n",
    "plt.figure(figsize=(10, 11))\n",
    "plt.subplot(3,1,1)\n",
    "librosa.display.waveshow(x, sr=sampling_rate)\n",
    "plt.title('Original')\n",
    "plt.ylim((-x_max*1.2,+x_max*1.2))\n",
    "plt.subplot(3,1,2)\n",
    "librosa.display.waveshow(xh, sr=sampling_rate)\n",
    "plt.title('Predicted signal')\n",
    "plt.ylim((-x_max*1.2,+x_max*1.2))\n",
    "plt.subplot(3,1,3)\n",
    "librosa.display.waveshow(d, sr=sampling_rate)\n",
    "plt.title('Prediction error')\n",
    "plt.ylim((-x_max*2.2,+x_max*2.2))\n",
    "plt.tight_layout()"
   ]
  },
  {
   "cell_type": "markdown",
   "metadata": {},
   "source": [
    "## Second case: Block adaptation of predictor coefficients\n",
    "\n",
    "We extract blocks of the signal using a rectangular window $w[k]$ of length $N$\n",
    "$$\n",
    "\t\t\t\\tilde{x}[k] = x[k]\\cdot w[k_0-k]\n",
    "$$     \n",
    "The signal $\\tilde{x}[k]$ attains non-zero values only within the time interval\n",
    "$$\n",
    "\t\t\tk_1 = k_0-N+1 \\leq k \\leq k_0\n",
    "$$\n",
    "The short-term auto-correlation for finite-energy signals is defined as ($\\forall\\lambda \\in\\{0,1,\\ldots, n\\}$)\n",
    "$$\n",
    "r_\\lambda = \\sum_{k=k_1}^{k_0}\\tilde{x}[k]\\tilde{x}[k+\\lambda] = \\sum_{k=k_1}^{k_0-\\lambda}x[k]x[k+\\lambda]\n",
    "$$\n",
    "Due to symmetry ($r_{-\\lambda} = r_\\lambda$), the normal equations can be rewritten as\n",
    "$$\n",
    "\t\t\t\\begin{pmatrix}\n",
    "\t\t\tr_1 \\\\\n",
    "\t\t\tr_2 \\\\\n",
    "\t\t\tr_2 \\\\\n",
    "\t\t\t\\vdots \\\\\n",
    "\t\t\tr_n\n",
    "\t\t\t\\end{pmatrix} = \\begin{pmatrix}\n",
    "\t\t\tr_0 & r_1 & r_2 & \\cdots & r_{n-1} \\\\\n",
    "\t\t\tr_1 & r_2 & r_3 & \\cdots & r_{n-2} \\\\\n",
    "\t\t\tr_2 & r_3 & r_4 & \\cdots & r_{n-3} \\\\\t\t\t\n",
    "\t\t\t\\vdots & \\vdots & \\vdots & \\ddots & \\vdots \\\\\n",
    "\t\t\tr_{n-1} & r_{n-2} & r_{n-3} & \\cdots & r_{0} \\\\\n",
    "\t\t\t\\end{pmatrix}\\begin{pmatrix}\n",
    "\t\t\ta_1 \\\\\n",
    "\t\t\ta_2 \\\\\n",
    "\t\t\ta_3 \\\\\n",
    "\t\t\t\\vdots \\\\\n",
    "\t\t\ta_n\n",
    "\t\t\t\\end{pmatrix}\n",
    "$$\n",
    "The solution of this system yields optimal predictor coefficients $\\boldsymbol{a}_{\\text{opt}}$ for this block."
   ]
  },
  {
   "cell_type": "code",
   "execution_count": null,
   "metadata": {},
   "outputs": [],
   "source": [
    "# helper function calculating the auto-correlation coefficient r\n",
    "def get_r(x, l):    \n",
    "    x_shift = np.roll(x,l)\n",
    "    x_shift[:l] = 0        \n",
    "    return np.correlate(x,x_shift)[0]\n",
    "    \n",
    "    \n",
    "def get_prediction_coefficients(x, n):\n",
    "    r = np.array([get_r(x,k) for k in np.arange(1,n+1)])\n",
    "    R = np.array([np.concatenate(([get_r(x,j) for j in np.arange(i,0,-1)], [get_r(x,j) for j in np.arange(0,n-i)])) for i in range(n)])    \n",
    "    \n",
    "    a_opt = np.linalg.inv(R) @ r\n",
    "    return a_opt"
   ]
  },
  {
   "cell_type": "code",
   "execution_count": null,
   "metadata": {},
   "outputs": [],
   "source": [
    "# block prediction with N samples per block and predictor order n\n",
    "def block_prediction(x, n, N):\n",
    "    if n==0:\n",
    "        return x\n",
    "    \n",
    "    frames = int(np.floor(len(x) / N))\n",
    "\n",
    "    # prediction error\n",
    "    d = np.zeros_like(x)\n",
    "\n",
    "    # no adaptation for first frame\n",
    "    a = np.zeros(n)\n",
    "\n",
    "    # filter memory\n",
    "    memory = np.zeros(n)\n",
    "\n",
    "    for k0 in range(frames):\n",
    "        x_part = x[np.arange(N)+k0*N]\n",
    "\n",
    "        # compute prediction coefficients on current block\n",
    "        a = get_prediction_coefficients(x_part, n)               \n",
    "        \n",
    "        xh_part, memory = lfilter(np.concatenate(([0], a)), 1, x_part, zi=memory)\n",
    "        d[np.arange(len(xh_part)) + k0*N] = x_part - xh_part\n",
    "        \n",
    "\n",
    "    return d    "
   ]
  },
  {
   "cell_type": "code",
   "execution_count": null,
   "metadata": {},
   "outputs": [],
   "source": [
    "# compute prediction gains for two different audio files, 20 ms blocks\n",
    "N = int(sampling_rate * 0.02)\n",
    "\n",
    "Gp_block = []\n",
    "for n in n_range:\n",
    "    d = block_prediction(x, n, N)        \n",
    "    Gp_block.append(np.mean(np.square(x)) / np.mean(np.square(d)))"
   ]
  },
  {
   "cell_type": "code",
   "execution_count": null,
   "metadata": {},
   "outputs": [],
   "source": [
    "font = {'size'   : 18}\n",
    "plt.rc('font', **font)\n",
    "plt.rc('text', usetex=True if shutil.which('latex') else False)\n",
    "plt.figure(figsize=(8, 5))\n",
    "\n",
    "plt.plot(n_range, 10*np.log10(Gp), ms=5, marker='o')\n",
    "\n",
    "plt.plot(n_range, 10*np.log10(Gp_block), '--',ms=5, marker='o')\n",
    "\n",
    "    \n",
    "plt.xlim((0,30))\n",
    "plt.ylim((0,15))\n",
    "plt.xlabel('$n$')\n",
    "plt.grid(True)\n",
    "plt.ylabel('$10\\log_{10}(G_{\\mathsf{p}})$')\n",
    "plt.legend(['Fixed predictor coefficients', 'Block adaptation ($N=%d$)' % N], loc=4)         \n",
    "#plt.savefig('figure_DST_6.11.pdf',bbox_inches='tight')"
   ]
  },
  {
   "cell_type": "markdown",
   "metadata": {},
   "source": [
    "Generate prediction error and predicted signal"
   ]
  },
  {
   "cell_type": "code",
   "execution_count": null,
   "metadata": {},
   "outputs": [],
   "source": [
    "n = 30\n",
    "d = block_prediction(x, n, N)    \n",
    "xh = x-d"
   ]
  },
  {
   "cell_type": "markdown",
   "metadata": {},
   "source": [
    "Playback original signal"
   ]
  },
  {
   "cell_type": "code",
   "execution_count": null,
   "metadata": {},
   "outputs": [],
   "source": [
    "ipd.Audio(x, rate=sampling_rate)"
   ]
  },
  {
   "cell_type": "markdown",
   "metadata": {},
   "source": [
    "Playback predicted signal"
   ]
  },
  {
   "cell_type": "code",
   "execution_count": null,
   "metadata": {},
   "outputs": [],
   "source": [
    "ipd.Audio(xh, rate=sampling_rate)"
   ]
  },
  {
   "cell_type": "markdown",
   "metadata": {},
   "source": [
    "Playback prediction error"
   ]
  },
  {
   "cell_type": "code",
   "execution_count": null,
   "metadata": {},
   "outputs": [],
   "source": [
    "ipd.Audio(d, rate=sampling_rate)"
   ]
  },
  {
   "cell_type": "markdown",
   "metadata": {},
   "source": [
    "Plot waveforms"
   ]
  },
  {
   "cell_type": "code",
   "execution_count": null,
   "metadata": {},
   "outputs": [],
   "source": [
    "x_max = np.max([np.max(x), -np.min(x)])\n",
    "\n",
    "plt.figure(figsize=(10, 11))\n",
    "plt.subplot(3,1,1)\n",
    "librosa.display.waveshow(x, sr=sampling_rate)\n",
    "plt.title('Original')\n",
    "plt.ylim((-x_max*1.2,+x_max*1.2))\n",
    "plt.subplot(3,1,2)\n",
    "librosa.display.waveshow(xh, sr=sampling_rate)\n",
    "plt.title('Predicted signal')\n",
    "plt.ylim((-x_max*1.2,+x_max*1.2))\n",
    "plt.subplot(3,1,3)\n",
    "librosa.display.waveshow(d, sr=sampling_rate)\n",
    "plt.title('Prediction error')\n",
    "plt.ylim((-x_max*2.2,+x_max*2.2))\n",
    "plt.tight_layout()"
   ]
  },
  {
   "cell_type": "code",
   "execution_count": null,
   "metadata": {},
   "outputs": [],
   "source": []
  }
 ],
 "metadata": {
  "kernelspec": {
   "display_name": "Python 3 (ipykernel)",
   "language": "python",
   "name": "python3"
  },
  "language_info": {
   "codemirror_mode": {
    "name": "ipython",
    "version": 3
   },
   "file_extension": ".py",
   "mimetype": "text/x-python",
   "name": "python",
   "nbconvert_exporter": "python",
   "pygments_lexer": "ipython3",
   "version": "3.10.14"
  }
 },
 "nbformat": 4,
 "nbformat_minor": 4
}
