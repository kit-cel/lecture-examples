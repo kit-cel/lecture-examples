{
 "cells": [
  {
   "cell_type": "markdown",
   "metadata": {},
   "source": [
    "# Content and Objective"
   ]
  },
  {
   "cell_type": "markdown",
   "metadata": {},
   "source": [
    "- Generating sigma-algebra when being provided with a probability space $\\Omega$ and a subset of its power set: $M\\subset \\mathcal{P}(\\Omega)$\n",
    "- Realization by adding unions, intersections and complements of existing sets and stopping if no more changes are made"
   ]
  },
  {
   "cell_type": "markdown",
   "metadata": {},
   "source": [
    "# Import"
   ]
  },
  {
   "cell_type": "code",
   "execution_count": 13,
   "metadata": {},
   "outputs": [],
   "source": [
    "# importing\n",
    "import numpy as np\n",
    "\n",
    "import itertools"
   ]
  },
  {
   "cell_type": "markdown",
   "metadata": {},
   "source": [
    "# Parameters"
   ]
  },
  {
   "cell_type": "code",
   "execution_count": 14,
   "metadata": {},
   "outputs": [],
   "source": [
    "# defining Omega and M\n",
    "\n",
    "# switching scenario\n",
    "if 0:\n",
    "    ###\n",
    "    # first option: using dice\n",
    "    ###\n",
    "    \n",
    "    # use dice with N_dice sides\n",
    "    N_dice = 6\n",
    "    Omega = list( range( 1, N_dice + 1 ) )\n",
    "\n",
    "    # M: subset of power set for getting sigma(M)\n",
    "    M = [ [1,2] ]\n",
    "    M = [ [1,2] , [5] ]\n",
    "    M = [ [1], [3,5] ]\n",
    "    #M = [ [1,2] , [3], [5] ]    \n",
    "    #M = [ [2], [4], [6] ]\n",
    "    #M = [ [i] for i in range( 1, N_dice + 1 ) ]\n",
    "\n",
    "else:\n",
    "    ###\n",
    "    # second option: use symbols out of exam 2013 F\n",
    "    ###\n",
    "    Omega = [ 'V', 'O', 'K', 'H', 'D' ]\n",
    "    M = [ ['H'], ['V','D'] ]\n",
    "\n",
    "\n",
    "# mapping to sets for sigma-algebra operations\n",
    "# M being used as list of sets\n",
    "Omega = set( Omega )\n",
    "M = [ set(m) for m in M ]"
   ]
  },
  {
   "cell_type": "markdown",
   "metadata": {},
   "source": [
    "# Generate Sigma-Algebra"
   ]
  },
  {
   "cell_type": "code",
   "execution_count": 15,
   "metadata": {},
   "outputs": [],
   "source": [
    "# initialize sigma-set by copying set M\n",
    "sig_alg = M.copy()\n",
    "\n",
    "# define boolean switch for controlling while loop\n",
    "one_more_loop = True\n",
    "\n",
    "# loop until no changes have been made\n",
    "while one_more_loop:\n",
    "    \n",
    "    # current number of subsets\n",
    "    N = len( sig_alg )\n",
    "    \n",
    "    # initialize new sets to be added to sigma algebra\n",
    "    new_sets = []\n",
    "    \n",
    "    # loop for size of \"set of subset-elements\"\n",
    "    for _n in range( 2, N + 1 ):\n",
    "        \n",
    "        # choose all subsets of sig_alg consisting of _n elements (i.e., _n sets already contained in sig_alg)\n",
    "        # NOTE: \"elements\" being subsets of Omega, so subsets is a list of sets !\n",
    "        subsets = list( itertools.combinations( sig_alg, _n ) )\n",
    "        \n",
    "        # add union and intersection of all subsets\n",
    "        # NOTE: every s is a set of sets (formatted as list of sets ;-) )\n",
    "        for s in subsets:            \n",
    "\n",
    "            # add unions of subsets if not already done\n",
    "            new_s = set().union( *s )\n",
    "            if not ( new_s in sig_alg or new_s in new_sets ):\n",
    "                new_sets.append( new_s )\n",
    "                \n",
    "            # add intersections of subsets if not already done\n",
    "            new_s = set().intersection( *s )\n",
    "            if not ( new_s in sig_alg or new_s in new_sets ):\n",
    "                new_sets.append( new_s )\n",
    "                \n",
    "    # add to sigma algebra\n",
    "    sig_alg.extend( new_sets )\n",
    "                \n",
    "        \n",
    "    # add complements\n",
    "    new_sets_diff = []\n",
    "    \n",
    "    for s in sig_alg:\n",
    " \n",
    "        # add complements of subsets if necessary \n",
    "        new_s = Omega.difference( s )\n",
    "        if not ( new_s in sig_alg or new_s in new_sets_diff ):\n",
    "            new_sets_diff.append( new_s )\n",
    "\n",
    "    # add to sigma algebra\n",
    "    sig_alg.extend( new_sets_diff )\n",
    "    \n",
    "    \n",
    "    # check whether last loop has done anything \n",
    "    one_more_loop = ( len( sig_alg ) != N )\n",
    "    \n",
    "    # check whether max. number of elements is reached\n",
    "    # NOTE: power set of a given set has 2**K elements if K = |Omega| and sig_alg is never \"more\" than the power set\n",
    "    if len( sig_alg ) == 2**( len( Omega ) ):\n",
    "        one_more_loop = False\n",
    "        "
   ]
  },
  {
   "cell_type": "markdown",
   "metadata": {},
   "source": [
    "# Printing"
   ]
  },
  {
   "cell_type": "code",
   "execution_count": 16,
   "metadata": {},
   "outputs": [
    {
     "name": "stdout",
     "output_type": "stream",
     "text": [
      "Omega = {'K', 'D', 'V', 'H', 'O'}\n",
      "M = [{'H'}, {'D', 'V'}]\n",
      "\n",
      "Number of elements in sigma-algebra sig(M): 8\n",
      "\n",
      "Sigma-algebra:\n",
      "------------------------------\n",
      "[set(), {'H'}, {'D', 'V'}, {'O', 'K'}, {'H', 'D', 'V'}, {'H', 'O', 'K'}, {'O', 'K', 'D', 'V'}, {'O', 'K', 'D', 'V', 'H'}]\n"
     ]
    }
   ],
   "source": [
    "print('Omega = {}'.format( Omega ) )\n",
    "print('M = {}'.format( M ) )\n",
    "\n",
    "print('\\nNumber of elements in sigma-algebra sig(M): {}'.format( len( sig_alg ) ) )    \n",
    "\n",
    "print('\\nSigma-algebra:')\n",
    "print('------------------------------')\n",
    "print( sorted( sig_alg, key=lambda tup: len(tup) ) )"
   ]
  },
  {
   "cell_type": "code",
   "execution_count": 17,
   "metadata": {},
   "outputs": [
    {
     "data": {
      "text/plain": [
       "0.32142857142857145"
      ]
     },
     "execution_count": 17,
     "metadata": {},
     "output_type": "execute_result"
    }
   ],
   "source": [
    "45/140"
   ]
  },
  {
   "cell_type": "code",
   "execution_count": null,
   "metadata": {},
   "outputs": [],
   "source": []
  }
 ],
 "metadata": {
  "kernelspec": {
   "display_name": "Python 3",
   "language": "python",
   "name": "python3"
  },
  "language_info": {
   "codemirror_mode": {
    "name": "ipython",
    "version": 3
   },
   "file_extension": ".py",
   "mimetype": "text/x-python",
   "name": "python",
   "nbconvert_exporter": "python",
   "pygments_lexer": "ipython3",
   "version": "3.11.6"
  }
 },
 "nbformat": 4,
 "nbformat_minor": 4
}
