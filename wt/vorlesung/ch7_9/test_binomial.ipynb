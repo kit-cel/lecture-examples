{
 "cells": [
  {
   "attachments": {},
   "cell_type": "markdown",
   "metadata": {},
   "source": [
    "# Content and Objective\n",
    "\n",
    "+ Show effects in hypothesis testing for binmomial distribution\n",
    "    + Given: theoretical pmf of binomial \n",
    "    + Add \"higher\" values to \"red area\", describing the event \"probability of $H_1$ under hypothesis $H_=$\n",
    "    + Resulting error of first kind is calculated "
   ]
  },
  {
   "cell_type": "markdown",
   "metadata": {},
   "source": [
    "# Import"
   ]
  },
  {
   "cell_type": "code",
   "execution_count": 1,
   "metadata": {},
   "outputs": [],
   "source": [
    "# importing\n",
    "import numpy as np\n",
    "import scipy.signal as signal\n",
    "import scipy.stats as stats\n",
    "import scipy as sp\n",
    "\n",
    "import matplotlib.pyplot as plt\n",
    "import matplotlib\n",
    "\n",
    "from matplotlib import animation, rc\n",
    "from matplotlib.animation import PillowWriter # Disable if you don't want to save any GIFs.\n",
    "\n",
    "from ipywidgets import interactive\n",
    "import ipywidgets as widgets\n",
    "\n",
    "# showing figures inline\n",
    "%matplotlib inline"
   ]
  },
  {
   "cell_type": "code",
   "execution_count": 2,
   "metadata": {},
   "outputs": [],
   "source": [
    "# plotting options \n",
    "font = {'size'   : 30}\n",
    "plt.rc('font', **font)\n",
    "plt.rc('text', usetex=False)\n",
    "\n",
    "matplotlib.rc('figure', figsize=(12, 6) )"
   ]
  },
  {
   "cell_type": "markdown",
   "metadata": {},
   "source": [
    "# Here we go"
   ]
  },
  {
   "cell_type": "code",
   "execution_count": 3,
   "metadata": {},
   "outputs": [],
   "source": [
    "# parameter theta\n",
    "\n",
    "theta = np.random.rand()\n",
    "\n",
    "if 1:\n",
    "    theta = 0.5\n",
    "\n",
    "# prob. \"vector\"; pmf of 0/1\n",
    "p = np.array( [1-theta, theta] )"
   ]
  },
  {
   "cell_type": "code",
   "execution_count": 4,
   "metadata": {},
   "outputs": [],
   "source": [
    "# define pmf of binomial under hypothesis theta\n",
    "\n",
    "def get_pmf_under_H_0( N ):\n",
    "    '''\n",
    "    returns pmf of a Binomial( N, 0.5 )\n",
    "    '''\n",
    "\n",
    "    k_range = np.arange( 0, N+1 )\n",
    "\n",
    "    pmf = sp.special.binom( N, k_range ) * 0.5**N\n",
    "\n",
    "    return pmf"
   ]
  },
  {
   "cell_type": "code",
   "execution_count": 5,
   "metadata": {},
   "outputs": [],
   "source": [
    "# get value for ensuring that test has niveau alpha\n",
    "# to that end, values of pmf are being summed up, starting from n, as long as P( H_1 | H_0 ) < alpha\n",
    "#\n",
    "# NOTE: If return value equals n+1 then not a single bin can be counted towards K_1\n",
    "\n",
    "def find_bound_in_test( N, alpha ):\n",
    "\n",
    "    pmf = get_pmf_under_H_0( N )\n",
    "\n",
    "    k = N+1\n",
    "    sum = 0.0\n",
    "\n",
    "    for _n in range( N, 0, -1 ):\n",
    "\n",
    "        sum += pmf[ _n ]\n",
    "\n",
    "        if sum > alpha:\n",
    "            break\n",
    "\n",
    "\n",
    "    return _n + 1\n",
    "\n",
    "#print( find_bound_in_test( 10, .) )\n"
   ]
  },
  {
   "cell_type": "code",
   "execution_count": 6,
   "metadata": {},
   "outputs": [
    {
     "data": {
      "application/vnd.jupyter.widget-view+json": {
       "model_id": "3cf33f4cbb6a411aa62217265e9f6ff9",
       "version_major": 2,
       "version_minor": 0
      },
      "text/plain": [
       "interactive(children=(IntSlider(value=10, continuous_update=False, description='observation length n', layout=…"
      ]
     },
     "execution_count": 6,
     "metadata": {},
     "output_type": "execute_result"
    }
   ],
   "source": [
    "\n",
    "# interactive plotting function\n",
    "def show_test( N, alpha ):\n",
    "\n",
    "\n",
    "    # lower bound for K_1\n",
    "    k = find_bound_in_test( N, alpha )\n",
    "\n",
    "    # get pmf under H_0\n",
    "    pmf = get_pmf_under_H_0( N )\n",
    "\n",
    "    pmf_K_0 = np.copy( pmf )\n",
    "    pmf_K_0[ k: ] = 0\n",
    "    \n",
    "    pmf_K_1 = np.copy( pmf )\n",
    "    pmf_K_1[ :k ] = 0\n",
    "\n",
    "    print( 'Min. required no. of hits:\\t{}'.format( k ) )\n",
    "    print( 'Actual prob. error 1. kind:\\t{}'.format( np.sum( pmf_K_1 )) )\n",
    "\n",
    "\n",
    "    # figure for time signals\n",
    "    plt.figure( figsize=( 10, 4 ) )\n",
    "    font = {'size'   : 14}\n",
    "    plt.rc('font', **font)\n",
    "    plt.rc('text', usetex=matplotlib.checkdep_usetex(False))\n",
    "\n",
    "\n",
    "    plt.bar( np.arange( 0, N+1 ), pmf_K_0 )\n",
    "    plt.bar( np.arange( 0, N+1 ), pmf_K_1, color='red' )\n",
    "\n",
    "    plt.xlabel(r'$k$',fontsize=14)\n",
    "    plt.ylabel(r'$P_{H_0}(k)$',fontsize=14)\n",
    "    plt.grid( True )\n",
    "\n",
    "\n",
    "interactive_update = interactive( \n",
    "    show_test, \n",
    "    N = widgets.IntSlider(\n",
    "            min = 10, max = 100, step = 1, value = 10, \n",
    "            continuous_update = False, \n",
    "            description = 'observation length n', \n",
    "            style={'description_width': 'initial'}, \n",
    "            layout=widgets.Layout(width='50%'),\n",
    "            align_items='center',\n",
    "            ),\n",
    "    alpha = widgets.FloatSlider(\n",
    "            min = 0.0, max = 0.5, step = 0.001, value = 0.1, \n",
    "            continuous_update = False, \n",
    "            description = 'niveau alpha', \n",
    "            style={'description_width': 'initial'}, \n",
    "            layout=widgets.Layout(width='50%'),\n",
    "            align_items='left',\n",
    "            )\n",
    "    )\n",
    "\n",
    "\n",
    "output = interactive_update.children[-1]\n",
    "output.layout.height = '500px'\n",
    "interactive_update"
   ]
  },
  {
   "cell_type": "markdown",
   "metadata": {},
   "source": []
  }
 ],
 "metadata": {
  "kernelspec": {
   "display_name": "base",
   "language": "python",
   "name": "python3"
  },
  "language_info": {
   "codemirror_mode": {
    "name": "ipython",
    "version": 3
   },
   "file_extension": ".py",
   "mimetype": "text/x-python",
   "name": "python",
   "nbconvert_exporter": "python",
   "pygments_lexer": "ipython3",
   "version": "3.11.6"
  },
  "vscode": {
   "interpreter": {
    "hash": "1bf9b466e818f114aa88684763663e3f92502a9e77792b1f61dabc3003ef1245"
   }
  }
 },
 "nbformat": 4,
 "nbformat_minor": 4
}
