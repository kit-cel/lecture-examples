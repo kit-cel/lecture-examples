{
 "cells": [
  {
   "attachments": {},
   "cell_type": "markdown",
   "metadata": {},
   "source": [
    "# Content and Objective\n",
    "\n",
    "+ Show result of chi-square test for uniform distribution:\n",
    "    + Sample uniformly distributed values in [0 : N_random ]\n",
    "    + Get chi-square test statistics and compare to value of chi-square quantile\n",
    "    + You may use actually random samples or example of the lecture"
   ]
  },
  {
   "cell_type": "markdown",
   "metadata": {},
   "source": [
    "# Import"
   ]
  },
  {
   "cell_type": "code",
   "execution_count": 1,
   "metadata": {},
   "outputs": [],
   "source": [
    "# importing\n",
    "import numpy as np\n",
    "import scipy.signal as signal\n",
    "import scipy.stats as stats\n",
    "import scipy as sp\n",
    "\n",
    "import matplotlib.pyplot as plt\n",
    "import matplotlib\n",
    "\n",
    "from ipywidgets import interactive\n",
    "import ipywidgets as widgets\n",
    "\n",
    "# showing figures inline\n",
    "%matplotlib inline"
   ]
  },
  {
   "cell_type": "code",
   "execution_count": 2,
   "metadata": {},
   "outputs": [],
   "source": [
    "# plotting options \n",
    "font = {'size'   : 30}\n",
    "plt.rc('font', **font)\n",
    "plt.rc('text', usetex=True)\n",
    "\n",
    "matplotlib.rc('figure', figsize=(24, 12) )"
   ]
  },
  {
   "cell_type": "markdown",
   "metadata": {},
   "source": [
    "# Here we go"
   ]
  },
  {
   "cell_type": "code",
   "execution_count": 3,
   "metadata": {},
   "outputs": [],
   "source": [
    "# number of elements for random sampling\n",
    "# 6 equalling die, 2 equalling coin, etc.\n",
    "N_random = 6\n",
    "\n",
    "# vector of prob. to be test for H_0\n",
    "# You may also define different pmf if you like to\n",
    "p = np.ones( N_random ) / N_random"
   ]
  },
  {
   "cell_type": "code",
   "execution_count": 4,
   "metadata": {},
   "outputs": [
    {
     "name": "stdout",
     "output_type": "stream",
     "text": [
      "[30 25 18 10 22 15]\n"
     ]
    }
   ],
   "source": [
    "# define number of observations\n",
    "N = 100\n",
    "\n",
    "# get no. of \"hits\" when using simulated dice\n",
    "sample = np.random.choice( range( 1, N_random + 1 ), size = N, p = p )\n",
    "\n",
    "# get no. of values by checking how often sample == _n + 1 is TRUE\n",
    "# NOTE: indexing in Python starts at 0, so _n + 1 has to be used\n",
    "h = np.zeros( N_random )\n",
    "\n",
    "for _n in range( N_random ):\n",
    "    h[ _n ] = np.sum( sample == _n + 1 )\n",
    "\n",
    "###\n",
    "# select this one if you want to have the (determinstic) example of [K. Bosch: Elementare Einführung in die angewandte Statistik, Vieweg]\n",
    "###\n",
    "if 1:\n",
    "    N = 120\n",
    "    h = np.array( [ 30, 25, 18, 10, 22, 15 ] )\n",
    "\n",
    "\n",
    "print( h )"
   ]
  },
  {
   "cell_type": "code",
   "execution_count": 5,
   "metadata": {},
   "outputs": [
    {
     "name": "stdout",
     "output_type": "stream",
     "text": [
      "Test statistic for 120 trials: \t12.899999999999999\n"
     ]
    }
   ],
   "source": [
    "# determine chi-square test value\n",
    "t = np.sum( ( h - N * p )**2 / ( N * p  ) )\n",
    "\n",
    "print( 'Test statistic for {} trials: \\t{}'.format( N, t ) )"
   ]
  },
  {
   "cell_type": "code",
   "execution_count": 6,
   "metadata": {},
   "outputs": [
    {
     "name": "stdout",
     "output_type": "stream",
     "text": [
      "Value of chi square quantile: 9.236356899781123\n"
     ]
    }
   ],
   "source": [
    "# define niveau alpha\n",
    "alpha = 0.1\n",
    "\n",
    "\n",
    "# get quantiles of chi2\n",
    "chi2 = stats.chi2.ppf( 1 - alpha, N_random - 1 )\n",
    "\n",
    "\n",
    "print( 'Value of chi square quantile: {}'.format( chi2 ) )"
   ]
  },
  {
   "cell_type": "code",
   "execution_count": 7,
   "metadata": {},
   "outputs": [
    {
     "name": "stdout",
     "output_type": "stream",
     "text": [
      "Results of test:\n",
      "----------------\n",
      "\n",
      "Hypothesis: \t\t[0.16666667 0.16666667 0.16666667 0.16666667 0.16666667 0.16666667]\n",
      "Observations: \t\t[30 25 18 10 22 15]\n",
      "\n",
      "Empirical value: \t12.899999999999999\n",
      "Chi square quantile: \t9.236356899781123\n",
      "\n",
      "Niveau: \t\t0.1\n",
      "Test result: \t\tH_0 declined with respect to error probability 0.1\n"
     ]
    }
   ],
   "source": [
    "print( 'Results of test:' )\n",
    "print( '----------------\\n' )\n",
    "\n",
    "\n",
    "print( 'Hypothesis: \\t\\t{}'.format( p ) )\n",
    "print( 'Observations: \\t\\t{}'.format( h ) ) \n",
    "\n",
    "print()\n",
    "print( 'Empirical value: \\t{}'.format( t ) )\n",
    "print( 'Chi square quantile: \\t{}'.format( chi2 ) )\n",
    "\n",
    "print()\n",
    "test_result = 'H_0 declined' if t > chi2 else 'H_0 not declined'\n",
    "\n",
    "print( 'Niveau: \\t\\t{}'.format( alpha) ) \n",
    "print( 'Test result: \\t\\t' + test_result + ' with respect to error probability {}'.format( alpha) )\n",
    "\n"
   ]
  },
  {
   "cell_type": "markdown",
   "metadata": {},
   "source": [
    "# Now some graphical illustration"
   ]
  },
  {
   "cell_type": "code",
   "execution_count": 8,
   "metadata": {},
   "outputs": [],
   "source": [
    "# define pdf of chi2 distribution\n",
    "\n",
    "def get_pdf_under_H_0( x, degrees_of_freedom ):\n",
    "    '''\n",
    "    returns pdf of a chi2( degrees_of_freedom )\n",
    "    '''\n",
    "\n",
    "    pdf = stats.chi2.pdf( x, degrees_of_freedom )\n",
    "\n",
    "    return pdf"
   ]
  },
  {
   "cell_type": "code",
   "execution_count": 9,
   "metadata": {},
   "outputs": [],
   "source": [
    "# get value for ensuring that test has niveau alpha\n",
    "# to that end, values of pdf are integrated, starting from t, as long as P( H_1 | H_0 ) < alpha\n",
    "#\n",
    "# Note: integration is performed numerically, starting von 5 * degrees_of_freedom\n",
    "#       i case of very precise results, increasing upper limit or finer sampling of x might be necessary\n",
    "\n",
    "def find_index_of_bound_in_test( x, degrees_of_freedom, alpha ):\n",
    "\n",
    "    # get pdf of chi2 \n",
    "    pdf = get_pdf_under_H_0( x, degrees_of_freedom )\n",
    "\n",
    "    # init values for numerical integration\n",
    "    delta_x = x[1] - x[0]\n",
    "    upper_limit = 3 * degrees_of_freedom\n",
    "    sum = 0.0\n",
    "\n",
    "    # step from upper limit towards 0 until niveau alpha is violated\n",
    "    for _n in range( len(x), 0, -1 ):\n",
    "\n",
    "        sum += pdf[ _n - 1 ] * delta_x\n",
    "        if sum > alpha:\n",
    "            break\n",
    "\n",
    "    return _n + 1"
   ]
  },
  {
   "cell_type": "code",
   "execution_count": 10,
   "metadata": {},
   "outputs": [
    {
     "data": {
      "application/vnd.jupyter.widget-view+json": {
       "model_id": "14451650e7e94e39adcaf13d4eed4752",
       "version_major": 2,
       "version_minor": 0
      },
      "text/plain": [
       "interactive(children=(IntSlider(value=10, continuous_update=False, description='Number of classes r', layout=L…"
      ]
     },
     "execution_count": 10,
     "metadata": {},
     "output_type": "execute_result"
    }
   ],
   "source": [
    "\n",
    "# interactive plotting function\n",
    "def show_test( N_random, alpha ):\n",
    "\n",
    "    # numerical values for sampling pdf\n",
    "    delta_x = 0.1\n",
    "    x = np.arange( 0, 5 * ( N_random-1), delta_x )\n",
    "\n",
    "    # lower bound for K_1\n",
    "    k = find_index_of_bound_in_test( x, N_random-1, alpha )\n",
    "\n",
    "    # get pmf under H_0\n",
    "    pdf = get_pdf_under_H_0( x, N_random - 1 )\n",
    "\n",
    "    pdf_K_0 = np.copy( pdf )\n",
    "    pdf_K_0[ k: ] = 0\n",
    "    \n",
    "    pdf_K_1 = np.copy( pdf )\n",
    "    pdf_K_1[ : k-1 ] = 0\n",
    "\n",
    "    print( 'Min. required t:\\t\\t{}'.format( x[ k ] ) )\n",
    "    print( 'Actual prob. error 1. kind:\\t{}'.format( np.sum( delta_x * pdf_K_1 )) )\n",
    "\n",
    "\n",
    "    # figure for time signals\n",
    "    plt.figure( figsize=( 10, 4 ) )\n",
    "    font = {'size'   : 14}\n",
    "    plt.rc('font', **font)\n",
    "    plt.rc('text', usetex=False)\n",
    "\n",
    "\n",
    "    plt.fill_between( x, pdf_K_0 )\n",
    "    plt.fill_between( x, pdf_K_1, color='red' )\n",
    "\n",
    "    plt.xlabel(r'$x$',fontsize=14)\n",
    "    #plt.ylabel(r'$P_{H_0}(k)$',fontsize=14)\n",
    "    plt.grid( True )\n",
    "\n",
    "\n",
    "interactive_update = interactive( \n",
    "    show_test, \n",
    "    N_random = widgets.IntSlider(\n",
    "            min = 5, max = 100, step = 1, value = 10, \n",
    "            continuous_update = False, \n",
    "            description = 'Number of classes r', \n",
    "            style={'description_width': 'initial'}, \n",
    "            layout=widgets.Layout(width='50%'),\n",
    "            align_items='center',\n",
    "            ),\n",
    "    alpha = widgets.FloatSlider(\n",
    "            min = 0.0, max = 0.5, step = 0.001, value = 0.05, \n",
    "            continuous_update = False, \n",
    "            description = 'niveau alpha', \n",
    "            style={'description_width': 'initial'}, \n",
    "            layout=widgets.Layout(width='50%'),\n",
    "            align_items='left',\n",
    "            )\n",
    "    )\n",
    "\n",
    "\n",
    "output = interactive_update.children[-1]\n",
    "output.layout.height = '500px'\n",
    "interactive_update"
   ]
  },
  {
   "cell_type": "code",
   "execution_count": null,
   "metadata": {},
   "outputs": [],
   "source": []
  },
  {
   "cell_type": "code",
   "execution_count": null,
   "metadata": {},
   "outputs": [],
   "source": []
  }
 ],
 "metadata": {
  "kernelspec": {
   "display_name": "base",
   "language": "python",
   "name": "python3"
  },
  "language_info": {
   "codemirror_mode": {
    "name": "ipython",
    "version": 3
   },
   "file_extension": ".py",
   "mimetype": "text/x-python",
   "name": "python",
   "nbconvert_exporter": "python",
   "pygments_lexer": "ipython3",
   "version": "3.11.6"
  },
  "vscode": {
   "interpreter": {
    "hash": "1bf9b466e818f114aa88684763663e3f92502a9e77792b1f61dabc3003ef1245"
   }
  }
 },
 "nbformat": 4,
 "nbformat_minor": 4
}
